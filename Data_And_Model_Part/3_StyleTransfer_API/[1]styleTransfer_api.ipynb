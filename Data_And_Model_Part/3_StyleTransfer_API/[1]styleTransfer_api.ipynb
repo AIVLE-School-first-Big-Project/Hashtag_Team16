{
 "cells": [
  {
   "cell_type": "code",
   "execution_count": 1,
   "id": "9495e436",
   "metadata": {
    "ExecuteTime": {
     "end_time": "2022-05-06T05:40:54.426845Z",
     "start_time": "2022-05-06T05:40:54.390937Z"
    }
   },
   "outputs": [
    {
     "data": {
      "text/plain": [
       "' 모듈화 '"
      ]
     },
     "execution_count": 1,
     "metadata": {},
     "output_type": "execute_result"
    }
   ],
   "source": [
    "''' 모듈화 '''"
   ]
  },
  {
   "cell_type": "code",
   "execution_count": 2,
   "id": "b22b5380",
   "metadata": {
    "ExecuteTime": {
     "end_time": "2022-05-06T05:41:08.969315Z",
     "start_time": "2022-05-06T05:40:54.431826Z"
    }
   },
   "outputs": [],
   "source": [
    "from flask import Flask\n",
    "from flask import request\n",
    "from werkzeug.utils import secure_filename\n",
    "import numpy as np\n",
    "import tensorflow as tf\n",
    "import pandas as pd\n",
    "import joblib\n",
    "import json\n",
    "import uuid\n",
    "import base64\n",
    "\n",
    "# 필요한 PyTorch 라이브러리 불러오기\n",
    "import torch\n",
    "import torch.nn as nn\n",
    "from torchvision import transforms\n",
    "from torchvision.utils import save_image\n",
    "from PIL import Image\n",
    "from IPython.display import Image as display_image\n",
    "import cv2"
   ]
  },
  {
   "cell_type": "markdown",
   "id": "bb4338c9",
   "metadata": {},
   "source": [
    "# 이미지 스타일 전이 관련"
   ]
  },
  {
   "cell_type": "code",
   "execution_count": 3,
   "id": "e2fd6e83",
   "metadata": {
    "ExecuteTime": {
     "end_time": "2022-05-06T05:41:09.238604Z",
     "start_time": "2022-05-06T05:41:08.973306Z"
    }
   },
   "outputs": [],
   "source": [
    "# 인코더(Encoder) 정의\n",
    "vgg = nn.Sequential(\n",
    "    nn.Conv2d(3, 3, (1, 1)),\n",
    "    nn.ReflectionPad2d((1, 1, 1, 1)),\n",
    "    nn.Conv2d(3, 64, (3, 3)),\n",
    "    nn.ReLU(), # relu1-1\n",
    "    nn.ReflectionPad2d((1, 1, 1, 1)),\n",
    "    nn.Conv2d(64, 64, (3, 3)),\n",
    "    nn.ReLU(), # relu1-2\n",
    "    nn.MaxPool2d((2, 2), (2, 2), (0, 0), ceil_mode=True),\n",
    "    nn.ReflectionPad2d((1, 1, 1, 1)),\n",
    "    nn.Conv2d(64, 128, (3, 3)),\n",
    "    nn.ReLU(), # relu2-1\n",
    "    nn.ReflectionPad2d((1, 1, 1, 1)),\n",
    "    nn.Conv2d(128, 128, (3, 3)),\n",
    "    nn.ReLU(), # relu2-2\n",
    "    nn.MaxPool2d((2, 2), (2, 2), (0, 0), ceil_mode=True),\n",
    "    nn.ReflectionPad2d((1, 1, 1, 1)),\n",
    "    nn.Conv2d(128, 256, (3, 3)),\n",
    "    nn.ReLU(), # relu3-1\n",
    "    nn.ReflectionPad2d((1, 1, 1, 1)),\n",
    "    nn.Conv2d(256, 256, (3, 3)),\n",
    "    nn.ReLU(), # relu3-2\n",
    "    nn.ReflectionPad2d((1, 1, 1, 1)),\n",
    "    nn.Conv2d(256, 256, (3, 3)),\n",
    "    nn.ReLU(), # relu3-3\n",
    "    nn.ReflectionPad2d((1, 1, 1, 1)),\n",
    "    nn.Conv2d(256, 256, (3, 3)),\n",
    "    nn.ReLU(), # relu3-4\n",
    "    nn.MaxPool2d((2, 2), (2, 2), (0, 0), ceil_mode=True),\n",
    "    nn.ReflectionPad2d((1, 1, 1, 1)),\n",
    "    nn.Conv2d(256, 512, (3, 3)),\n",
    "    nn.ReLU(), # relu4-1, this is the last layer used\n",
    "    nn.ReflectionPad2d((1, 1, 1, 1)),\n",
    "    nn.Conv2d(512, 512, (3, 3)),\n",
    "    nn.ReLU(), # relu4-2\n",
    "    nn.ReflectionPad2d((1, 1, 1, 1)),\n",
    "    nn.Conv2d(512, 512, (3, 3)),\n",
    "    nn.ReLU(), # relu4-3\n",
    "    nn.ReflectionPad2d((1, 1, 1, 1)),\n",
    "    nn.Conv2d(512, 512, (3, 3)),\n",
    "    nn.ReLU(), # relu4-4\n",
    "    nn.MaxPool2d((2, 2), (2, 2), (0, 0), ceil_mode=True),\n",
    "    nn.ReflectionPad2d((1, 1, 1, 1)),\n",
    "    nn.Conv2d(512, 512, (3, 3)),\n",
    "    nn.ReLU(), # relu5-1\n",
    "    nn.ReflectionPad2d((1, 1, 1, 1)),\n",
    "    nn.Conv2d(512, 512, (3, 3)),\n",
    "    nn.ReLU(), # relu5-2\n",
    "    nn.ReflectionPad2d((1, 1, 1, 1)),\n",
    "    nn.Conv2d(512, 512, (3, 3)),\n",
    "    nn.ReLU(), # relu5-3\n",
    "    nn.ReflectionPad2d((1, 1, 1, 1)),\n",
    "    nn.Conv2d(512, 512, (3, 3)),\n",
    "    nn.ReLU() # relu5-4\n",
    ")"
   ]
  },
  {
   "cell_type": "code",
   "execution_count": 4,
   "id": "7fa9cda9",
   "metadata": {
    "ExecuteTime": {
     "end_time": "2022-05-06T05:41:09.434091Z",
     "start_time": "2022-05-06T05:41:09.243590Z"
    }
   },
   "outputs": [],
   "source": [
    "# 디코더(Decoder) 정의\n",
    "decoder = nn.Sequential(\n",
    "    nn.ReflectionPad2d((1, 1, 1, 1)),\n",
    "    nn.Conv2d(512, 256, (3, 3)),\n",
    "    nn.ReLU(),\n",
    "    nn.Upsample(scale_factor=2, mode='nearest'),\n",
    "    nn.ReflectionPad2d((1, 1, 1, 1)),\n",
    "    nn.Conv2d(256, 256, (3, 3)),\n",
    "    nn.ReLU(),\n",
    "    nn.ReflectionPad2d((1, 1, 1, 1)),\n",
    "    nn.Conv2d(256, 256, (3, 3)),\n",
    "    nn.ReLU(),\n",
    "    nn.ReflectionPad2d((1, 1, 1, 1)),\n",
    "    nn.Conv2d(256, 256, (3, 3)),\n",
    "    nn.ReLU(),\n",
    "    nn.ReflectionPad2d((1, 1, 1, 1)),\n",
    "    nn.Conv2d(256, 128, (3, 3)),\n",
    "    nn.ReLU(),\n",
    "    nn.Upsample(scale_factor=2, mode='nearest'),\n",
    "    nn.ReflectionPad2d((1, 1, 1, 1)),\n",
    "    nn.Conv2d(128, 128, (3, 3)),\n",
    "    nn.ReLU(),\n",
    "    nn.ReflectionPad2d((1, 1, 1, 1)),\n",
    "    nn.Conv2d(128, 64, (3, 3)),\n",
    "    nn.ReLU(),\n",
    "    nn.Upsample(scale_factor=2, mode='nearest'),\n",
    "    nn.ReflectionPad2d((1, 1, 1, 1)),\n",
    "    nn.Conv2d(64, 64, (3, 3)),\n",
    "    nn.ReLU(),\n",
    "    nn.ReflectionPad2d((1, 1, 1, 1)),\n",
    "    nn.Conv2d(64, 3, (3, 3)),\n",
    ")"
   ]
  },
  {
   "cell_type": "code",
   "execution_count": 5,
   "id": "cb82260e",
   "metadata": {
    "ExecuteTime": {
     "end_time": "2022-05-06T05:41:09.600657Z",
     "start_time": "2022-05-06T05:41:09.437084Z"
    }
   },
   "outputs": [],
   "source": [
    "decoder.eval()\n",
    "vgg.eval()\n",
    "\n",
    "vgg_path = 'vgg_normalised.pth'\n",
    "decoder_path = 'decoder.pth'\n",
    "\n",
    "decoder.load_state_dict(torch.load(decoder_path))\n",
    "vgg.load_state_dict(torch.load(vgg_path))\n",
    "\n",
    "device = torch.device(\"cpu\")\n",
    "vgg.to(device)\n",
    "decoder.to(device)\n",
    "\n",
    "vgg = nn.Sequential(*list(vgg.children())[:31]) # ReLU4_1까지만 사용하기 위해 뒤쪽은 자름."
   ]
  },
  {
   "cell_type": "code",
   "execution_count": 6,
   "id": "841bb307",
   "metadata": {
    "ExecuteTime": {
     "end_time": "2022-05-06T05:41:09.630578Z",
     "start_time": "2022-05-06T05:41:09.604648Z"
    }
   },
   "outputs": [],
   "source": [
    "# 피처맵에 대해 평균과 표준편차를 구해서 리턴하는 함수\n",
    "def calc_mean_std(feat, eps=1e-5):\n",
    "    size = feat.size()\n",
    "    assert (len(size) == 4)\n",
    "    N, C = size[:2]\n",
    "    feat_var = feat.view(N, C, -1).var(dim=2) + eps #하나의 벡터로 만든 뒤, variance를 구해주고, 0이 되지 않도록 작은 값을 더해줌\n",
    "    feat_std = feat_var.sqrt().view(N, C, 1, 1)\n",
    "    feat_mean = feat.view(N, C, -1).mean(dim=2).view(N, C, 1, 1)\n",
    "    return feat_mean, feat_std"
   ]
  },
  {
   "cell_type": "code",
   "execution_count": 7,
   "id": "a9fac0b5",
   "metadata": {
    "ExecuteTime": {
     "end_time": "2022-05-06T05:41:09.661494Z",
     "start_time": "2022-05-06T05:41:09.633571Z"
    }
   },
   "outputs": [],
   "source": [
    "def adaptive_instance_normalization(content_feat, style_feat):\n",
    "    assert (content_feat.size()[:2] == style_feat.size()[:2])\n",
    "    size = content_feat.size()\n",
    "    style_mean, style_std = calc_mean_std(style_feat)\n",
    "    content_mean, content_std = calc_mean_std(content_feat)\n",
    "\n",
    "    # 평균(mean)과 표준편차(std)를 이용하여 정규화 수행\n",
    "    normalized_feat = (content_feat - content_mean.expand(size)) / content_std.expand(size)\n",
    "    # 정규화 이후에 style feature의 statistics를 가지도록 설정\n",
    "    return normalized_feat * style_std.expand(size) + style_mean.expand(size)"
   ]
  },
  {
   "cell_type": "code",
   "execution_count": 8,
   "id": "d4ad984f",
   "metadata": {
    "ExecuteTime": {
     "end_time": "2022-05-06T05:41:09.676455Z",
     "start_time": "2022-05-06T05:41:09.664487Z"
    }
   },
   "outputs": [],
   "source": [
    "def style_transfer(vgg, decoder, content, style, alpha=1.0):\n",
    "    assert (0.0 <= alpha <= 1.0)\n",
    "    content_f = vgg(content)\n",
    "    style_f = vgg(style)\n",
    "    feat = adaptive_instance_normalization(content_f, style_f)\n",
    "    feat = feat * alpha + content_f * (1 - alpha)\n",
    "    return decoder(feat)"
   ]
  },
  {
   "cell_type": "code",
   "execution_count": 9,
   "id": "a6d1529e",
   "metadata": {
    "ExecuteTime": {
     "end_time": "2022-05-06T05:41:09.706377Z",
     "start_time": "2022-05-06T05:41:09.680445Z"
    }
   },
   "outputs": [],
   "source": [
    "def test_transform(size=512):\n",
    "    transform_list = []\n",
    "    if size != 0:\n",
    "        transform_list.append(transforms.Resize(size))\n",
    "    transform_list.append(transforms.ToTensor())\n",
    "    transform = transforms.Compose(transform_list)\n",
    "    return transform"
   ]
  },
  {
   "cell_type": "code",
   "execution_count": 10,
   "id": "6ff97a43",
   "metadata": {
    "ExecuteTime": {
     "end_time": "2022-05-06T05:41:09.721340Z",
     "start_time": "2022-05-06T05:41:09.714355Z"
    }
   },
   "outputs": [],
   "source": [
    "device = torch.device(\"cuda\" if torch.cuda.is_available() else \"cpu\")"
   ]
  },
  {
   "cell_type": "markdown",
   "id": "d9432447",
   "metadata": {},
   "source": [
    "# 서버 실행"
   ]
  },
  {
   "cell_type": "code",
   "execution_count": 11,
   "id": "ae3ac1e0",
   "metadata": {
    "ExecuteTime": {
     "end_time": "2022-05-06T05:41:10.291906Z",
     "start_time": "2022-05-06T05:41:09.727324Z"
    }
   },
   "outputs": [],
   "source": [
    "style_tf1 = test_transform()\n",
    "style_tf2 = test_transform()\n",
    "style_tf3 = test_transform()\n",
    "style_tf4 = test_transform()\n",
    "\n",
    "style1 = style_tf1(Image.open(str('style_image/style1.jpg')))\n",
    "style2 = style_tf2(Image.open(str('style_image/style2.jpg')))\n",
    "style3 = style_tf3(Image.open(str('style_image/style3.jpg')))\n",
    "style4 = style_tf4(Image.open(str('style_image/style4.jfif')))\n",
    "\n",
    "style1 = style1.to(device).unsqueeze(0)\n",
    "style2 = style2.to(device).unsqueeze(0)\n",
    "style3 = style3.to(device).unsqueeze(0)\n",
    "style4 = style4.to(device).unsqueeze(0)\n",
    "\n",
    "style__LS = [style1, style2, style3, style4]"
   ]
  },
  {
   "cell_type": "code",
   "execution_count": 12,
   "id": "d0a4b4c3",
   "metadata": {
    "ExecuteTime": {
     "end_time": "2022-05-06T05:41:10.321829Z",
     "start_time": "2022-05-06T05:41:10.294901Z"
    }
   },
   "outputs": [],
   "source": [
    "# 하나의 스타일에 대해서만 적용.\n",
    "def out_b64_string(secure_name, unique_name, style_num, content, style):\n",
    "    save_style_transfer_image_path = 'save_style_transfer_image/'+ unique_name + secure_name + f'{style_num}.jpg'\n",
    "    with torch.no_grad():\n",
    "        output = style_transfer(vgg, decoder, content, style, alpha=0.5)\n",
    "    output = output.cpu()\n",
    "    \n",
    "    save_image(output, save_style_transfer_image_path)\n",
    "    img = cv2.imread(save_style_transfer_image_path)\n",
    "    jpg_img = cv2.imencode('.jpg', img)\n",
    "    \n",
    "    b64_string = base64.b64encode(jpg_img[1]).decode('utf-8')\n",
    "    \n",
    "    return b64_string"
   ]
  },
  {
   "cell_type": "code",
   "execution_count": null,
   "id": "d13d7290",
   "metadata": {
    "ExecuteTime": {
     "start_time": "2022-05-06T05:40:54.446Z"
    },
    "scrolled": true
   },
   "outputs": [
    {
     "name": "stdout",
     "output_type": "stream",
     "text": [
      " * Serving Flask app '__main__' (lazy loading)\n",
      " * Environment: production\n",
      "\u001b[31m   WARNING: This is a development server. Do not use it in a production deployment.\u001b[0m\n",
      "\u001b[2m   Use a production WSGI server instead.\u001b[0m\n",
      " * Debug mode: off\n"
     ]
    },
    {
     "name": "stderr",
     "output_type": "stream",
     "text": [
      " * Running on all addresses (0.0.0.0)\n",
      "   WARNING: This is a development server. Do not use it in a production deployment.\n",
      " * Running on http://127.0.0.1:60001\n",
      " * Running on http://172.30.1.46:60001 (Press CTRL+C to quit)\n"
     ]
    },
    {
     "name": "stdout",
     "output_type": "stream",
     "text": [
      "save_image/35801b64-ccff-11ec-884c-c03c596ba129jpg\n"
     ]
    },
    {
     "name": "stderr",
     "output_type": "stream",
     "text": [
      "C:\\Users\\User\\anaconda3\\envs\\hashtaig\\lib\\site-packages\\torch\\nn\\functional.py:780: UserWarning: Note that order of the arguments: ceil_mode and return_indices will changeto match the args list in nn.MaxPool2d in a future release.\n",
      "  warnings.warn(\"Note that order of the arguments: ceil_mode and return_indices will change\"\n",
      "127.0.0.1 - - [06/May/2022 14:42:08] \"POST /styleimages4/ HTTP/1.1\" 200 -\n"
     ]
    },
    {
     "name": "stdout",
     "output_type": "stream",
     "text": [
      "save_image/4ac8dcec-ccff-11ec-8209-c03c596ba129jpg\n"
     ]
    },
    {
     "name": "stderr",
     "output_type": "stream",
     "text": [
      "127.0.0.1 - - [06/May/2022 14:42:42] \"POST /styleimages4/ HTTP/1.1\" 200 -\n"
     ]
    },
    {
     "name": "stdout",
     "output_type": "stream",
     "text": [
      "save_image/740f1428-ccff-11ec-9d32-c03c596ba129jpg\n"
     ]
    },
    {
     "name": "stderr",
     "output_type": "stream",
     "text": [
      "127.0.0.1 - - [06/May/2022 14:43:52] \"POST /styleimages4/ HTTP/1.1\" 200 -\n"
     ]
    }
   ],
   "source": [
    "app = Flask(__name__)\n",
    "# HTTP POST방식으로 전송된 이미지를 저장\n",
    "@app.route('/styleimages4/', methods=['POST'])\n",
    "def input_image1():\n",
    "    content_tf = test_transform()\n",
    "    #스타일 같은 것은 미리 함수밖에서 선언해서 끌고오기만 하기\n",
    "    f = request.files['file']\n",
    "    unique_name = str(uuid.uuid1())\n",
    "    save_image_path = 'save_image/' + unique_name + secure_filename(f.filename)\n",
    "    \n",
    "    print(save_image_path)\n",
    "    f.save(save_image_path)\n",
    "    \n",
    "    content = content_tf(Image.open(save_image_path))\n",
    "    content = content.to(device).unsqueeze(0)\n",
    "    \n",
    "    b64_string__LS = []\n",
    "    for idx, style_ in enumerate(style__LS):\n",
    "        b64_string__LS.append(out_b64_string(secure_name, unique_name, idx, content, style_))\n",
    "    \n",
    "    hashtags_dict = {\n",
    "                    'img1': b64_string__LS[0],\n",
    "                    'img2': b64_string__LS[1],\n",
    "                    'img3': b64_string__LS[2],\n",
    "                    'img4': b64_string__LS[3],}\n",
    "    hashtags_json = json.dumps(hashtags_dict, sort_keys=True)\n",
    "    return hashtags_json\n",
    "\n",
    "if __name__ == '__main__':\n",
    "    app.run(host='0.0.0.0', port=60001)"
   ]
  },
  {
   "cell_type": "code",
   "execution_count": null,
   "id": "b50c39f3",
   "metadata": {},
   "outputs": [],
   "source": []
  }
 ],
 "metadata": {
  "kernelspec": {
   "display_name": "Python 3 (ipykernel)",
   "language": "python",
   "name": "python3"
  },
  "language_info": {
   "codemirror_mode": {
    "name": "ipython",
    "version": 3
   },
   "file_extension": ".py",
   "mimetype": "text/x-python",
   "name": "python",
   "nbconvert_exporter": "python",
   "pygments_lexer": "ipython3",
   "version": "3.7.12"
  },
  "toc": {
   "base_numbering": 1,
   "nav_menu": {},
   "number_sections": true,
   "sideBar": true,
   "skip_h1_title": false,
   "title_cell": "Table of Contents",
   "title_sidebar": "Contents",
   "toc_cell": false,
   "toc_position": {
    "height": "calc(100% - 180px)",
    "left": "10px",
    "top": "150px",
    "width": "165.81px"
   },
   "toc_section_display": true,
   "toc_window_display": false
  },
  "varInspector": {
   "cols": {
    "lenName": 16,
    "lenType": 16,
    "lenVar": 40
   },
   "kernels_config": {
    "python": {
     "delete_cmd_postfix": "",
     "delete_cmd_prefix": "del ",
     "library": "var_list.py",
     "varRefreshCmd": "print(var_dic_list())"
    },
    "r": {
     "delete_cmd_postfix": ") ",
     "delete_cmd_prefix": "rm(",
     "library": "var_list.r",
     "varRefreshCmd": "cat(var_dic_list()) "
    }
   },
   "types_to_exclude": [
    "module",
    "function",
    "builtin_function_or_method",
    "instance",
    "_Feature"
   ],
   "window_display": false
  }
 },
 "nbformat": 4,
 "nbformat_minor": 5
}
