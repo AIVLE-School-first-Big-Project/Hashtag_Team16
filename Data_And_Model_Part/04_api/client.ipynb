{
 "cells": [
  {
   "cell_type": "markdown",
   "id": "0f12ce55",
   "metadata": {},
   "source": [
    "* 사진을 입력받을 때, 어떤 객체의 형태로 입력 받는지 몰름.\n",
    "* 이미지 파일을 받는 객체의 형태를 알면, 굳이 사진을 저장하지 않더라도 바로바로 처리될 수 있게 할 수 있음.\n",
    "* api 속도 최적화 가능"
   ]
  },
  {
   "cell_type": "code",
   "execution_count": 4,
   "id": "d2a0d032",
   "metadata": {
    "ExecuteTime": {
     "end_time": "2022-04-29T00:26:35.969049Z",
     "start_time": "2022-04-29T00:26:35.962060Z"
    }
   },
   "outputs": [
    {
     "data": {
      "text/plain": [
       "_io.BufferedReader"
      ]
     },
     "execution_count": 4,
     "metadata": {},
     "output_type": "execute_result"
    }
   ],
   "source": [
    "files = open('./image/고영희사진.jpg', 'rb')\n",
    "type(files)\n",
    "## 저장된 파일을 오픈하기보다, 이미지 객체를 받은 변수를 바로 api 요청으로 보내는 형태로 하는게 좋음!"
   ]
  },
  {
   "cell_type": "code",
   "execution_count": 5,
   "id": "0ba7637b",
   "metadata": {
    "ExecuteTime": {
     "end_time": "2022-04-29T00:31:11.976653Z",
     "start_time": "2022-04-29T00:31:09.127070Z"
    }
   },
   "outputs": [
    {
     "name": "stdout",
     "output_type": "stream",
     "text": [
      "<class 'dict'>\n"
     ]
    },
    {
     "data": {
      "text/plain": [
       "{'hashtags': ['#고양이',\n",
       "  '#냥스타그램',\n",
       "  '#cat',\n",
       "  '#catstagram',\n",
       "  '#반려묘',\n",
       "  '#캣스타그램',\n",
       "  '#집사',\n",
       "  '#개냥이',\n",
       "  '#고양이스타그램',\n",
       "  '#고양이그램',\n",
       "  '#kitten',\n",
       "  '#kitty',\n",
       "  '#집사그램',\n",
       "  '#야옹이',\n",
       "  '#냥이',\n",
       "  '#pet',\n",
       "  '#cats',\n",
       "  '#neko',\n",
       "  '#catsofinstagram',\n",
       "  '#instacat',\n",
       "  '#고양이집사',\n",
       "  '#ねこ',\n",
       "  '#猫',\n",
       "  '#코숏',\n",
       "  '#반려동물',\n",
       "  '#집사스타그램',\n",
       "  '#미묘',\n",
       "  '#냥팔',\n",
       "  '#catlover',\n",
       "  '#캣초딩',\n",
       "  '#아깽이',\n",
       "  '#catlife',\n",
       "  '#브리티쉬숏헤어',\n",
       "  '#펫스타그램',\n",
       "  '#petstagram',\n",
       "  '#스코티쉬폴드',\n",
       "  '#아기고양이',\n",
       "  '#귀여워',\n",
       "  '#랙돌',\n",
       "  '#meow',\n",
       "  '#먼치킨',\n",
       "  '#고영희',\n",
       "  '#코리안숏헤어',\n",
       "  '#냥집사',\n",
       "  '#냥',\n",
       "  '#냥냥이',\n",
       "  '#cute',\n",
       "  '#러시안블루',\n",
       "  '#ragdoll',\n",
       "  '#뱅갈고양이']}"
      ]
     },
     "execution_count": 5,
     "metadata": {},
     "output_type": "execute_result"
    }
   ],
   "source": [
    "import requests\n",
    "files = open('./image/고영희사진.jpg', 'rb')\n",
    "upload = {'file': files}\n",
    "res = requests.post(' http://118.91.69.43:5000/', files = upload)\n",
    "hashtags_json = json.loads(res.content)\n",
    "print(type(hashtags_json))\n",
    "hashtags_json"
   ]
  },
  {
   "cell_type": "code",
   "execution_count": null,
   "id": "bbf78b2c",
   "metadata": {},
   "outputs": [],
   "source": []
  }
 ],
 "metadata": {
  "kernelspec": {
   "display_name": "Python 3 (ipykernel)",
   "language": "python",
   "name": "python3"
  },
  "language_info": {
   "codemirror_mode": {
    "name": "ipython",
    "version": 3
   },
   "file_extension": ".py",
   "mimetype": "text/x-python",
   "name": "python",
   "nbconvert_exporter": "python",
   "pygments_lexer": "ipython3",
   "version": "3.7.12"
  },
  "toc": {
   "base_numbering": 1,
   "nav_menu": {},
   "number_sections": true,
   "sideBar": true,
   "skip_h1_title": false,
   "title_cell": "Table of Contents",
   "title_sidebar": "Contents",
   "toc_cell": false,
   "toc_position": {},
   "toc_section_display": true,
   "toc_window_display": false
  },
  "varInspector": {
   "cols": {
    "lenName": 16,
    "lenType": 16,
    "lenVar": 40
   },
   "kernels_config": {
    "python": {
     "delete_cmd_postfix": "",
     "delete_cmd_prefix": "del ",
     "library": "var_list.py",
     "varRefreshCmd": "print(var_dic_list())"
    },
    "r": {
     "delete_cmd_postfix": ") ",
     "delete_cmd_prefix": "rm(",
     "library": "var_list.r",
     "varRefreshCmd": "cat(var_dic_list()) "
    }
   },
   "types_to_exclude": [
    "module",
    "function",
    "builtin_function_or_method",
    "instance",
    "_Feature"
   ],
   "window_display": false
  }
 },
 "nbformat": 4,
 "nbformat_minor": 5
}
