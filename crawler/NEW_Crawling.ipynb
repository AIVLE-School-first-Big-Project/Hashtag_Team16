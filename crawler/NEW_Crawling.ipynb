{
 "cells": [
  {
   "cell_type": "markdown",
   "id": "b1ea37fd",
   "metadata": {},
   "source": [
    "* 하나의 검색 키워드에 대해서만 자동화(어러 종류의 주제를 한번에 크롤링 할 수 있게)\n",
    "* 한개만 있는 사진만 추출"
   ]
  },
  {
   "cell_type": "markdown",
   "id": "6ec1f064",
   "metadata": {},
   "source": [
    "# import module"
   ]
  },
  {
   "cell_type": "code",
   "execution_count": 1,
   "id": "ec4de493",
   "metadata": {
    "ExecuteTime": {
     "end_time": "2022-04-18T05:06:01.291556Z",
     "start_time": "2022-04-18T05:06:00.298712Z"
    }
   },
   "outputs": [],
   "source": [
    "import pandas as pd\n",
    "import numpy as np\n",
    "import time\n",
    "import re\n",
    "import os\n",
    "import json\n",
    "from random import random\n",
    "from selenium.webdriver import Chrome\n",
    "from urllib.request import urlretrieve\n",
    "from uuid import uuid4\n",
    "from io import BytesIO\n",
    "\n",
    "from selenium import webdriver\n",
    "from selenium.webdriver.common.keys import Keys\n",
    "from selenium.webdriver.common.by import By\n",
    "import urllib.request"
   ]
  },
  {
   "cell_type": "code",
   "execution_count": 2,
   "id": "10cef855",
   "metadata": {
    "ExecuteTime": {
     "end_time": "2022-04-18T05:06:01.306517Z",
     "start_time": "2022-04-18T05:06:01.295547Z"
    }
   },
   "outputs": [],
   "source": [
    "import warnings\n",
    "warnings.filterwarnings(action='ignore') "
   ]
  },
  {
   "cell_type": "markdown",
   "id": "16b5eff4",
   "metadata": {},
   "source": [
    "# 창 띄우기"
   ]
  },
  {
   "cell_type": "code",
   "execution_count": 3,
   "id": "1c530c9c",
   "metadata": {
    "ExecuteTime": {
     "end_time": "2022-04-18T05:06:01.321988Z",
     "start_time": "2022-04-18T05:06:01.311018Z"
    }
   },
   "outputs": [],
   "source": [
    "# from selenium import webdriver\n",
    "# from selenium.webdriver.chrome.service import Service\n",
    "# from webdriver_manager.chrome import ChromeDriverManager\n",
    "\n",
    "# def set_chrome_driver():\n",
    "#     chrome_options = webdriver.ChromeOptions()\n",
    "#     driver = webdriver.Chrome(service=Service(ChromeDriverManager().install()), options=chrome_options)\n",
    "#     return driver"
   ]
  },
  {
   "cell_type": "code",
   "execution_count": 4,
   "id": "119e5aeb",
   "metadata": {
    "ExecuteTime": {
     "end_time": "2022-04-18T05:06:01.337471Z",
     "start_time": "2022-04-18T05:06:01.326976Z"
    }
   },
   "outputs": [],
   "source": [
    "def open_browser():\n",
    "    browser = Chrome(\"chromedriver.exe\") # 입력\n",
    "    browser.get(\"https://www.instagram.com/accounts/login/?hl=ko&source=auth_switcher\")\n",
    "    return browser"
   ]
  },
  {
   "cell_type": "markdown",
   "id": "7f8937d9",
   "metadata": {},
   "source": [
    "# Login"
   ]
  },
  {
   "cell_type": "code",
   "execution_count": 5,
   "id": "9d6b090a",
   "metadata": {
    "ExecuteTime": {
     "end_time": "2022-04-18T05:06:01.352873Z",
     "start_time": "2022-04-18T05:06:01.341456Z"
    }
   },
   "outputs": [],
   "source": [
    "def login(browser):\n",
    "    id=\"dg1dgu\" # 입력\n",
    "    pwd=\"DGU1dgu1\" # 입력\n",
    "    input_id=browser.find_element(By.XPATH,'//*[@id=\"loginForm\"]/div/div[1]/div/label/input') #아이디 입럭 객체 선택\n",
    "    input_pwd=browser.find_element(By.XPATH, '//*[@id=\"loginForm\"]/div/div[2]/div/label/input') #패스워드 입력 객체 선택\n",
    "    input_id.send_keys(id)\n",
    "    input_pwd.send_keys(pwd)\n",
    "    time.sleep(1)\n",
    "    \n",
    "    browser.find_element(By.XPATH,'//*[@id=\"loginForm\"]/div/div[3]/button/div').click() #로그인 버튼 클릭\n",
    "    time.sleep(5)\n",
    "    \n",
    "    browser.find_element(By.XPATH,'//*[@id=\"react-root\"]/section/main/div/div/div/div/button').click() #로그인정보 저장 나중에하기 버튼\n",
    "    "
   ]
  },
  {
   "cell_type": "markdown",
   "id": "e5419b42",
   "metadata": {},
   "source": [
    "# 검색키워드 검색"
   ]
  },
  {
   "cell_type": "code",
   "execution_count": 6,
   "id": "3c3c2556",
   "metadata": {
    "ExecuteTime": {
     "end_time": "2022-04-18T05:06:01.367834Z",
     "start_time": "2022-04-18T05:06:01.356867Z"
    }
   },
   "outputs": [],
   "source": [
    "def search_keyword(browser, keyword):\n",
    "    url = f\"https://www.instagram.com/explore/tags/{keyword}/\"\n",
    "    browser.get(url)"
   ]
  },
  {
   "cell_type": "markdown",
   "id": "6f2d0403",
   "metadata": {},
   "source": [
    "# 첫번째 게시글 오픈"
   ]
  },
  {
   "cell_type": "code",
   "execution_count": 7,
   "id": "5b74fbe2",
   "metadata": {
    "ExecuteTime": {
     "end_time": "2022-04-18T05:06:01.382793Z",
     "start_time": "2022-04-18T05:06:01.371823Z"
    }
   },
   "outputs": [],
   "source": [
    "def open_first_post(browser):\n",
    "    first_post = browser.find_elements_by_class_name(\"_9AhH0\")[0]\n",
    "    print(type(first_post))\n",
    "    print(first_post)\n",
    "    browser.execute_script(\"arguments[0].click();\",first_post)"
   ]
  },
  {
   "cell_type": "markdown",
   "id": "9e84b847",
   "metadata": {},
   "source": [
    "# 좋아요 출력(넘기면서 반복)"
   ]
  },
  {
   "cell_type": "code",
   "execution_count": 8,
   "id": "c5402c5e",
   "metadata": {
    "ExecuteTime": {
     "end_time": "2022-04-18T05:06:01.397753Z",
     "start_time": "2022-04-18T05:06:01.384807Z"
    }
   },
   "outputs": [],
   "source": [
    "def get_likes(browser):\n",
    "    try:\n",
    "        like = browser.find_element_by_xpath('/html/body/div[6]/div[3]/div/article/div/div[2]/div/div/div[2]/section[2]/div/div/div/a/div/span')\n",
    "        like = like.text.replace(',', '')\n",
    "        likes = int(like)\n",
    "        return likes\n",
    "    except Exception as ex:\n",
    "        print(\"get_likes 에러발생\", ex)\n",
    "        return \"NaN\""
   ]
  },
  {
   "cell_type": "markdown",
   "id": "e19d1ad2",
   "metadata": {},
   "source": [
    "# 이미지 URL, 파일명 출력(넘기면서 반복)"
   ]
  },
  {
   "cell_type": "markdown",
   "id": "30154e63",
   "metadata": {},
   "source": [
    "* https://mizykk.tistory.com/55\n",
    "* openCV를 이용해서 이미지 중복을 처리할 수 있을 듯."
   ]
  },
  {
   "cell_type": "code",
   "execution_count": 9,
   "id": "36790afb",
   "metadata": {
    "ExecuteTime": {
     "end_time": "2022-04-18T05:06:01.428693Z",
     "start_time": "2022-04-18T05:06:01.400747Z"
    }
   },
   "outputs": [
    {
     "data": {
      "text/plain": [
       "'\\n# 앞-현재-뒤 이렇게 컨텐츠가 넘어옴\\nimg = browser.find_element_by_class_name(\"RnEpo\")\\nimg = img.find_elements_by_class_name(\\'KL4Bh\\') # 동영상이면 \\nimg_url = img[0].find_element_by_tag_name(\\'img\\').get_attribute(\"src\") #동영상이면 list index out of range 에러뜸\\nimg_url\\n'"
      ]
     },
     "execution_count": 9,
     "metadata": {},
     "output_type": "execute_result"
    }
   ],
   "source": [
    "'''\n",
    "# 앞-현재-뒤 이렇게 컨텐츠가 넘어옴\n",
    "img = browser.find_element_by_class_name(\"RnEpo\")\n",
    "img = img.find_elements_by_class_name('KL4Bh') # 동영상이면 \n",
    "img_url = img[0].find_element_by_tag_name('img').get_attribute(\"src\") #동영상이면 list index out of range 에러뜸\n",
    "img_url\n",
    "'''"
   ]
  },
  {
   "cell_type": "code",
   "execution_count": 10,
   "id": "f455add1",
   "metadata": {
    "ExecuteTime": {
     "end_time": "2022-04-18T05:06:01.443652Z",
     "start_time": "2022-04-18T05:06:01.435673Z"
    }
   },
   "outputs": [],
   "source": [
    "def get_image_url(browser, keyword):\n",
    "    try:\n",
    "        #img = browser.find_elements_by_class_name(\"KL4Bh\") #이렇게 되면 마지막 놈이 뜸. 동영상은 처리 못함.\n",
    "        img = browser.find_element_by_class_name(\"RnEpo\")\n",
    "        img = img.find_elements_by_class_name('KL4Bh') # 동영상이면 안뜸.\n",
    "        #img_url = img[-1].find_element_by_css_selector(\"article img\").get_attribute(\"src\")\n",
    "        img_url = img[0].find_element_by_tag_name('img').get_attribute(\"src\")\n",
    "\n",
    "        uuid =uuid4() #유일한 이름 할당. 중복\n",
    "        #urlretrieve(img_url, f\"data/{keyword}/{uuid}.jpg\") #이건 다운로드\n",
    "        img_name = f\"{uuid}.jpg\"\n",
    "        return img_url, img_name\n",
    "    \n",
    "    except Exception as ex:\n",
    "        #에러가 발생하면 img_name이 \"NaN\"으로 출력됨.\n",
    "        print(\"get_image 에러발생\", ex)\n",
    "        return \"NaN\", \"NaN\""
   ]
  },
  {
   "cell_type": "markdown",
   "id": "285bc9a3",
   "metadata": {},
   "source": [
    "# 이미지 저장(넘기면서 반복)"
   ]
  },
  {
   "cell_type": "code",
   "execution_count": 11,
   "id": "f2d3b8b2",
   "metadata": {
    "ExecuteTime": {
     "end_time": "2022-04-18T05:06:01.458614Z",
     "start_time": "2022-04-18T05:06:01.446647Z"
    }
   },
   "outputs": [],
   "source": [
    "def save_image(browser, img_url, keyword, img_name):\n",
    "    save_path = f\"image/{keyword}/{img_name}\"\n",
    "    urlretrieve(img_url, save_path)\n",
    "    print(f\"{save_path}에 저장완료\")\n",
    "    return save_path"
   ]
  },
  {
   "cell_type": "markdown",
   "id": "7cea641f",
   "metadata": {},
   "source": [
    "# 해시태그 출력(NaN 확인 필요) (넘기면서 반복)"
   ]
  },
  {
   "cell_type": "code",
   "execution_count": 12,
   "id": "0af1df8e",
   "metadata": {
    "ExecuteTime": {
     "end_time": "2022-04-18T05:06:01.474104Z",
     "start_time": "2022-04-18T05:06:01.463114Z"
    }
   },
   "outputs": [],
   "source": [
    "def get_hashtag(browser):\n",
    "    components = browser.find_elements_by_class_name(\"xil3i\")\n",
    "    #components = browser.find_elements(By.CSS_SELECTOR, \"xil3i\") #안되는건가?\n",
    "    if len(components) != 0:\n",
    "        \n",
    "        try:\n",
    "            all_hashtags = [component.text for component in components]\n",
    "            if len(all_hashtags) > 0: #해시태그가 없으면 빈 리스트 출력\n",
    "                return list(set(all_hashtags))\n",
    "            else:\n",
    "                return \"NaN\"\n",
    "        \n",
    "        except Exception as ex:\n",
    "            print(\"get_hashtag 에러발생\", ex)\n",
    "            return \"NaN\""
   ]
  },
  {
   "cell_type": "markdown",
   "id": "ce6cbb85",
   "metadata": {},
   "source": [
    "# 이미지 여러장인지 확인(넘기면서 반복)"
   ]
  },
  {
   "cell_type": "code",
   "execution_count": 13,
   "id": "abb16f28",
   "metadata": {
    "ExecuteTime": {
     "end_time": "2022-04-18T05:06:01.489063Z",
     "start_time": "2022-04-18T05:06:01.479091Z"
    }
   },
   "outputs": [],
   "source": [
    "def check_one_img(browser):\n",
    "    try:\n",
    "        browser.find_element_by_class_name('_6CZji')\n",
    "        return False\n",
    "    except:\n",
    "        return True"
   ]
  },
  {
   "cell_type": "markdown",
   "id": "ddf34ef1",
   "metadata": {},
   "source": [
    "# 데이터프레임으로 출력&이미지 저장(넘기면서 반복)"
   ]
  },
  {
   "cell_type": "markdown",
   "id": "7ffd5192",
   "metadata": {},
   "source": [
    "| 검색키워드 | 이미지파일명 | 좋아요 | 해시태그 |\n",
    "| --- | --- | --- | --- |\n",
    "| 음식스타그램 | asdiim23mmfs.jpg | 좋아요 | #tag1 #tag2 ... |\n",
    "\n",
    "이런식으로 하면 될라나"
   ]
  },
  {
   "cell_type": "code",
   "execution_count": 14,
   "id": "ae1edec4",
   "metadata": {
    "ExecuteTime": {
     "end_time": "2022-04-18T05:06:01.504024Z",
     "start_time": "2022-04-18T05:06:01.492056Z"
    }
   },
   "outputs": [],
   "source": [
    "def make_df(browser, keyword):\n",
    "    try:\n",
    "        # 현재페이지의 #\n",
    "        #1. 좋아요 가져오기\n",
    "        likes = get_likes(browser)\n",
    "        #2. 이미지 파일명 가져오기\n",
    "        img_url, img_name = get_image_url(browser, keyword)\n",
    "        \n",
    "        #3. 이미지 저장하기\n",
    "        file_path = save_image(browser, img_url, keyword, img_name)\n",
    "        #4. 해시태그 가져오기\n",
    "        hashtags = get_hashtag(browser)\n",
    "        #5. 이미지 1개인지 체크\n",
    "        one_img = check_one_img(browser)\n",
    "        \n",
    "        #6. 한 행의 데이터프레임 생성\n",
    "        df = pd.DataFrame([[keyword, img_name, file_path, likes, hashtags, one_img]],\n",
    "                         columns=['검색키워드', '이미지파일명', '파일경로', '좋아요', '해시태그', '이미지한개'])\n",
    "    \n",
    "    except Exception as ex:\n",
    "        print(\"make_df 에러발생\", ex)\n",
    "        df = pd.DataFrame([['NaN', 'NaN', 'NaN', 'Nan', 'NaN', 'NaN']],\n",
    "                         columns=['검색키워드', '이미지파일명', '파일경로', '좋아요', '해시태그', '이미지한개'])\n",
    "        \n",
    "    return df"
   ]
  },
  {
   "cell_type": "markdown",
   "id": "25220e2c",
   "metadata": {},
   "source": [
    "# 페이지 넘기기"
   ]
  },
  {
   "cell_type": "code",
   "execution_count": 15,
   "id": "7afe32a6",
   "metadata": {
    "ExecuteTime": {
     "end_time": "2022-04-18T05:06:01.519074Z",
     "start_time": "2022-04-18T05:06:01.507015Z"
    }
   },
   "outputs": [],
   "source": [
    "def next_page(browser):\n",
    "    next_buttons = browser.find_elements_by_xpath('/html/body/div[6]/div[2]/div/div')\n",
    "    if len(next_buttons) == 2:\n",
    "        next_button = next_buttons[1]\n",
    "    else:\n",
    "        next_button = next_buttons[0]\n",
    "    next_button.click()"
   ]
  },
  {
   "cell_type": "markdown",
   "id": "041802da",
   "metadata": {},
   "source": [
    "# 디렉토리 생성"
   ]
  },
  {
   "cell_type": "code",
   "execution_count": 16,
   "id": "fb9c5aa7",
   "metadata": {
    "ExecuteTime": {
     "end_time": "2022-04-18T05:06:01.534034Z",
     "start_time": "2022-04-18T05:06:01.521068Z"
    }
   },
   "outputs": [],
   "source": [
    "def make_dir(keyword):\n",
    "    try:\n",
    "        os.makedirs(f\"image/{keyword}\")\n",
    "    except OSError:\n",
    "        print(f'image/{keyword} 경로가 존재합니다.')\n",
    "        pass"
   ]
  },
  {
   "cell_type": "markdown",
   "id": "cf606269",
   "metadata": {},
   "source": [
    "# 자동실행(처음)"
   ]
  },
  {
   "cell_type": "code",
   "execution_count": 17,
   "id": "852e523a",
   "metadata": {
    "ExecuteTime": {
     "end_time": "2022-04-18T05:06:01.548995Z",
     "start_time": "2022-04-18T05:06:01.537026Z"
    }
   },
   "outputs": [],
   "source": [
    "def auto_run(keyword, num_post):\n",
    "    #1. 디렉토리 생성\n",
    "    make_dir(keyword)\n",
    "    \n",
    "    #2. 브라우저 열고 로그인하기\n",
    "    browser = open_browser()\n",
    "    time.sleep(2)\n",
    "    login(browser)\n",
    "    time.sleep(3)\n",
    "    \n",
    "    #3. 검색키워드 입력 후 페이지 전환\n",
    "    search_keyword(browser, keyword)\n",
    "    time.sleep(10) #첫 검색은 상당히 오래걸릴 수 있음.\n",
    "    \n",
    "    #4. 첫번째 게시글 열기\n",
    "    open_first_post(browser)\n",
    "    time.sleep(5 + (random() * 5))\n",
    "    \n",
    "    #### 여기서 반복 ####\n",
    "    total_df_LS = []\n",
    "    for i in range(num_post):\n",
    "        #5-1. 데이터프레임으로 출력 및 이미지 저장\n",
    "        one_row_hashtag_df = make_df(browser, keyword)\n",
    "        #5-2. 리스트에 저장\n",
    "        total_df_LS.append(one_row_hashtag_df)\n",
    "        #5-3. 다음페이지로 이동\n",
    "        next_page(browser)\n",
    "        time.sleep(3 + (random() * 5))\n",
    "        if (i+1)%10 == 0:\n",
    "            print(f'{i+1}번째 까지 게시글이 스크랩 완료되었습니다.')\n",
    "            \n",
    "    #6. 하나의 데이터프레임으로 병합\n",
    "    total_df = pd.concat(total_df_LS, axis=0)\n",
    "    total_df.reset_index(inplace=True, drop=True)\n",
    "    \n",
    "    return total_df, browser"
   ]
  },
  {
   "cell_type": "code",
   "execution_count": 18,
   "id": "40d40ffe",
   "metadata": {
    "ExecuteTime": {
     "end_time": "2022-04-18T05:07:21.306000Z",
     "start_time": "2022-04-18T05:06:01.550992Z"
    },
    "scrolled": true
   },
   "outputs": [
    {
     "name": "stdout",
     "output_type": "stream",
     "text": [
      "<class 'selenium.webdriver.remote.webelement.WebElement'>\n",
      "<selenium.webdriver.remote.webelement.WebElement (session=\"667ca459de72dff2e25c0ca323295da0\", element=\"2ee2f496-3280-45f6-bb84-7a15aa89448a\")>\n",
      "image/음식스타그램/183a2f02-3c4c-4f11-aad1-086a83ca010a.jpg에 저장완료\n",
      "image/음식스타그램/b0f71e53-228b-46bd-84d0-41a9fc0f5269.jpg에 저장완료\n",
      "image/음식스타그램/7f86a392-645d-4204-923f-5c391c94c365.jpg에 저장완료\n",
      "image/음식스타그램/9cbf18e0-85e8-4772-8e3d-3050d7d047b8.jpg에 저장완료\n",
      "image/음식스타그램/a8f6fa14-a7d3-44aa-b522-b749d4038b16.jpg에 저장완료\n"
     ]
    }
   ],
   "source": [
    "total_df, browser = auto_run('음식스타그램', 5)"
   ]
  },
  {
   "cell_type": "code",
   "execution_count": 19,
   "id": "b025c52f",
   "metadata": {
    "ExecuteTime": {
     "end_time": "2022-04-18T05:07:21.351612Z",
     "start_time": "2022-04-18T05:07:21.309709Z"
    }
   },
   "outputs": [
    {
     "data": {
      "text/html": [
       "<div>\n",
       "<style scoped>\n",
       "    .dataframe tbody tr th:only-of-type {\n",
       "        vertical-align: middle;\n",
       "    }\n",
       "\n",
       "    .dataframe tbody tr th {\n",
       "        vertical-align: top;\n",
       "    }\n",
       "\n",
       "    .dataframe thead th {\n",
       "        text-align: right;\n",
       "    }\n",
       "</style>\n",
       "<table border=\"1\" class=\"dataframe\">\n",
       "  <thead>\n",
       "    <tr style=\"text-align: right;\">\n",
       "      <th></th>\n",
       "      <th>검색키워드</th>\n",
       "      <th>이미지파일명</th>\n",
       "      <th>파일경로</th>\n",
       "      <th>좋아요</th>\n",
       "      <th>해시태그</th>\n",
       "      <th>이미지한개</th>\n",
       "    </tr>\n",
       "  </thead>\n",
       "  <tbody>\n",
       "    <tr>\n",
       "      <th>0</th>\n",
       "      <td>음식스타그램</td>\n",
       "      <td>183a2f02-3c4c-4f11-aad1-086a83ca010a.jpg</td>\n",
       "      <td>image/음식스타그램/183a2f02-3c4c-4f11-aad1-086a83ca0...</td>\n",
       "      <td>1557</td>\n",
       "      <td>[#맛스타그램, #곰탕맛집, #캠핑메뉴, #오리고기, #오리주물럭, #캠핑스타그램,...</td>\n",
       "      <td>False</td>\n",
       "    </tr>\n",
       "    <tr>\n",
       "      <th>1</th>\n",
       "      <td>음식스타그램</td>\n",
       "      <td>b0f71e53-228b-46bd-84d0-41a9fc0f5269.jpg</td>\n",
       "      <td>image/음식스타그램/b0f71e53-228b-46bd-84d0-41a9fc0f5...</td>\n",
       "      <td>177</td>\n",
       "      <td>[#마곡밥집, #마리오_강서구, #마곡나루역맛집추천, #봉이밥]</td>\n",
       "      <td>False</td>\n",
       "    </tr>\n",
       "    <tr>\n",
       "      <th>2</th>\n",
       "      <td>음식스타그램</td>\n",
       "      <td>7f86a392-645d-4204-923f-5c391c94c365.jpg</td>\n",
       "      <td>image/음식스타그램/7f86a392-645d-4204-923f-5c391c94c...</td>\n",
       "      <td>2520</td>\n",
       "      <td>[#LA갈비, #초이스등급, #라갈비, #밥도둑]</td>\n",
       "      <td>False</td>\n",
       "    </tr>\n",
       "    <tr>\n",
       "      <th>3</th>\n",
       "      <td>음식스타그램</td>\n",
       "      <td>9cbf18e0-85e8-4772-8e3d-3050d7d047b8.jpg</td>\n",
       "      <td>image/음식스타그램/9cbf18e0-85e8-4772-8e3d-3050d7d04...</td>\n",
       "      <td>1176</td>\n",
       "      <td>[#간장게장, #양념게장, #지니네양은밥상, #고구마줄기볶음, #제주황게장, #콩나...</td>\n",
       "      <td>False</td>\n",
       "    </tr>\n",
       "    <tr>\n",
       "      <th>4</th>\n",
       "      <td>음식스타그램</td>\n",
       "      <td>a8f6fa14-a7d3-44aa-b522-b749d4038b16.jpg</td>\n",
       "      <td>image/음식스타그램/a8f6fa14-a7d3-44aa-b522-b749d4038...</td>\n",
       "      <td>1736</td>\n",
       "      <td>[#홍게, #홍게택배, #자숙홍게]</td>\n",
       "      <td>False</td>\n",
       "    </tr>\n",
       "  </tbody>\n",
       "</table>\n",
       "</div>"
      ],
      "text/plain": [
       "    검색키워드                                    이미지파일명  \\\n",
       "0  음식스타그램  183a2f02-3c4c-4f11-aad1-086a83ca010a.jpg   \n",
       "1  음식스타그램  b0f71e53-228b-46bd-84d0-41a9fc0f5269.jpg   \n",
       "2  음식스타그램  7f86a392-645d-4204-923f-5c391c94c365.jpg   \n",
       "3  음식스타그램  9cbf18e0-85e8-4772-8e3d-3050d7d047b8.jpg   \n",
       "4  음식스타그램  a8f6fa14-a7d3-44aa-b522-b749d4038b16.jpg   \n",
       "\n",
       "                                                파일경로   좋아요  \\\n",
       "0  image/음식스타그램/183a2f02-3c4c-4f11-aad1-086a83ca0...  1557   \n",
       "1  image/음식스타그램/b0f71e53-228b-46bd-84d0-41a9fc0f5...   177   \n",
       "2  image/음식스타그램/7f86a392-645d-4204-923f-5c391c94c...  2520   \n",
       "3  image/음식스타그램/9cbf18e0-85e8-4772-8e3d-3050d7d04...  1176   \n",
       "4  image/음식스타그램/a8f6fa14-a7d3-44aa-b522-b749d4038...  1736   \n",
       "\n",
       "                                                해시태그  이미지한개  \n",
       "0  [#맛스타그램, #곰탕맛집, #캠핑메뉴, #오리고기, #오리주물럭, #캠핑스타그램,...  False  \n",
       "1                [#마곡밥집, #마리오_강서구, #마곡나루역맛집추천, #봉이밥]  False  \n",
       "2                        [#LA갈비, #초이스등급, #라갈비, #밥도둑]  False  \n",
       "3  [#간장게장, #양념게장, #지니네양은밥상, #고구마줄기볶음, #제주황게장, #콩나...  False  \n",
       "4                                [#홍게, #홍게택배, #자숙홍게]  False  "
      ]
     },
     "execution_count": 19,
     "metadata": {},
     "output_type": "execute_result"
    }
   ],
   "source": [
    "total_df"
   ]
  },
  {
   "cell_type": "markdown",
   "id": "5ac1d975",
   "metadata": {},
   "source": [
    "# 데이터프레임 저장"
   ]
  },
  {
   "cell_type": "markdown",
   "id": "81c85f72",
   "metadata": {},
   "source": [
    "## 데이터 프레임 디렉토리 생성"
   ]
  },
  {
   "cell_type": "code",
   "execution_count": 20,
   "id": "481293be",
   "metadata": {
    "ExecuteTime": {
     "end_time": "2022-04-18T05:07:21.366576Z",
     "start_time": "2022-04-18T05:07:21.355585Z"
    }
   },
   "outputs": [],
   "source": [
    "def make_dir2(keyword):\n",
    "    try:\n",
    "        os.makedirs(f\"data/{keyword}\")\n",
    "    except OSError:\n",
    "        print(f'data/{keyword} 경로가 존재합니다.')\n",
    "        pass"
   ]
  },
  {
   "cell_type": "markdown",
   "id": "24b35abc",
   "metadata": {},
   "source": [
    "## 데이터 프레임 저장"
   ]
  },
  {
   "cell_type": "code",
   "execution_count": 21,
   "id": "72b81aab",
   "metadata": {
    "ExecuteTime": {
     "end_time": "2022-04-18T05:07:21.381535Z",
     "start_time": "2022-04-18T05:07:21.370533Z"
    }
   },
   "outputs": [],
   "source": [
    "def save_df(keyword, df, file_name):\n",
    "    make_dir2(keyword)\n",
    "    \n",
    "    df.to_pickle(f\"data/{keyword}/{file_name}.pkl\")"
   ]
  },
  {
   "cell_type": "code",
   "execution_count": 22,
   "id": "8704d0e0",
   "metadata": {
    "ExecuteTime": {
     "end_time": "2022-04-18T05:07:21.412425Z",
     "start_time": "2022-04-18T05:07:21.385497Z"
    }
   },
   "outputs": [],
   "source": [
    "save_df('음식스타그램', total_df, '음식스타그램1')"
   ]
  },
  {
   "cell_type": "markdown",
   "id": "32098dff",
   "metadata": {},
   "source": [
    "# 실험용 코드(실행X)"
   ]
  },
  {
   "cell_type": "code",
   "execution_count": 23,
   "id": "78fd559e",
   "metadata": {
    "ExecuteTime": {
     "end_time": "2022-04-18T05:07:21.427381Z",
     "start_time": "2022-04-18T05:07:21.416410Z"
    }
   },
   "outputs": [
    {
     "data": {
      "text/plain": [
       "\"make_dir('음식스타그램')\\n\\n#2. 브라우저 열고 로그인하기\\nbrowser = open_browser()\\ntime.sleep(2)\\nlogin(browser)\\ntime.sleep(3)\\n\\n#3. 검색키워드 입력 후 페이지 전환\\nsearch_keyword(browser, '음식스타그램')\\ntime.sleep(10) #첫 검색은 상당히 오래걸릴 수 있음.\\n\\n#4. 첫번째 게시글 열기\\nopen_first_post(browser)\\ntime.sleep(5 + (random() * 5))\""
      ]
     },
     "execution_count": 23,
     "metadata": {},
     "output_type": "execute_result"
    }
   ],
   "source": [
    "'''make_dir('음식스타그램')\n",
    "\n",
    "#2. 브라우저 열고 로그인하기\n",
    "browser = open_browser()\n",
    "time.sleep(2)\n",
    "login(browser)\n",
    "time.sleep(3)\n",
    "\n",
    "#3. 검색키워드 입력 후 페이지 전환\n",
    "search_keyword(browser, '음식스타그램')\n",
    "time.sleep(10) #첫 검색은 상당히 오래걸릴 수 있음.\n",
    "\n",
    "#4. 첫번째 게시글 열기\n",
    "open_first_post(browser)\n",
    "time.sleep(5 + (random() * 5))'''"
   ]
  },
  {
   "cell_type": "code",
   "execution_count": null,
   "id": "2f7ece8b",
   "metadata": {},
   "outputs": [],
   "source": []
  }
 ],
 "metadata": {
  "kernelspec": {
   "display_name": "Python 3 (ipykernel)",
   "language": "python",
   "name": "python3"
  },
  "language_info": {
   "codemirror_mode": {
    "name": "ipython",
    "version": 3
   },
   "file_extension": ".py",
   "mimetype": "text/x-python",
   "name": "python",
   "nbconvert_exporter": "python",
   "pygments_lexer": "ipython3",
   "version": "3.9.10"
  },
  "toc": {
   "base_numbering": 1,
   "nav_menu": {},
   "number_sections": true,
   "sideBar": true,
   "skip_h1_title": false,
   "title_cell": "Table of Contents",
   "title_sidebar": "Contents",
   "toc_cell": false,
   "toc_position": {
    "height": "calc(100% - 180px)",
    "left": "10px",
    "top": "150px",
    "width": "312.331px"
   },
   "toc_section_display": true,
   "toc_window_display": true
  },
  "varInspector": {
   "cols": {
    "lenName": 16,
    "lenType": 16,
    "lenVar": 40
   },
   "kernels_config": {
    "python": {
     "delete_cmd_postfix": "",
     "delete_cmd_prefix": "del ",
     "library": "var_list.py",
     "varRefreshCmd": "print(var_dic_list())"
    },
    "r": {
     "delete_cmd_postfix": ") ",
     "delete_cmd_prefix": "rm(",
     "library": "var_list.r",
     "varRefreshCmd": "cat(var_dic_list()) "
    }
   },
   "types_to_exclude": [
    "module",
    "function",
    "builtin_function_or_method",
    "instance",
    "_Feature"
   ],
   "window_display": false
  }
 },
 "nbformat": 4,
 "nbformat_minor": 5
}
