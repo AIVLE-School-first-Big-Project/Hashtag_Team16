{
 "cells": [
  {
   "cell_type": "code",
   "execution_count": 8,
   "id": "pspC8cNayJWB",
   "metadata": {
    "colab": {
     "base_uri": "https://localhost:8080/"
    },
    "executionInfo": {
     "elapsed": 2279,
     "status": "ok",
     "timestamp": 1650607520261,
     "user": {
      "displayName": "강준모",
      "userId": "14855937078495325719"
     },
     "user_tz": -540
    },
    "id": "pspC8cNayJWB",
    "outputId": "7a672219-ea18-41a9-f2b7-33fdbc0f2060"
   },
   "outputs": [
    {
     "name": "stdout",
     "output_type": "stream",
     "text": [
      "Drive already mounted at /content/drive; to attempt to forcibly remount, call drive.mount(\"/content/drive\", force_remount=True).\n"
     ]
    }
   ],
   "source": [
    "# from google.colab import drive\n",
    "# drive.mount('/content/drive')"
   ]
  },
  {
   "cell_type": "code",
   "execution_count": 9,
   "id": "0b3cfe15",
   "metadata": {
    "ExecuteTime": {
     "end_time": "2022-04-21T15:13:34.490370Z",
     "start_time": "2022-04-21T15:13:34.476655Z"
    },
    "executionInfo": {
     "elapsed": 4,
     "status": "ok",
     "timestamp": 1650607520261,
     "user": {
      "displayName": "강준모",
      "userId": "14855937078495325719"
     },
     "user_tz": -540
    },
    "id": "0b3cfe15"
   },
   "outputs": [],
   "source": [
    "import numpy as np\n",
    "import pandas as pd\n",
    "import joblib\n",
    "import os\n",
    "from glob import glob\n",
    "import shutil\n",
    "from urllib.request import urlretrieve"
   ]
  },
  {
   "cell_type": "code",
   "execution_count": 10,
   "id": "NlnGTUhmyYlA",
   "metadata": {
    "colab": {
     "base_uri": "https://localhost:8080/",
     "height": 54
    },
    "executionInfo": {
     "elapsed": 7,
     "status": "ok",
     "timestamp": 1650607523101,
     "user": {
      "displayName": "강준모",
      "userId": "14855937078495325719"
     },
     "user_tz": -540
    },
    "id": "NlnGTUhmyYlA",
    "outputId": "37540f2b-f041-4e3e-d1fa-37565e130ca5"
   },
   "outputs": [
    {
     "name": "stdout",
     "output_type": "stream",
     "text": [
      "/content/drive/My Drive/aivle/big_proj/Hashtag-Generator-main/insta_crawling\n"
     ]
    },
    {
     "data": {
      "application/vnd.google.colaboratory.intrinsic+json": {
       "type": "string"
      },
      "text/plain": [
       "'/content/drive/MyDrive/aivle/big_proj/Hashtag-Generator-main/insta_crawling'"
      ]
     },
     "execution_count": 10,
     "metadata": {},
     "output_type": "execute_result"
    }
   ],
   "source": [
    "# print(os.getcwd())\n",
    "# os.chdir('/content/drive/MyDrive/aivle/big_proj/Hashtag-Generator-main/insta_crawling')\n",
    "# os.getcwd()"
   ]
  },
  {
   "cell_type": "code",
   "execution_count": 11,
   "id": "DZzcCk7L4AC0",
   "metadata": {
    "colab": {
     "base_uri": "https://localhost:8080/"
    },
    "executionInfo": {
     "elapsed": 8,
     "status": "ok",
     "timestamp": 1650607525707,
     "user": {
      "displayName": "강준모",
      "userId": "14855937078495325719"
     },
     "user_tz": -540
    },
    "id": "DZzcCk7L4AC0",
    "outputId": "a366b8af-5430-4c94-e196-2cf5439bd3e3"
   },
   "outputs": [
    {
     "name": "stdout",
     "output_type": "stream",
     "text": [
      "'classification_modeling_파일불러오기 포함.ipynb'\n",
      "'깃 clone.ipynb'\n",
      " data\n",
      " Hashtag_Team16\n",
      " image\n",
      "'데이터프레임 피클 불러오는법.ipynb'\n",
      "'전처리데이터 확인.ipynb'\n",
      " preprocessed\n",
      " preprocessing_step1.py\n",
      " __pycache__\n",
      "'(WARNING-RESET)크롤링_데이터프레임_전처리.ipynb'\n",
      "'(WARNING-RESET)데이터프레임에 존재하는 이미지만 따로 저장하기.ipynb'\n"
     ]
    }
   ],
   "source": [
    "# !ls"
   ]
  },
  {
   "cell_type": "markdown",
   "id": "a89667e5",
   "metadata": {
    "id": "a89667e5"
   },
   "source": [
    "# 데이터프레임 가져오기"
   ]
  },
  {
   "cell_type": "code",
   "execution_count": 4,
   "id": "6821762a",
   "metadata": {
    "ExecuteTime": {
     "end_time": "2022-04-21T15:09:25.484859Z",
     "start_time": "2022-04-21T15:09:25.427975Z"
    },
    "colab": {
     "base_uri": "https://localhost:8080/",
     "height": 832
    },
    "executionInfo": {
     "elapsed": 433,
     "status": "ok",
     "timestamp": 1650603072774,
     "user": {
      "displayName": "강준모",
      "userId": "14855937078495325719"
     },
     "user_tz": -540
    },
    "id": "6821762a",
    "outputId": "c8a7ad87-0d78-4506-eb8b-12ebdd7f85e0"
   },
   "outputs": [
    {
     "data": {
      "text/html": [
       "\n",
       "  <div id=\"df-63b8adc1-73fd-4b2e-8c6f-7db614f6da6b\">\n",
       "    <div class=\"colab-df-container\">\n",
       "      <div>\n",
       "<style scoped>\n",
       "    .dataframe tbody tr th:only-of-type {\n",
       "        vertical-align: middle;\n",
       "    }\n",
       "\n",
       "    .dataframe tbody tr th {\n",
       "        vertical-align: top;\n",
       "    }\n",
       "\n",
       "    .dataframe thead th {\n",
       "        text-align: right;\n",
       "    }\n",
       "</style>\n",
       "<table border=\"1\" class=\"dataframe\">\n",
       "  <thead>\n",
       "    <tr style=\"text-align: right;\">\n",
       "      <th></th>\n",
       "      <th>검색키워드</th>\n",
       "      <th>이미지파일명</th>\n",
       "      <th>파일경로</th>\n",
       "      <th>좋아요</th>\n",
       "      <th>해시태그</th>\n",
       "      <th>이미지한개</th>\n",
       "      <th>게시글url</th>\n",
       "      <th>이미지url</th>\n",
       "      <th>메인키워드</th>\n",
       "      <th>광고여부</th>\n",
       "    </tr>\n",
       "  </thead>\n",
       "  <tbody>\n",
       "    <tr>\n",
       "      <th>0</th>\n",
       "      <td>펫스타그램</td>\n",
       "      <td>af37feb6-2166-440a-9612-917e5bd32e99.jpg</td>\n",
       "      <td>image/펫스타그램/af37feb6-2166-440a-9612-917e5bd32e...</td>\n",
       "      <td>2438</td>\n",
       "      <td>[#pom, #멍스타그램, #pomeranian, #포메, #pet, #강아지모델,...</td>\n",
       "      <td>False</td>\n",
       "      <td>https://www.instagram.com/p/Ccg47zap-EJ/</td>\n",
       "      <td>https://scontent-gmp1-1.cdninstagram.com/v/t51...</td>\n",
       "      <td>반려동물</td>\n",
       "      <td>False</td>\n",
       "    </tr>\n",
       "    <tr>\n",
       "      <th>1</th>\n",
       "      <td>펫스타그램</td>\n",
       "      <td>ac8fc4dc-8179-4808-b8d5-ee141f4432f5.jpg</td>\n",
       "      <td>image/펫스타그램/ac8fc4dc-8179-4808-b8d5-ee141f4432...</td>\n",
       "      <td>2039</td>\n",
       "      <td>[#영화관, #동물스타그램, #반려견, #펫스타그램, #dog, #cat, #pet...</td>\n",
       "      <td>False</td>\n",
       "      <td>https://www.instagram.com/p/CchvCi7phd3/</td>\n",
       "      <td>https://scontent-gmp1-1.cdninstagram.com/v/t51...</td>\n",
       "      <td>반려동물</td>\n",
       "      <td>False</td>\n",
       "    </tr>\n",
       "    <tr>\n",
       "      <th>2</th>\n",
       "      <td>펫스타그램</td>\n",
       "      <td>b5500161-a207-4213-801b-396f4d1ef3eb.jpg</td>\n",
       "      <td>image/펫스타그램/b5500161-a207-4213-801b-396f4d1ef3...</td>\n",
       "      <td>50285</td>\n",
       "      <td>[#쁘띠아랑, #instadog, #팜므파탈백돼지걸, #반려견, #わんちゃん, #l...</td>\n",
       "      <td>False</td>\n",
       "      <td>https://www.instagram.com/p/Ccfd5SOpL2W/</td>\n",
       "      <td>https://scontent-gmp1-1.cdninstagram.com/v/t51...</td>\n",
       "      <td>반려동물</td>\n",
       "      <td>False</td>\n",
       "    </tr>\n",
       "    <tr>\n",
       "      <th>3</th>\n",
       "      <td>펫스타그램</td>\n",
       "      <td>d1697f81-06a1-4a8a-a5fa-1a764b28066a.jpg</td>\n",
       "      <td>image/펫스타그램/d1697f81-06a1-4a8a-a5fa-1a764b2806...</td>\n",
       "      <td>136</td>\n",
       "      <td>[#멍팔환영, #instadog, #petstagram, #l4l, #비숑프리제, ...</td>\n",
       "      <td>False</td>\n",
       "      <td>https://www.instagram.com/p/CcfPqzNJvRb/</td>\n",
       "      <td>https://scontent-gmp1-1.cdninstagram.com/v/t51...</td>\n",
       "      <td>반려동물</td>\n",
       "      <td>False</td>\n",
       "    </tr>\n",
       "    <tr>\n",
       "      <th>4</th>\n",
       "      <td>펫스타그램</td>\n",
       "      <td>5d6b1c34-0fda-4b69-8b52-157424878611.jpg</td>\n",
       "      <td>image/펫스타그램/5d6b1c34-0fda-4b69-8b52-1574248786...</td>\n",
       "      <td>28508</td>\n",
       "      <td>[#makji, #pet, #캣스타그램, #kitten, #반려묘, #무지, #mu...</td>\n",
       "      <td>False</td>\n",
       "      <td>https://www.instagram.com/p/CchmY14LZKL/</td>\n",
       "      <td>https://scontent-gmp1-1.cdninstagram.com/v/t51...</td>\n",
       "      <td>반려동물</td>\n",
       "      <td>False</td>\n",
       "    </tr>\n",
       "    <tr>\n",
       "      <th>...</th>\n",
       "      <td>...</td>\n",
       "      <td>...</td>\n",
       "      <td>...</td>\n",
       "      <td>...</td>\n",
       "      <td>...</td>\n",
       "      <td>...</td>\n",
       "      <td>...</td>\n",
       "      <td>...</td>\n",
       "      <td>...</td>\n",
       "      <td>...</td>\n",
       "    </tr>\n",
       "    <tr>\n",
       "      <th>4024</th>\n",
       "      <td>도치맘</td>\n",
       "      <td>877f159e-fa65-400c-937a-bfebbd47cdea.jpg</td>\n",
       "      <td>image/도치맘/877f159e-fa65-400c-937a-bfebbd47cdea...</td>\n",
       "      <td>8</td>\n",
       "      <td>[#인스타베이비, #딸바보, #baby, #followforfollowback, #...</td>\n",
       "      <td>False</td>\n",
       "      <td>https://www.instagram.com/p/CcnbSWzJUoI/</td>\n",
       "      <td>https://scontent-gmp1-1.cdninstagram.com/v/t51...</td>\n",
       "      <td>육아</td>\n",
       "      <td>False</td>\n",
       "    </tr>\n",
       "    <tr>\n",
       "      <th>4025</th>\n",
       "      <td>도치맘</td>\n",
       "      <td>fee666be-d230-4b38-a62b-0592cf97eb49.jpg</td>\n",
       "      <td>image/도치맘/fee666be-d230-4b38-a62b-0592cf97eb49...</td>\n",
       "      <td>15</td>\n",
       "      <td>[#3개월아기, #육아템, #예비맘, #소띠아기, #도치맘, #여행, #아기용품, ...</td>\n",
       "      <td>False</td>\n",
       "      <td>https://www.instagram.com/p/CcnbOatLgwK/</td>\n",
       "      <td>https://scontent-gmp1-1.cdninstagram.com/v/t51...</td>\n",
       "      <td>육아</td>\n",
       "      <td>False</td>\n",
       "    </tr>\n",
       "    <tr>\n",
       "      <th>4026</th>\n",
       "      <td>도치맘</td>\n",
       "      <td>d71a665d-1a1e-4940-a018-357ca7312fa0.jpg</td>\n",
       "      <td>image/도치맘/d71a665d-1a1e-4940-a018-357ca7312fa0...</td>\n",
       "      <td>12</td>\n",
       "      <td>[#딸스타그램, #소띠아기, #도치맘, #흰소띠맘, #초기이유식, #엄마랑딸, #태...</td>\n",
       "      <td>False</td>\n",
       "      <td>https://www.instagram.com/p/CcnbVdGPhCS/</td>\n",
       "      <td>https://scontent-gmp1-1.cdninstagram.com/v/t51...</td>\n",
       "      <td>육아</td>\n",
       "      <td>False</td>\n",
       "    </tr>\n",
       "    <tr>\n",
       "      <th>4027</th>\n",
       "      <td>도치맘</td>\n",
       "      <td>8bf95008-8c70-4509-9b92-424aa7beb7fe.jpg</td>\n",
       "      <td>image/도치맘/8bf95008-8c70-4509-9b92-424aa7beb7fe...</td>\n",
       "      <td>26</td>\n",
       "      <td>[#애개육아, #맘스타그램, #도치맘, #신혼부부, #출산, #육아, #95, #육...</td>\n",
       "      <td>False</td>\n",
       "      <td>https://www.instagram.com/p/CcnbWu6raIt/</td>\n",
       "      <td>https://scontent-gmp1-1.cdninstagram.com/v/t51...</td>\n",
       "      <td>육아</td>\n",
       "      <td>False</td>\n",
       "    </tr>\n",
       "    <tr>\n",
       "      <th>4028</th>\n",
       "      <td>도치맘</td>\n",
       "      <td>19a05273-2bd7-4207-b10a-f6430bc5e6e8.jpg</td>\n",
       "      <td>image/도치맘/19a05273-2bd7-4207-b10a-f6430bc5e6e8...</td>\n",
       "      <td>14</td>\n",
       "      <td>[#성장일기, #아기, #아기스타그램, #소띠아기, #도치맘, #우리집에동자승있다,...</td>\n",
       "      <td>False</td>\n",
       "      <td>https://www.instagram.com/p/CcnbRA0L1qy/</td>\n",
       "      <td>https://scontent-gmp1-1.cdninstagram.com/v/t51...</td>\n",
       "      <td>육아</td>\n",
       "      <td>False</td>\n",
       "    </tr>\n",
       "  </tbody>\n",
       "</table>\n",
       "<p>4029 rows × 10 columns</p>\n",
       "</div>\n",
       "      <button class=\"colab-df-convert\" onclick=\"convertToInteractive('df-63b8adc1-73fd-4b2e-8c6f-7db614f6da6b')\"\n",
       "              title=\"Convert this dataframe to an interactive table.\"\n",
       "              style=\"display:none;\">\n",
       "        \n",
       "  <svg xmlns=\"http://www.w3.org/2000/svg\" height=\"24px\"viewBox=\"0 0 24 24\"\n",
       "       width=\"24px\">\n",
       "    <path d=\"M0 0h24v24H0V0z\" fill=\"none\"/>\n",
       "    <path d=\"M18.56 5.44l.94 2.06.94-2.06 2.06-.94-2.06-.94-.94-2.06-.94 2.06-2.06.94zm-11 1L8.5 8.5l.94-2.06 2.06-.94-2.06-.94L8.5 2.5l-.94 2.06-2.06.94zm10 10l.94 2.06.94-2.06 2.06-.94-2.06-.94-.94-2.06-.94 2.06-2.06.94z\"/><path d=\"M17.41 7.96l-1.37-1.37c-.4-.4-.92-.59-1.43-.59-.52 0-1.04.2-1.43.59L10.3 9.45l-7.72 7.72c-.78.78-.78 2.05 0 2.83L4 21.41c.39.39.9.59 1.41.59.51 0 1.02-.2 1.41-.59l7.78-7.78 2.81-2.81c.8-.78.8-2.07 0-2.86zM5.41 20L4 18.59l7.72-7.72 1.47 1.35L5.41 20z\"/>\n",
       "  </svg>\n",
       "      </button>\n",
       "      \n",
       "  <style>\n",
       "    .colab-df-container {\n",
       "      display:flex;\n",
       "      flex-wrap:wrap;\n",
       "      gap: 12px;\n",
       "    }\n",
       "\n",
       "    .colab-df-convert {\n",
       "      background-color: #E8F0FE;\n",
       "      border: none;\n",
       "      border-radius: 50%;\n",
       "      cursor: pointer;\n",
       "      display: none;\n",
       "      fill: #1967D2;\n",
       "      height: 32px;\n",
       "      padding: 0 0 0 0;\n",
       "      width: 32px;\n",
       "    }\n",
       "\n",
       "    .colab-df-convert:hover {\n",
       "      background-color: #E2EBFA;\n",
       "      box-shadow: 0px 1px 2px rgba(60, 64, 67, 0.3), 0px 1px 3px 1px rgba(60, 64, 67, 0.15);\n",
       "      fill: #174EA6;\n",
       "    }\n",
       "\n",
       "    [theme=dark] .colab-df-convert {\n",
       "      background-color: #3B4455;\n",
       "      fill: #D2E3FC;\n",
       "    }\n",
       "\n",
       "    [theme=dark] .colab-df-convert:hover {\n",
       "      background-color: #434B5C;\n",
       "      box-shadow: 0px 1px 3px 1px rgba(0, 0, 0, 0.15);\n",
       "      filter: drop-shadow(0px 1px 2px rgba(0, 0, 0, 0.3));\n",
       "      fill: #FFFFFF;\n",
       "    }\n",
       "  </style>\n",
       "\n",
       "      <script>\n",
       "        const buttonEl =\n",
       "          document.querySelector('#df-63b8adc1-73fd-4b2e-8c6f-7db614f6da6b button.colab-df-convert');\n",
       "        buttonEl.style.display =\n",
       "          google.colab.kernel.accessAllowed ? 'block' : 'none';\n",
       "\n",
       "        async function convertToInteractive(key) {\n",
       "          const element = document.querySelector('#df-63b8adc1-73fd-4b2e-8c6f-7db614f6da6b');\n",
       "          const dataTable =\n",
       "            await google.colab.kernel.invokeFunction('convertToInteractive',\n",
       "                                                     [key], {});\n",
       "          if (!dataTable) return;\n",
       "\n",
       "          const docLinkHtml = 'Like what you see? Visit the ' +\n",
       "            '<a target=\"_blank\" href=https://colab.research.google.com/notebooks/data_table.ipynb>data table notebook</a>'\n",
       "            + ' to learn more about interactive tables.';\n",
       "          element.innerHTML = '';\n",
       "          dataTable['output_type'] = 'display_data';\n",
       "          await google.colab.output.renderOutput(dataTable, element);\n",
       "          const docLink = document.createElement('div');\n",
       "          docLink.innerHTML = docLinkHtml;\n",
       "          element.appendChild(docLink);\n",
       "        }\n",
       "      </script>\n",
       "    </div>\n",
       "  </div>\n",
       "  "
      ],
      "text/plain": [
       "      검색키워드                                    이미지파일명  \\\n",
       "0     펫스타그램  af37feb6-2166-440a-9612-917e5bd32e99.jpg   \n",
       "1     펫스타그램  ac8fc4dc-8179-4808-b8d5-ee141f4432f5.jpg   \n",
       "2     펫스타그램  b5500161-a207-4213-801b-396f4d1ef3eb.jpg   \n",
       "3     펫스타그램  d1697f81-06a1-4a8a-a5fa-1a764b28066a.jpg   \n",
       "4     펫스타그램  5d6b1c34-0fda-4b69-8b52-157424878611.jpg   \n",
       "...     ...                                       ...   \n",
       "4024    도치맘  877f159e-fa65-400c-937a-bfebbd47cdea.jpg   \n",
       "4025    도치맘  fee666be-d230-4b38-a62b-0592cf97eb49.jpg   \n",
       "4026    도치맘  d71a665d-1a1e-4940-a018-357ca7312fa0.jpg   \n",
       "4027    도치맘  8bf95008-8c70-4509-9b92-424aa7beb7fe.jpg   \n",
       "4028    도치맘  19a05273-2bd7-4207-b10a-f6430bc5e6e8.jpg   \n",
       "\n",
       "                                                   파일경로    좋아요  \\\n",
       "0     image/펫스타그램/af37feb6-2166-440a-9612-917e5bd32e...   2438   \n",
       "1     image/펫스타그램/ac8fc4dc-8179-4808-b8d5-ee141f4432...   2039   \n",
       "2     image/펫스타그램/b5500161-a207-4213-801b-396f4d1ef3...  50285   \n",
       "3     image/펫스타그램/d1697f81-06a1-4a8a-a5fa-1a764b2806...    136   \n",
       "4     image/펫스타그램/5d6b1c34-0fda-4b69-8b52-1574248786...  28508   \n",
       "...                                                 ...    ...   \n",
       "4024  image/도치맘/877f159e-fa65-400c-937a-bfebbd47cdea...      8   \n",
       "4025  image/도치맘/fee666be-d230-4b38-a62b-0592cf97eb49...     15   \n",
       "4026  image/도치맘/d71a665d-1a1e-4940-a018-357ca7312fa0...     12   \n",
       "4027  image/도치맘/8bf95008-8c70-4509-9b92-424aa7beb7fe...     26   \n",
       "4028  image/도치맘/19a05273-2bd7-4207-b10a-f6430bc5e6e8...     14   \n",
       "\n",
       "                                                   해시태그  이미지한개  \\\n",
       "0     [#pom, #멍스타그램, #pomeranian, #포메, #pet, #강아지모델,...  False   \n",
       "1     [#영화관, #동물스타그램, #반려견, #펫스타그램, #dog, #cat, #pet...  False   \n",
       "2     [#쁘띠아랑, #instadog, #팜므파탈백돼지걸, #반려견, #わんちゃん, #l...  False   \n",
       "3     [#멍팔환영, #instadog, #petstagram, #l4l, #비숑프리제, ...  False   \n",
       "4     [#makji, #pet, #캣스타그램, #kitten, #반려묘, #무지, #mu...  False   \n",
       "...                                                 ...    ...   \n",
       "4024  [#인스타베이비, #딸바보, #baby, #followforfollowback, #...  False   \n",
       "4025  [#3개월아기, #육아템, #예비맘, #소띠아기, #도치맘, #여행, #아기용품, ...  False   \n",
       "4026  [#딸스타그램, #소띠아기, #도치맘, #흰소띠맘, #초기이유식, #엄마랑딸, #태...  False   \n",
       "4027  [#애개육아, #맘스타그램, #도치맘, #신혼부부, #출산, #육아, #95, #육...  False   \n",
       "4028  [#성장일기, #아기, #아기스타그램, #소띠아기, #도치맘, #우리집에동자승있다,...  False   \n",
       "\n",
       "                                        게시글url  \\\n",
       "0     https://www.instagram.com/p/Ccg47zap-EJ/   \n",
       "1     https://www.instagram.com/p/CchvCi7phd3/   \n",
       "2     https://www.instagram.com/p/Ccfd5SOpL2W/   \n",
       "3     https://www.instagram.com/p/CcfPqzNJvRb/   \n",
       "4     https://www.instagram.com/p/CchmY14LZKL/   \n",
       "...                                        ...   \n",
       "4024  https://www.instagram.com/p/CcnbSWzJUoI/   \n",
       "4025  https://www.instagram.com/p/CcnbOatLgwK/   \n",
       "4026  https://www.instagram.com/p/CcnbVdGPhCS/   \n",
       "4027  https://www.instagram.com/p/CcnbWu6raIt/   \n",
       "4028  https://www.instagram.com/p/CcnbRA0L1qy/   \n",
       "\n",
       "                                                 이미지url 메인키워드   광고여부  \n",
       "0     https://scontent-gmp1-1.cdninstagram.com/v/t51...  반려동물  False  \n",
       "1     https://scontent-gmp1-1.cdninstagram.com/v/t51...  반려동물  False  \n",
       "2     https://scontent-gmp1-1.cdninstagram.com/v/t51...  반려동물  False  \n",
       "3     https://scontent-gmp1-1.cdninstagram.com/v/t51...  반려동물  False  \n",
       "4     https://scontent-gmp1-1.cdninstagram.com/v/t51...  반려동물  False  \n",
       "...                                                 ...   ...    ...  \n",
       "4024  https://scontent-gmp1-1.cdninstagram.com/v/t51...    육아  False  \n",
       "4025  https://scontent-gmp1-1.cdninstagram.com/v/t51...    육아  False  \n",
       "4026  https://scontent-gmp1-1.cdninstagram.com/v/t51...    육아  False  \n",
       "4027  https://scontent-gmp1-1.cdninstagram.com/v/t51...    육아  False  \n",
       "4028  https://scontent-gmp1-1.cdninstagram.com/v/t51...    육아  False  \n",
       "\n",
       "[4029 rows x 10 columns]"
      ]
     },
     "execution_count": 4,
     "metadata": {},
     "output_type": "execute_result"
    }
   ],
   "source": [
    "DIR = 'preprocessed/dataframe'\n",
    "df = joblib.load(f'{DIR}/insta_df.pkl')\n",
    "df"
   ]
  },
  {
   "cell_type": "markdown",
   "id": "62fb22ff",
   "metadata": {
    "id": "62fb22ff"
   },
   "source": [
    "# 저장경로 설정"
   ]
  },
  {
   "cell_type": "code",
   "execution_count": 5,
   "id": "3a7b4cc6",
   "metadata": {
    "ExecuteTime": {
     "end_time": "2022-04-21T15:09:25.499830Z",
     "start_time": "2022-04-21T15:09:25.486819Z"
    },
    "executionInfo": {
     "elapsed": 5,
     "status": "ok",
     "timestamp": 1650603072774,
     "user": {
      "displayName": "강준모",
      "userId": "14855937078495325719"
     },
     "user_tz": -540
    },
    "id": "3a7b4cc6"
   },
   "outputs": [],
   "source": [
    "DIR_SAVE = 'preprocessed/image'\n",
    "try:\n",
    "    os.makedirs(DIR_SAVE)\n",
    "except OSError:\n",
    "    print('이미 존재합니다')"
   ]
  },
  {
   "cell_type": "markdown",
   "id": "0a9115a1",
   "metadata": {
    "id": "0a9115a1"
   },
   "source": [
    "# 불러올 경로 설정"
   ]
  },
  {
   "cell_type": "code",
   "execution_count": 6,
   "id": "189817ba",
   "metadata": {
    "ExecuteTime": {
     "end_time": "2022-04-21T15:09:25.514853Z",
     "start_time": "2022-04-21T15:09:25.502785Z"
    },
    "executionInfo": {
     "elapsed": 6,
     "status": "ok",
     "timestamp": 1650603072775,
     "user": {
      "displayName": "강준모",
      "userId": "14855937078495325719"
     },
     "user_tz": -540
    },
    "id": "189817ba"
   },
   "outputs": [],
   "source": [
    "DIR_LOAD = 'image'"
   ]
  },
  {
   "cell_type": "markdown",
   "id": "9f2947cd",
   "metadata": {
    "id": "9f2947cd"
   },
   "source": [
    "# 이미지 옮겨심기"
   ]
  },
  {
   "cell_type": "code",
   "execution_count": 7,
   "id": "a12b6ad5",
   "metadata": {
    "ExecuteTime": {
     "end_time": "2022-04-21T15:16:21.577574Z",
     "start_time": "2022-04-21T15:15:51.325961Z"
    },
    "colab": {
     "base_uri": "https://localhost:8080/"
    },
    "executionInfo": {
     "elapsed": 1187979,
     "status": "ok",
     "timestamp": 1650604260749,
     "user": {
      "displayName": "강준모",
      "userId": "14855937078495325719"
     },
     "user_tz": -540
    },
    "id": "a12b6ad5",
    "outputId": "0f098b73-ee7f-4824-e993-f6a673588312"
   },
   "outputs": [
    {
     "name": "stdout",
     "output_type": "stream",
     "text": [
      "에러발생 [Errno 2] No such file or directory: 'image/반려동물/dbb97c72-e311-484e-8ccf-127220f541fb.jpg'\n",
      "에러발생 [Errno 2] No such file or directory: 'image/육아/f6b4e1a9-e3c1-4bd2-8a3c-4471bc45fb6f.jpg'\n",
      "에러발생 [Errno 2] No such file or directory: 'image/육아그램/2905b076-fb69-44cf-8720-c926a19b9b30.jpg'\n",
      "에러발생 [Errno 2] No such file or directory: 'image/육아그램/87b96660-5205-43cd-87db-f54ae481a496.jpg'\n"
     ]
    }
   ],
   "source": [
    "for keyword, file_name, img_url in zip(df['검색키워드'], df['이미지파일명'], df['이미지url']):\n",
    "    try:\n",
    "        load_file_path = f'{DIR_LOAD}/{keyword}/{file_name}'\n",
    "        save_file_path = f'{DIR_SAVE}/'\n",
    "        shutil.copy2(load_file_path, save_file_path)\n",
    "    except Exception as ex:\n",
    "        print('에러발생', ex)\n",
    "        urlretrieve(img_url, f'{DIR_SAVE}/{file_name}')"
   ]
  },
  {
   "cell_type": "code",
   "execution_count": 7,
   "id": "623f76f0",
   "metadata": {
    "executionInfo": {
     "elapsed": 10,
     "status": "ok",
     "timestamp": 1650604260751,
     "user": {
      "displayName": "강준모",
      "userId": "14855937078495325719"
     },
     "user_tz": -540
    },
    "id": "623f76f0"
   },
   "outputs": [],
   "source": []
  }
 ],
 "metadata": {
  "colab": {
   "name": "(WARNING-RESET)데이터프레임에 존재하는 이미지만 따로 저장하기.ipynb",
   "provenance": []
  },
  "kernelspec": {
   "display_name": "Python 3 (ipykernel)",
   "language": "python",
   "name": "python3"
  },
  "language_info": {
   "codemirror_mode": {
    "name": "ipython",
    "version": 3
   },
   "file_extension": ".py",
   "mimetype": "text/x-python",
   "name": "python",
   "nbconvert_exporter": "python",
   "pygments_lexer": "ipython3",
   "version": "3.9.10"
  },
  "toc": {
   "base_numbering": 1,
   "nav_menu": {},
   "number_sections": true,
   "sideBar": true,
   "skip_h1_title": false,
   "title_cell": "Table of Contents",
   "title_sidebar": "Contents",
   "toc_cell": false,
   "toc_position": {},
   "toc_section_display": true,
   "toc_window_display": false
  },
  "varInspector": {
   "cols": {
    "lenName": 16,
    "lenType": 16,
    "lenVar": 40
   },
   "kernels_config": {
    "python": {
     "delete_cmd_postfix": "",
     "delete_cmd_prefix": "del ",
     "library": "var_list.py",
     "varRefreshCmd": "print(var_dic_list())"
    },
    "r": {
     "delete_cmd_postfix": ") ",
     "delete_cmd_prefix": "rm(",
     "library": "var_list.r",
     "varRefreshCmd": "cat(var_dic_list()) "
    }
   },
   "types_to_exclude": [
    "module",
    "function",
    "builtin_function_or_method",
    "instance",
    "_Feature"
   ],
   "window_display": false
  }
 },
 "nbformat": 4,
 "nbformat_minor": 5
}
