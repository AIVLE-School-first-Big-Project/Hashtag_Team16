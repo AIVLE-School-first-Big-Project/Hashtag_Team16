{
 "cells": [
  {
   "cell_type": "code",
   "execution_count": 2,
   "id": "QOxShcGA6s_i",
   "metadata": {
    "ExecuteTime": {
     "end_time": "2022-05-07T05:40:56.151476Z",
     "start_time": "2022-05-07T05:40:55.359434Z"
    },
    "id": "QOxShcGA6s_i"
   },
   "outputs": [],
   "source": [
    "import numpy as np\n",
    "import pandas as pd\n",
    "import joblib\n",
    "import os\n",
    "from glob import glob\n",
    "import preprocessing_step1 as pps1"
   ]
  },
  {
   "cell_type": "markdown",
   "id": "bf5e349b",
   "metadata": {
    "id": "bf5e349b"
   },
   "source": [
    "# 크롤링 오리지널 데이터 불러오기"
   ]
  },
  {
   "cell_type": "markdown",
   "id": "362c3750",
   "metadata": {
    "id": "362c3750"
   },
   "source": [
    "## 가져올 키워드 선정 및 경로설정"
   ]
  },
  {
   "cell_type": "code",
   "execution_count": 6,
   "id": "1U_SXIP6C-Zz",
   "metadata": {
    "ExecuteTime": {
     "end_time": "2022-05-07T05:40:56.226133Z",
     "start_time": "2022-05-07T05:40:56.214164Z"
    },
    "id": "1U_SXIP6C-Zz"
   },
   "outputs": [],
   "source": [
    "keywords_pet = ['펫스타그램', '반려동물', '강아지', '멍스타그램', '댕댕이', '반려견','멍멍이',\n",
    "    '고양이', '냥스타그램', '개냥이', '반려묘', '집사']\n",
    "\n",
    "keywords_baby = ['육아', '육아그램', '육아스타그램', '맘스타그램', '키즈스타그램', '육아일기',\n",
    "    '육아인스타', '아기스타그램', '아기그램', '베이비그램', '육아기록', '도치맘']\n",
    "\n",
    "keywords_view = ['풍경스타그램', '풍경', '풍경사진']\n",
    "\n",
    "keywords_book = ['북스타그램', '독서', '독서스타그램', '책스타그램']\n",
    "\n",
    "keywords_face = ['얼스타그램', '셀스타그램', '셀카', '얼스타', '셀피']\n",
    "\n",
    "keywords_food = ['맛스타그램', '먹스타그램', '맛집여행', '먹방', '먹방', '오늘뭐먹지']"
   ]
  },
  {
   "cell_type": "code",
   "execution_count": 7,
   "id": "7fb933da",
   "metadata": {
    "ExecuteTime": {
     "end_time": "2022-05-07T05:40:56.241128Z",
     "start_time": "2022-05-07T05:40:56.229125Z"
    },
    "id": "7fb933da"
   },
   "outputs": [],
   "source": [
    "keywords = keywords_pet + keywords_baby + keywords_view +keywords_book + keywords_face + keywords_food\n",
    "ROOT_PATH = './'"
   ]
  },
  {
   "cell_type": "markdown",
   "id": "e2f5da93",
   "metadata": {
    "id": "e2f5da93"
   },
   "source": [
    "## 데이터 가져오기(null값 제거된 것)"
   ]
  },
  {
   "cell_type": "code",
   "execution_count": 8,
   "id": "2c0890c7",
   "metadata": {
    "ExecuteTime": {
     "end_time": "2022-05-07T05:40:56.765295Z",
     "start_time": "2022-05-07T05:40:56.243387Z"
    },
    "colab": {
     "base_uri": "https://localhost:8080/",
     "height": 1000
    },
    "executionInfo": {
     "elapsed": 382,
     "status": "ok",
     "timestamp": 1650602102189,
     "user": {
      "displayName": "강준모",
      "userId": "14855937078495325719"
     },
     "user_tz": -540
    },
    "id": "2c0890c7",
    "outputId": "f101b715-70d2-453d-a59e-8f5633ac9773"
   },
   "outputs": [
    {
     "data": {
      "text/html": [
       "<div>\n",
       "<style scoped>\n",
       "    .dataframe tbody tr th:only-of-type {\n",
       "        vertical-align: middle;\n",
       "    }\n",
       "\n",
       "    .dataframe tbody tr th {\n",
       "        vertical-align: top;\n",
       "    }\n",
       "\n",
       "    .dataframe thead th {\n",
       "        text-align: right;\n",
       "    }\n",
       "</style>\n",
       "<table border=\"1\" class=\"dataframe\">\n",
       "  <thead>\n",
       "    <tr style=\"text-align: right;\">\n",
       "      <th></th>\n",
       "      <th>검색키워드</th>\n",
       "      <th>이미지파일명</th>\n",
       "      <th>파일경로</th>\n",
       "      <th>좋아요</th>\n",
       "      <th>해시태그</th>\n",
       "      <th>이미지한개</th>\n",
       "      <th>게시글url</th>\n",
       "      <th>이미지url</th>\n",
       "    </tr>\n",
       "  </thead>\n",
       "  <tbody>\n",
       "    <tr>\n",
       "      <th>0</th>\n",
       "      <td>펫스타그램</td>\n",
       "      <td>af37feb6-2166-440a-9612-917e5bd32e99.jpg</td>\n",
       "      <td>image/펫스타그램/af37feb6-2166-440a-9612-917e5bd32e...</td>\n",
       "      <td>2438</td>\n",
       "      <td>[#pom, #멍스타그램, #pomeranian, #포메, #pet, #강아지모델,...</td>\n",
       "      <td>False</td>\n",
       "      <td>https://www.instagram.com/p/Ccg47zap-EJ/</td>\n",
       "      <td>https://scontent-gmp1-1.cdninstagram.com/v/t51...</td>\n",
       "    </tr>\n",
       "    <tr>\n",
       "      <th>1</th>\n",
       "      <td>펫스타그램</td>\n",
       "      <td>ac8fc4dc-8179-4808-b8d5-ee141f4432f5.jpg</td>\n",
       "      <td>image/펫스타그램/ac8fc4dc-8179-4808-b8d5-ee141f4432...</td>\n",
       "      <td>2039</td>\n",
       "      <td>[#영화관, #동물스타그램, #반려견, #펫스타그램, #dog, #cat, #pet...</td>\n",
       "      <td>False</td>\n",
       "      <td>https://www.instagram.com/p/CchvCi7phd3/</td>\n",
       "      <td>https://scontent-gmp1-1.cdninstagram.com/v/t51...</td>\n",
       "    </tr>\n",
       "    <tr>\n",
       "      <th>2</th>\n",
       "      <td>펫스타그램</td>\n",
       "      <td>b5500161-a207-4213-801b-396f4d1ef3eb.jpg</td>\n",
       "      <td>image/펫스타그램/b5500161-a207-4213-801b-396f4d1ef3...</td>\n",
       "      <td>50285</td>\n",
       "      <td>[#쁘띠아랑, #instadog, #팜므파탈백돼지걸, #반려견, #わんちゃん, #l...</td>\n",
       "      <td>False</td>\n",
       "      <td>https://www.instagram.com/p/Ccfd5SOpL2W/</td>\n",
       "      <td>https://scontent-gmp1-1.cdninstagram.com/v/t51...</td>\n",
       "    </tr>\n",
       "    <tr>\n",
       "      <th>3</th>\n",
       "      <td>펫스타그램</td>\n",
       "      <td>d1697f81-06a1-4a8a-a5fa-1a764b28066a.jpg</td>\n",
       "      <td>image/펫스타그램/d1697f81-06a1-4a8a-a5fa-1a764b2806...</td>\n",
       "      <td>136</td>\n",
       "      <td>[#멍팔환영, #instadog, #petstagram, #반려견소통, #l4l, ...</td>\n",
       "      <td>False</td>\n",
       "      <td>https://www.instagram.com/p/CcfPqzNJvRb/</td>\n",
       "      <td>https://scontent-gmp1-1.cdninstagram.com/v/t51...</td>\n",
       "    </tr>\n",
       "    <tr>\n",
       "      <th>4</th>\n",
       "      <td>펫스타그램</td>\n",
       "      <td>5d6b1c34-0fda-4b69-8b52-157424878611.jpg</td>\n",
       "      <td>image/펫스타그램/5d6b1c34-0fda-4b69-8b52-1574248786...</td>\n",
       "      <td>28508</td>\n",
       "      <td>[#유튜브, #makji, #pet, #캣스타그램, #고양이일상, #kitten, ...</td>\n",
       "      <td>False</td>\n",
       "      <td>https://www.instagram.com/p/CchmY14LZKL/</td>\n",
       "      <td>https://scontent-gmp1-1.cdninstagram.com/v/t51...</td>\n",
       "    </tr>\n",
       "    <tr>\n",
       "      <th>...</th>\n",
       "      <td>...</td>\n",
       "      <td>...</td>\n",
       "      <td>...</td>\n",
       "      <td>...</td>\n",
       "      <td>...</td>\n",
       "      <td>...</td>\n",
       "      <td>...</td>\n",
       "      <td>...</td>\n",
       "    </tr>\n",
       "    <tr>\n",
       "      <th>10333</th>\n",
       "      <td>오늘뭐먹지</td>\n",
       "      <td>a6c55453-c60d-4ba4-9f6c-a44c6cd6105d.jpg</td>\n",
       "      <td>image/오늘뭐먹지/a6c55453-c60d-4ba4-9f6c-a44c6cd610...</td>\n",
       "      <td>17</td>\n",
       "      <td>[#편의점, #간식, #연휴, #데이트, #공스타그램, #유지어터, #일상, #헬스...</td>\n",
       "      <td>True</td>\n",
       "      <td>https://www.instagram.com/p/CdLQeQQlXPw/</td>\n",
       "      <td>https://scontent-gmp1-1.cdninstagram.com/v/t51...</td>\n",
       "    </tr>\n",
       "    <tr>\n",
       "      <th>10334</th>\n",
       "      <td>오늘뭐먹지</td>\n",
       "      <td>4c0a252c-eed7-486e-b97b-a19b9564e957.jpg</td>\n",
       "      <td>image/오늘뭐먹지/4c0a252c-eed7-486e-b97b-a19b9564e9...</td>\n",
       "      <td>5</td>\n",
       "      <td>[#보라매맛집, #먹방, #신풍역맛집, #인기맛집, #외식, #술한잔, #신풍맛집원...</td>\n",
       "      <td>False</td>\n",
       "      <td>https://www.instagram.com/p/CdLQVjdhf-H/</td>\n",
       "      <td>https://scontent-gmp1-1.cdninstagram.com/v/t51...</td>\n",
       "    </tr>\n",
       "    <tr>\n",
       "      <th>10335</th>\n",
       "      <td>오늘뭐먹지</td>\n",
       "      <td>72c3ba75-ab30-44e3-92fc-a9962fc2878d.jpg</td>\n",
       "      <td>image/오늘뭐먹지/72c3ba75-ab30-44e3-92fc-a9962fc287...</td>\n",
       "      <td>11</td>\n",
       "      <td>[#편의점, #맛스타그램, #먹방, #존맛탱, #불닭, #맛집스타그램, #foodp...</td>\n",
       "      <td>True</td>\n",
       "      <td>https://www.instagram.com/p/CdLQJ90p60Z/</td>\n",
       "      <td>https://scontent-gmp1-1.cdninstagram.com/v/t51...</td>\n",
       "    </tr>\n",
       "    <tr>\n",
       "      <th>10336</th>\n",
       "      <td>오늘뭐먹지</td>\n",
       "      <td>e0dfbafe-3896-43ed-83b4-ed5b2cb9487b.jpg</td>\n",
       "      <td>image/오늘뭐먹지/e0dfbafe-3896-43ed-83b4-ed5b2cb948...</td>\n",
       "      <td>48</td>\n",
       "      <td>[#미식가, #유리잔, #여행스타그램, #제주카페투어, #나만의식탁, #제주감성카페...</td>\n",
       "      <td>False</td>\n",
       "      <td>https://www.instagram.com/p/CdLQMfoLQIi/</td>\n",
       "      <td>https://scontent-gmp1-1.cdninstagram.com/v/t51...</td>\n",
       "    </tr>\n",
       "    <tr>\n",
       "      <th>10337</th>\n",
       "      <td>오늘뭐먹지</td>\n",
       "      <td>1f3fba66-9e57-4aa5-8529-04b3b98d0fa4.jpg</td>\n",
       "      <td>image/오늘뭐먹지/1f3fba66-9e57-4aa5-8529-04b3b98d0f...</td>\n",
       "      <td>35</td>\n",
       "      <td>[#금손, #리뷰, #체험단, #냉면맛집, #밀키트, #온더테이블, #만능육수, #...</td>\n",
       "      <td>False</td>\n",
       "      <td>https://www.instagram.com/p/CdLQVTUFkJR/</td>\n",
       "      <td>https://scontent-gmp1-1.cdninstagram.com/v/t51...</td>\n",
       "    </tr>\n",
       "  </tbody>\n",
       "</table>\n",
       "<p>10338 rows × 8 columns</p>\n",
       "</div>"
      ],
      "text/plain": [
       "       검색키워드                                    이미지파일명  \\\n",
       "0      펫스타그램  af37feb6-2166-440a-9612-917e5bd32e99.jpg   \n",
       "1      펫스타그램  ac8fc4dc-8179-4808-b8d5-ee141f4432f5.jpg   \n",
       "2      펫스타그램  b5500161-a207-4213-801b-396f4d1ef3eb.jpg   \n",
       "3      펫스타그램  d1697f81-06a1-4a8a-a5fa-1a764b28066a.jpg   \n",
       "4      펫스타그램  5d6b1c34-0fda-4b69-8b52-157424878611.jpg   \n",
       "...      ...                                       ...   \n",
       "10333  오늘뭐먹지  a6c55453-c60d-4ba4-9f6c-a44c6cd6105d.jpg   \n",
       "10334  오늘뭐먹지  4c0a252c-eed7-486e-b97b-a19b9564e957.jpg   \n",
       "10335  오늘뭐먹지  72c3ba75-ab30-44e3-92fc-a9962fc2878d.jpg   \n",
       "10336  오늘뭐먹지  e0dfbafe-3896-43ed-83b4-ed5b2cb9487b.jpg   \n",
       "10337  오늘뭐먹지  1f3fba66-9e57-4aa5-8529-04b3b98d0fa4.jpg   \n",
       "\n",
       "                                                    파일경로    좋아요  \\\n",
       "0      image/펫스타그램/af37feb6-2166-440a-9612-917e5bd32e...   2438   \n",
       "1      image/펫스타그램/ac8fc4dc-8179-4808-b8d5-ee141f4432...   2039   \n",
       "2      image/펫스타그램/b5500161-a207-4213-801b-396f4d1ef3...  50285   \n",
       "3      image/펫스타그램/d1697f81-06a1-4a8a-a5fa-1a764b2806...    136   \n",
       "4      image/펫스타그램/5d6b1c34-0fda-4b69-8b52-1574248786...  28508   \n",
       "...                                                  ...    ...   \n",
       "10333  image/오늘뭐먹지/a6c55453-c60d-4ba4-9f6c-a44c6cd610...     17   \n",
       "10334  image/오늘뭐먹지/4c0a252c-eed7-486e-b97b-a19b9564e9...      5   \n",
       "10335  image/오늘뭐먹지/72c3ba75-ab30-44e3-92fc-a9962fc287...     11   \n",
       "10336  image/오늘뭐먹지/e0dfbafe-3896-43ed-83b4-ed5b2cb948...     48   \n",
       "10337  image/오늘뭐먹지/1f3fba66-9e57-4aa5-8529-04b3b98d0f...     35   \n",
       "\n",
       "                                                    해시태그  이미지한개  \\\n",
       "0      [#pom, #멍스타그램, #pomeranian, #포메, #pet, #강아지모델,...  False   \n",
       "1      [#영화관, #동물스타그램, #반려견, #펫스타그램, #dog, #cat, #pet...  False   \n",
       "2      [#쁘띠아랑, #instadog, #팜므파탈백돼지걸, #반려견, #わんちゃん, #l...  False   \n",
       "3      [#멍팔환영, #instadog, #petstagram, #반려견소통, #l4l, ...  False   \n",
       "4      [#유튜브, #makji, #pet, #캣스타그램, #고양이일상, #kitten, ...  False   \n",
       "...                                                  ...    ...   \n",
       "10333  [#편의점, #간식, #연휴, #데이트, #공스타그램, #유지어터, #일상, #헬스...   True   \n",
       "10334  [#보라매맛집, #먹방, #신풍역맛집, #인기맛집, #외식, #술한잔, #신풍맛집원...  False   \n",
       "10335  [#편의점, #맛스타그램, #먹방, #존맛탱, #불닭, #맛집스타그램, #foodp...   True   \n",
       "10336  [#미식가, #유리잔, #여행스타그램, #제주카페투어, #나만의식탁, #제주감성카페...  False   \n",
       "10337  [#금손, #리뷰, #체험단, #냉면맛집, #밀키트, #온더테이블, #만능육수, #...  False   \n",
       "\n",
       "                                         게시글url  \\\n",
       "0      https://www.instagram.com/p/Ccg47zap-EJ/   \n",
       "1      https://www.instagram.com/p/CchvCi7phd3/   \n",
       "2      https://www.instagram.com/p/Ccfd5SOpL2W/   \n",
       "3      https://www.instagram.com/p/CcfPqzNJvRb/   \n",
       "4      https://www.instagram.com/p/CchmY14LZKL/   \n",
       "...                                         ...   \n",
       "10333  https://www.instagram.com/p/CdLQeQQlXPw/   \n",
       "10334  https://www.instagram.com/p/CdLQVjdhf-H/   \n",
       "10335  https://www.instagram.com/p/CdLQJ90p60Z/   \n",
       "10336  https://www.instagram.com/p/CdLQMfoLQIi/   \n",
       "10337  https://www.instagram.com/p/CdLQVTUFkJR/   \n",
       "\n",
       "                                                  이미지url  \n",
       "0      https://scontent-gmp1-1.cdninstagram.com/v/t51...  \n",
       "1      https://scontent-gmp1-1.cdninstagram.com/v/t51...  \n",
       "2      https://scontent-gmp1-1.cdninstagram.com/v/t51...  \n",
       "3      https://scontent-gmp1-1.cdninstagram.com/v/t51...  \n",
       "4      https://scontent-gmp1-1.cdninstagram.com/v/t51...  \n",
       "...                                                  ...  \n",
       "10333  https://scontent-gmp1-1.cdninstagram.com/v/t51...  \n",
       "10334  https://scontent-gmp1-1.cdninstagram.com/v/t51...  \n",
       "10335  https://scontent-gmp1-1.cdninstagram.com/v/t51...  \n",
       "10336  https://scontent-gmp1-1.cdninstagram.com/v/t51...  \n",
       "10337  https://scontent-gmp1-1.cdninstagram.com/v/t51...  \n",
       "\n",
       "[10338 rows x 8 columns]"
      ]
     },
     "execution_count": 8,
     "metadata": {},
     "output_type": "execute_result"
    }
   ],
   "source": [
    "df1 = pps1.total_proprecessing(keywords, ROOT_PATH, thresh=0)"
   ]
  },
  {
   "cell_type": "markdown",
   "id": "E4EV2yN7b8vW",
   "metadata": {
    "id": "E4EV2yN7b8vW"
   },
   "source": [
    "# 메인키워드 집어넣기 & 광고유무 집어넣기\n"
   ]
  },
  {
   "cell_type": "code",
   "execution_count": 9,
   "id": "2O5BFDa6JGbs",
   "metadata": {
    "ExecuteTime": {
     "end_time": "2022-05-07T05:40:56.795138Z",
     "start_time": "2022-05-07T05:40:56.767212Z"
    },
    "colab": {
     "base_uri": "https://localhost:8080/",
     "height": 774
    },
    "executionInfo": {
     "elapsed": 8,
     "status": "ok",
     "timestamp": 1650602102190,
     "user": {
      "displayName": "강준모",
      "userId": "14855937078495325719"
     },
     "user_tz": -540
    },
    "id": "2O5BFDa6JGbs",
    "outputId": "9303f441-4b3e-4773-a2f8-c997c69af725"
   },
   "outputs": [
    {
     "data": {
      "text/html": [
       "<div>\n",
       "<style scoped>\n",
       "    .dataframe tbody tr th:only-of-type {\n",
       "        vertical-align: middle;\n",
       "    }\n",
       "\n",
       "    .dataframe tbody tr th {\n",
       "        vertical-align: top;\n",
       "    }\n",
       "\n",
       "    .dataframe thead th {\n",
       "        text-align: right;\n",
       "    }\n",
       "</style>\n",
       "<table border=\"1\" class=\"dataframe\">\n",
       "  <thead>\n",
       "    <tr style=\"text-align: right;\">\n",
       "      <th></th>\n",
       "      <th>검색키워드</th>\n",
       "      <th>이미지파일명</th>\n",
       "      <th>파일경로</th>\n",
       "      <th>좋아요</th>\n",
       "      <th>해시태그</th>\n",
       "      <th>이미지한개</th>\n",
       "      <th>게시글url</th>\n",
       "      <th>이미지url</th>\n",
       "      <th>메인키워드</th>\n",
       "    </tr>\n",
       "  </thead>\n",
       "  <tbody>\n",
       "    <tr>\n",
       "      <th>0</th>\n",
       "      <td>펫스타그램</td>\n",
       "      <td>af37feb6-2166-440a-9612-917e5bd32e99.jpg</td>\n",
       "      <td>image/펫스타그램/af37feb6-2166-440a-9612-917e5bd32e...</td>\n",
       "      <td>2438</td>\n",
       "      <td>[#pom, #멍스타그램, #pomeranian, #포메, #pet, #강아지모델,...</td>\n",
       "      <td>False</td>\n",
       "      <td>https://www.instagram.com/p/Ccg47zap-EJ/</td>\n",
       "      <td>https://scontent-gmp1-1.cdninstagram.com/v/t51...</td>\n",
       "      <td>NaN</td>\n",
       "    </tr>\n",
       "    <tr>\n",
       "      <th>1</th>\n",
       "      <td>펫스타그램</td>\n",
       "      <td>ac8fc4dc-8179-4808-b8d5-ee141f4432f5.jpg</td>\n",
       "      <td>image/펫스타그램/ac8fc4dc-8179-4808-b8d5-ee141f4432...</td>\n",
       "      <td>2039</td>\n",
       "      <td>[#영화관, #동물스타그램, #반려견, #펫스타그램, #dog, #cat, #pet...</td>\n",
       "      <td>False</td>\n",
       "      <td>https://www.instagram.com/p/CchvCi7phd3/</td>\n",
       "      <td>https://scontent-gmp1-1.cdninstagram.com/v/t51...</td>\n",
       "      <td>NaN</td>\n",
       "    </tr>\n",
       "    <tr>\n",
       "      <th>2</th>\n",
       "      <td>펫스타그램</td>\n",
       "      <td>b5500161-a207-4213-801b-396f4d1ef3eb.jpg</td>\n",
       "      <td>image/펫스타그램/b5500161-a207-4213-801b-396f4d1ef3...</td>\n",
       "      <td>50285</td>\n",
       "      <td>[#쁘띠아랑, #instadog, #팜므파탈백돼지걸, #반려견, #わんちゃん, #l...</td>\n",
       "      <td>False</td>\n",
       "      <td>https://www.instagram.com/p/Ccfd5SOpL2W/</td>\n",
       "      <td>https://scontent-gmp1-1.cdninstagram.com/v/t51...</td>\n",
       "      <td>NaN</td>\n",
       "    </tr>\n",
       "    <tr>\n",
       "      <th>3</th>\n",
       "      <td>펫스타그램</td>\n",
       "      <td>d1697f81-06a1-4a8a-a5fa-1a764b28066a.jpg</td>\n",
       "      <td>image/펫스타그램/d1697f81-06a1-4a8a-a5fa-1a764b2806...</td>\n",
       "      <td>136</td>\n",
       "      <td>[#멍팔환영, #instadog, #petstagram, #반려견소통, #l4l, ...</td>\n",
       "      <td>False</td>\n",
       "      <td>https://www.instagram.com/p/CcfPqzNJvRb/</td>\n",
       "      <td>https://scontent-gmp1-1.cdninstagram.com/v/t51...</td>\n",
       "      <td>NaN</td>\n",
       "    </tr>\n",
       "    <tr>\n",
       "      <th>4</th>\n",
       "      <td>펫스타그램</td>\n",
       "      <td>5d6b1c34-0fda-4b69-8b52-157424878611.jpg</td>\n",
       "      <td>image/펫스타그램/5d6b1c34-0fda-4b69-8b52-1574248786...</td>\n",
       "      <td>28508</td>\n",
       "      <td>[#유튜브, #makji, #pet, #캣스타그램, #고양이일상, #kitten, ...</td>\n",
       "      <td>False</td>\n",
       "      <td>https://www.instagram.com/p/CchmY14LZKL/</td>\n",
       "      <td>https://scontent-gmp1-1.cdninstagram.com/v/t51...</td>\n",
       "      <td>NaN</td>\n",
       "    </tr>\n",
       "  </tbody>\n",
       "</table>\n",
       "</div>"
      ],
      "text/plain": [
       "   검색키워드                                    이미지파일명  \\\n",
       "0  펫스타그램  af37feb6-2166-440a-9612-917e5bd32e99.jpg   \n",
       "1  펫스타그램  ac8fc4dc-8179-4808-b8d5-ee141f4432f5.jpg   \n",
       "2  펫스타그램  b5500161-a207-4213-801b-396f4d1ef3eb.jpg   \n",
       "3  펫스타그램  d1697f81-06a1-4a8a-a5fa-1a764b28066a.jpg   \n",
       "4  펫스타그램  5d6b1c34-0fda-4b69-8b52-157424878611.jpg   \n",
       "\n",
       "                                                파일경로    좋아요  \\\n",
       "0  image/펫스타그램/af37feb6-2166-440a-9612-917e5bd32e...   2438   \n",
       "1  image/펫스타그램/ac8fc4dc-8179-4808-b8d5-ee141f4432...   2039   \n",
       "2  image/펫스타그램/b5500161-a207-4213-801b-396f4d1ef3...  50285   \n",
       "3  image/펫스타그램/d1697f81-06a1-4a8a-a5fa-1a764b2806...    136   \n",
       "4  image/펫스타그램/5d6b1c34-0fda-4b69-8b52-1574248786...  28508   \n",
       "\n",
       "                                                해시태그  이미지한개  \\\n",
       "0  [#pom, #멍스타그램, #pomeranian, #포메, #pet, #강아지모델,...  False   \n",
       "1  [#영화관, #동물스타그램, #반려견, #펫스타그램, #dog, #cat, #pet...  False   \n",
       "2  [#쁘띠아랑, #instadog, #팜므파탈백돼지걸, #반려견, #わんちゃん, #l...  False   \n",
       "3  [#멍팔환영, #instadog, #petstagram, #반려견소통, #l4l, ...  False   \n",
       "4  [#유튜브, #makji, #pet, #캣스타그램, #고양이일상, #kitten, ...  False   \n",
       "\n",
       "                                     게시글url  \\\n",
       "0  https://www.instagram.com/p/Ccg47zap-EJ/   \n",
       "1  https://www.instagram.com/p/CchvCi7phd3/   \n",
       "2  https://www.instagram.com/p/Ccfd5SOpL2W/   \n",
       "3  https://www.instagram.com/p/CcfPqzNJvRb/   \n",
       "4  https://www.instagram.com/p/CchmY14LZKL/   \n",
       "\n",
       "                                              이미지url  메인키워드  \n",
       "0  https://scontent-gmp1-1.cdninstagram.com/v/t51...    NaN  \n",
       "1  https://scontent-gmp1-1.cdninstagram.com/v/t51...    NaN  \n",
       "2  https://scontent-gmp1-1.cdninstagram.com/v/t51...    NaN  \n",
       "3  https://scontent-gmp1-1.cdninstagram.com/v/t51...    NaN  \n",
       "4  https://scontent-gmp1-1.cdninstagram.com/v/t51...    NaN  "
      ]
     },
     "execution_count": 9,
     "metadata": {},
     "output_type": "execute_result"
    }
   ],
   "source": [
    "df1['메인키워드'] = np.nan"
   ]
  },
  {
   "cell_type": "code",
   "execution_count": 10,
   "id": "_A8XrJPJcAWg",
   "metadata": {
    "ExecuteTime": {
     "end_time": "2022-05-07T05:40:56.825060Z",
     "start_time": "2022-05-07T05:40:56.803116Z"
    },
    "id": "_A8XrJPJcAWg"
   },
   "outputs": [],
   "source": [
    "def fill_main(search_keyword):\n",
    "    global keywords_pet, keywords_baby, keywords_view, keywords_book, keywords_face, keywords_food\n",
    "    if search_keyword in keywords_pet:\n",
    "        return '반려동물'\n",
    "    elif search_keyword in keywords_baby:\n",
    "        return '육아'\n",
    "    elif search_keyword in keywords_view:\n",
    "        return '풍경'\n",
    "    elif search_keyword in keywords_book:\n",
    "        return '책'\n",
    "    elif search_keyword in keywords_face:\n",
    "        return '셀피'\n",
    "    elif search_keyword in keywords_food:\n",
    "        return '음식'\n",
    "    else:\n",
    "        return np.nan"
   ]
  },
  {
   "cell_type": "code",
   "execution_count": 11,
   "id": "CIbJ1GW7eBZp",
   "metadata": {
    "ExecuteTime": {
     "end_time": "2022-05-07T05:40:56.870535Z",
     "start_time": "2022-05-07T05:40:56.829047Z"
    },
    "colab": {
     "base_uri": "https://localhost:8080/",
     "height": 1000
    },
    "executionInfo": {
     "elapsed": 360,
     "status": "ok",
     "timestamp": 1650602102543,
     "user": {
      "displayName": "강준모",
      "userId": "14855937078495325719"
     },
     "user_tz": -540
    },
    "id": "CIbJ1GW7eBZp",
    "outputId": "f79f186b-0a8c-4c37-d611-33c8af2eb362"
   },
   "outputs": [
    {
     "data": {
      "text/html": [
       "<div>\n",
       "<style scoped>\n",
       "    .dataframe tbody tr th:only-of-type {\n",
       "        vertical-align: middle;\n",
       "    }\n",
       "\n",
       "    .dataframe tbody tr th {\n",
       "        vertical-align: top;\n",
       "    }\n",
       "\n",
       "    .dataframe thead th {\n",
       "        text-align: right;\n",
       "    }\n",
       "</style>\n",
       "<table border=\"1\" class=\"dataframe\">\n",
       "  <thead>\n",
       "    <tr style=\"text-align: right;\">\n",
       "      <th></th>\n",
       "      <th>검색키워드</th>\n",
       "      <th>이미지파일명</th>\n",
       "      <th>파일경로</th>\n",
       "      <th>좋아요</th>\n",
       "      <th>해시태그</th>\n",
       "      <th>이미지한개</th>\n",
       "      <th>게시글url</th>\n",
       "      <th>이미지url</th>\n",
       "      <th>메인키워드</th>\n",
       "    </tr>\n",
       "  </thead>\n",
       "  <tbody>\n",
       "    <tr>\n",
       "      <th>0</th>\n",
       "      <td>펫스타그램</td>\n",
       "      <td>af37feb6-2166-440a-9612-917e5bd32e99.jpg</td>\n",
       "      <td>image/펫스타그램/af37feb6-2166-440a-9612-917e5bd32e...</td>\n",
       "      <td>2438</td>\n",
       "      <td>[#pom, #멍스타그램, #pomeranian, #포메, #pet, #강아지모델,...</td>\n",
       "      <td>False</td>\n",
       "      <td>https://www.instagram.com/p/Ccg47zap-EJ/</td>\n",
       "      <td>https://scontent-gmp1-1.cdninstagram.com/v/t51...</td>\n",
       "      <td>반려동물</td>\n",
       "    </tr>\n",
       "    <tr>\n",
       "      <th>1</th>\n",
       "      <td>펫스타그램</td>\n",
       "      <td>ac8fc4dc-8179-4808-b8d5-ee141f4432f5.jpg</td>\n",
       "      <td>image/펫스타그램/ac8fc4dc-8179-4808-b8d5-ee141f4432...</td>\n",
       "      <td>2039</td>\n",
       "      <td>[#영화관, #동물스타그램, #반려견, #펫스타그램, #dog, #cat, #pet...</td>\n",
       "      <td>False</td>\n",
       "      <td>https://www.instagram.com/p/CchvCi7phd3/</td>\n",
       "      <td>https://scontent-gmp1-1.cdninstagram.com/v/t51...</td>\n",
       "      <td>반려동물</td>\n",
       "    </tr>\n",
       "    <tr>\n",
       "      <th>2</th>\n",
       "      <td>펫스타그램</td>\n",
       "      <td>b5500161-a207-4213-801b-396f4d1ef3eb.jpg</td>\n",
       "      <td>image/펫스타그램/b5500161-a207-4213-801b-396f4d1ef3...</td>\n",
       "      <td>50285</td>\n",
       "      <td>[#쁘띠아랑, #instadog, #팜므파탈백돼지걸, #반려견, #わんちゃん, #l...</td>\n",
       "      <td>False</td>\n",
       "      <td>https://www.instagram.com/p/Ccfd5SOpL2W/</td>\n",
       "      <td>https://scontent-gmp1-1.cdninstagram.com/v/t51...</td>\n",
       "      <td>반려동물</td>\n",
       "    </tr>\n",
       "    <tr>\n",
       "      <th>3</th>\n",
       "      <td>펫스타그램</td>\n",
       "      <td>d1697f81-06a1-4a8a-a5fa-1a764b28066a.jpg</td>\n",
       "      <td>image/펫스타그램/d1697f81-06a1-4a8a-a5fa-1a764b2806...</td>\n",
       "      <td>136</td>\n",
       "      <td>[#멍팔환영, #instadog, #petstagram, #반려견소통, #l4l, ...</td>\n",
       "      <td>False</td>\n",
       "      <td>https://www.instagram.com/p/CcfPqzNJvRb/</td>\n",
       "      <td>https://scontent-gmp1-1.cdninstagram.com/v/t51...</td>\n",
       "      <td>반려동물</td>\n",
       "    </tr>\n",
       "    <tr>\n",
       "      <th>4</th>\n",
       "      <td>펫스타그램</td>\n",
       "      <td>5d6b1c34-0fda-4b69-8b52-157424878611.jpg</td>\n",
       "      <td>image/펫스타그램/5d6b1c34-0fda-4b69-8b52-1574248786...</td>\n",
       "      <td>28508</td>\n",
       "      <td>[#유튜브, #makji, #pet, #캣스타그램, #고양이일상, #kitten, ...</td>\n",
       "      <td>False</td>\n",
       "      <td>https://www.instagram.com/p/CchmY14LZKL/</td>\n",
       "      <td>https://scontent-gmp1-1.cdninstagram.com/v/t51...</td>\n",
       "      <td>반려동물</td>\n",
       "    </tr>\n",
       "    <tr>\n",
       "      <th>...</th>\n",
       "      <td>...</td>\n",
       "      <td>...</td>\n",
       "      <td>...</td>\n",
       "      <td>...</td>\n",
       "      <td>...</td>\n",
       "      <td>...</td>\n",
       "      <td>...</td>\n",
       "      <td>...</td>\n",
       "      <td>...</td>\n",
       "    </tr>\n",
       "    <tr>\n",
       "      <th>10333</th>\n",
       "      <td>오늘뭐먹지</td>\n",
       "      <td>a6c55453-c60d-4ba4-9f6c-a44c6cd6105d.jpg</td>\n",
       "      <td>image/오늘뭐먹지/a6c55453-c60d-4ba4-9f6c-a44c6cd610...</td>\n",
       "      <td>17</td>\n",
       "      <td>[#편의점, #간식, #연휴, #데이트, #공스타그램, #유지어터, #일상, #헬스...</td>\n",
       "      <td>True</td>\n",
       "      <td>https://www.instagram.com/p/CdLQeQQlXPw/</td>\n",
       "      <td>https://scontent-gmp1-1.cdninstagram.com/v/t51...</td>\n",
       "      <td>음식</td>\n",
       "    </tr>\n",
       "    <tr>\n",
       "      <th>10334</th>\n",
       "      <td>오늘뭐먹지</td>\n",
       "      <td>4c0a252c-eed7-486e-b97b-a19b9564e957.jpg</td>\n",
       "      <td>image/오늘뭐먹지/4c0a252c-eed7-486e-b97b-a19b9564e9...</td>\n",
       "      <td>5</td>\n",
       "      <td>[#보라매맛집, #먹방, #신풍역맛집, #인기맛집, #외식, #술한잔, #신풍맛집원...</td>\n",
       "      <td>False</td>\n",
       "      <td>https://www.instagram.com/p/CdLQVjdhf-H/</td>\n",
       "      <td>https://scontent-gmp1-1.cdninstagram.com/v/t51...</td>\n",
       "      <td>음식</td>\n",
       "    </tr>\n",
       "    <tr>\n",
       "      <th>10335</th>\n",
       "      <td>오늘뭐먹지</td>\n",
       "      <td>72c3ba75-ab30-44e3-92fc-a9962fc2878d.jpg</td>\n",
       "      <td>image/오늘뭐먹지/72c3ba75-ab30-44e3-92fc-a9962fc287...</td>\n",
       "      <td>11</td>\n",
       "      <td>[#편의점, #맛스타그램, #먹방, #존맛탱, #불닭, #맛집스타그램, #foodp...</td>\n",
       "      <td>True</td>\n",
       "      <td>https://www.instagram.com/p/CdLQJ90p60Z/</td>\n",
       "      <td>https://scontent-gmp1-1.cdninstagram.com/v/t51...</td>\n",
       "      <td>음식</td>\n",
       "    </tr>\n",
       "    <tr>\n",
       "      <th>10336</th>\n",
       "      <td>오늘뭐먹지</td>\n",
       "      <td>e0dfbafe-3896-43ed-83b4-ed5b2cb9487b.jpg</td>\n",
       "      <td>image/오늘뭐먹지/e0dfbafe-3896-43ed-83b4-ed5b2cb948...</td>\n",
       "      <td>48</td>\n",
       "      <td>[#미식가, #유리잔, #여행스타그램, #제주카페투어, #나만의식탁, #제주감성카페...</td>\n",
       "      <td>False</td>\n",
       "      <td>https://www.instagram.com/p/CdLQMfoLQIi/</td>\n",
       "      <td>https://scontent-gmp1-1.cdninstagram.com/v/t51...</td>\n",
       "      <td>음식</td>\n",
       "    </tr>\n",
       "    <tr>\n",
       "      <th>10337</th>\n",
       "      <td>오늘뭐먹지</td>\n",
       "      <td>1f3fba66-9e57-4aa5-8529-04b3b98d0fa4.jpg</td>\n",
       "      <td>image/오늘뭐먹지/1f3fba66-9e57-4aa5-8529-04b3b98d0f...</td>\n",
       "      <td>35</td>\n",
       "      <td>[#금손, #리뷰, #체험단, #냉면맛집, #밀키트, #온더테이블, #만능육수, #...</td>\n",
       "      <td>False</td>\n",
       "      <td>https://www.instagram.com/p/CdLQVTUFkJR/</td>\n",
       "      <td>https://scontent-gmp1-1.cdninstagram.com/v/t51...</td>\n",
       "      <td>음식</td>\n",
       "    </tr>\n",
       "  </tbody>\n",
       "</table>\n",
       "<p>10338 rows × 9 columns</p>\n",
       "</div>"
      ],
      "text/plain": [
       "       검색키워드                                    이미지파일명  \\\n",
       "0      펫스타그램  af37feb6-2166-440a-9612-917e5bd32e99.jpg   \n",
       "1      펫스타그램  ac8fc4dc-8179-4808-b8d5-ee141f4432f5.jpg   \n",
       "2      펫스타그램  b5500161-a207-4213-801b-396f4d1ef3eb.jpg   \n",
       "3      펫스타그램  d1697f81-06a1-4a8a-a5fa-1a764b28066a.jpg   \n",
       "4      펫스타그램  5d6b1c34-0fda-4b69-8b52-157424878611.jpg   \n",
       "...      ...                                       ...   \n",
       "10333  오늘뭐먹지  a6c55453-c60d-4ba4-9f6c-a44c6cd6105d.jpg   \n",
       "10334  오늘뭐먹지  4c0a252c-eed7-486e-b97b-a19b9564e957.jpg   \n",
       "10335  오늘뭐먹지  72c3ba75-ab30-44e3-92fc-a9962fc2878d.jpg   \n",
       "10336  오늘뭐먹지  e0dfbafe-3896-43ed-83b4-ed5b2cb9487b.jpg   \n",
       "10337  오늘뭐먹지  1f3fba66-9e57-4aa5-8529-04b3b98d0fa4.jpg   \n",
       "\n",
       "                                                    파일경로    좋아요  \\\n",
       "0      image/펫스타그램/af37feb6-2166-440a-9612-917e5bd32e...   2438   \n",
       "1      image/펫스타그램/ac8fc4dc-8179-4808-b8d5-ee141f4432...   2039   \n",
       "2      image/펫스타그램/b5500161-a207-4213-801b-396f4d1ef3...  50285   \n",
       "3      image/펫스타그램/d1697f81-06a1-4a8a-a5fa-1a764b2806...    136   \n",
       "4      image/펫스타그램/5d6b1c34-0fda-4b69-8b52-1574248786...  28508   \n",
       "...                                                  ...    ...   \n",
       "10333  image/오늘뭐먹지/a6c55453-c60d-4ba4-9f6c-a44c6cd610...     17   \n",
       "10334  image/오늘뭐먹지/4c0a252c-eed7-486e-b97b-a19b9564e9...      5   \n",
       "10335  image/오늘뭐먹지/72c3ba75-ab30-44e3-92fc-a9962fc287...     11   \n",
       "10336  image/오늘뭐먹지/e0dfbafe-3896-43ed-83b4-ed5b2cb948...     48   \n",
       "10337  image/오늘뭐먹지/1f3fba66-9e57-4aa5-8529-04b3b98d0f...     35   \n",
       "\n",
       "                                                    해시태그  이미지한개  \\\n",
       "0      [#pom, #멍스타그램, #pomeranian, #포메, #pet, #강아지모델,...  False   \n",
       "1      [#영화관, #동물스타그램, #반려견, #펫스타그램, #dog, #cat, #pet...  False   \n",
       "2      [#쁘띠아랑, #instadog, #팜므파탈백돼지걸, #반려견, #わんちゃん, #l...  False   \n",
       "3      [#멍팔환영, #instadog, #petstagram, #반려견소통, #l4l, ...  False   \n",
       "4      [#유튜브, #makji, #pet, #캣스타그램, #고양이일상, #kitten, ...  False   \n",
       "...                                                  ...    ...   \n",
       "10333  [#편의점, #간식, #연휴, #데이트, #공스타그램, #유지어터, #일상, #헬스...   True   \n",
       "10334  [#보라매맛집, #먹방, #신풍역맛집, #인기맛집, #외식, #술한잔, #신풍맛집원...  False   \n",
       "10335  [#편의점, #맛스타그램, #먹방, #존맛탱, #불닭, #맛집스타그램, #foodp...   True   \n",
       "10336  [#미식가, #유리잔, #여행스타그램, #제주카페투어, #나만의식탁, #제주감성카페...  False   \n",
       "10337  [#금손, #리뷰, #체험단, #냉면맛집, #밀키트, #온더테이블, #만능육수, #...  False   \n",
       "\n",
       "                                         게시글url  \\\n",
       "0      https://www.instagram.com/p/Ccg47zap-EJ/   \n",
       "1      https://www.instagram.com/p/CchvCi7phd3/   \n",
       "2      https://www.instagram.com/p/Ccfd5SOpL2W/   \n",
       "3      https://www.instagram.com/p/CcfPqzNJvRb/   \n",
       "4      https://www.instagram.com/p/CchmY14LZKL/   \n",
       "...                                         ...   \n",
       "10333  https://www.instagram.com/p/CdLQeQQlXPw/   \n",
       "10334  https://www.instagram.com/p/CdLQVjdhf-H/   \n",
       "10335  https://www.instagram.com/p/CdLQJ90p60Z/   \n",
       "10336  https://www.instagram.com/p/CdLQMfoLQIi/   \n",
       "10337  https://www.instagram.com/p/CdLQVTUFkJR/   \n",
       "\n",
       "                                                  이미지url 메인키워드  \n",
       "0      https://scontent-gmp1-1.cdninstagram.com/v/t51...  반려동물  \n",
       "1      https://scontent-gmp1-1.cdninstagram.com/v/t51...  반려동물  \n",
       "2      https://scontent-gmp1-1.cdninstagram.com/v/t51...  반려동물  \n",
       "3      https://scontent-gmp1-1.cdninstagram.com/v/t51...  반려동물  \n",
       "4      https://scontent-gmp1-1.cdninstagram.com/v/t51...  반려동물  \n",
       "...                                                  ...   ...  \n",
       "10333  https://scontent-gmp1-1.cdninstagram.com/v/t51...    음식  \n",
       "10334  https://scontent-gmp1-1.cdninstagram.com/v/t51...    음식  \n",
       "10335  https://scontent-gmp1-1.cdninstagram.com/v/t51...    음식  \n",
       "10336  https://scontent-gmp1-1.cdninstagram.com/v/t51...    음식  \n",
       "10337  https://scontent-gmp1-1.cdninstagram.com/v/t51...    음식  \n",
       "\n",
       "[10338 rows x 9 columns]"
      ]
     },
     "execution_count": 11,
     "metadata": {},
     "output_type": "execute_result"
    }
   ],
   "source": [
    "df1['메인키워드'] = df1['검색키워드'].apply(fill_main)"
   ]
  },
  {
   "cell_type": "markdown",
   "id": "131ffa8f",
   "metadata": {
    "id": "131ffa8f"
   },
   "source": [
    "# 해시태그 필터링"
   ]
  },
  {
   "cell_type": "markdown",
   "id": "669934c0",
   "metadata": {
    "id": "669934c0"
   },
   "source": [
    "## 모든 검색키워드 해시태그 필터링"
   ]
  },
  {
   "cell_type": "code",
   "execution_count": null,
   "id": "ace53f4f",
   "metadata": {
    "ExecuteTime": {
     "start_time": "2022-05-07T05:40:55.380Z"
    },
    "colab": {
     "base_uri": "https://localhost:8080/",
     "height": 774
    },
    "executionInfo": {
     "elapsed": 33614,
     "status": "ok",
     "timestamp": 1650602136154,
     "user": {
      "displayName": "강준모",
      "userId": "14855937078495325719"
     },
     "user_tz": -540
    },
    "id": "ace53f4f",
    "outputId": "af8329ec-df59-45ee-f257-c1decf3cc871"
   },
   "outputs": [],
   "source": [
    "ban_hashtags = ['구독', '유튜브', '좋아요', '맞팔', '선팔', 'f4f', 'lfl', 'LFL', '일상', '데일리', 'daily', '소통', '팔로우',\n",
    "                '좋반', 'fff', 'ootd']\n",
    "df2 = pps1.filtering_in_all(df1, ban_hashtags)"
   ]
  },
  {
   "cell_type": "markdown",
   "id": "a28746e7",
   "metadata": {
    "id": "a28746e7"
   },
   "source": [
    "## 특정 검색키워드의 해시태그 필터링"
   ]
  },
  {
   "cell_type": "code",
   "execution_count": null,
   "id": "43662c10",
   "metadata": {
    "ExecuteTime": {
     "start_time": "2022-05-07T05:40:55.382Z"
    },
    "colab": {
     "base_uri": "https://localhost:8080/",
     "height": 774
    },
    "executionInfo": {
     "elapsed": 33,
     "status": "ok",
     "timestamp": 1650602136156,
     "user": {
      "displayName": "강준모",
      "userId": "14855937078495325719"
     },
     "user_tz": -540
    },
    "id": "43662c10",
    "outputId": "6259d931-d175-48a5-f3d8-6346fbb0af15"
   },
   "outputs": [],
   "source": [
    "ban_hashtags = []\n",
    "df2 = pps1.filtering_in_category(df1, ban_hashtags, '팻스타그램')"
   ]
  },
  {
   "cell_type": "markdown",
   "id": "87b29b44",
   "metadata": {
    "id": "87b29b44"
   },
   "source": [
    "# 같은 게시물 걸러내기"
   ]
  },
  {
   "cell_type": "code",
   "execution_count": null,
   "id": "f0840ef4",
   "metadata": {
    "ExecuteTime": {
     "start_time": "2022-05-07T05:40:55.387Z"
    },
    "colab": {
     "base_uri": "https://localhost:8080/"
    },
    "executionInfo": {
     "elapsed": 29,
     "status": "ok",
     "timestamp": 1650602136158,
     "user": {
      "displayName": "강준모",
      "userId": "14855937078495325719"
     },
     "user_tz": -540
    },
    "id": "f0840ef4",
    "outputId": "91fafaed-5236-4c14-fd65-92764ba71a1f"
   },
   "outputs": [],
   "source": [
    "df3 = pps1.drop_same_image(df1)\n",
    "df3.reset_index(drop=True, inplace=True)"
   ]
  },
  {
   "cell_type": "markdown",
   "id": "f29109d0",
   "metadata": {
    "id": "f29109d0"
   },
   "source": [
    "# 1차 전처리된 데이터 저장"
   ]
  },
  {
   "cell_type": "markdown",
   "id": "B5UzsaRO7wfV",
   "metadata": {
    "id": "B5UzsaRO7wfV"
   },
   "source": [
    "## 디렉토리 생성"
   ]
  },
  {
   "cell_type": "code",
   "execution_count": null,
   "id": "MVPj_YPH7vIJ",
   "metadata": {
    "ExecuteTime": {
     "start_time": "2022-05-07T05:40:55.392Z"
    },
    "colab": {
     "base_uri": "https://localhost:8080/"
    },
    "executionInfo": {
     "elapsed": 21,
     "status": "ok",
     "timestamp": 1650602136161,
     "user": {
      "displayName": "강준모",
      "userId": "14855937078495325719"
     },
     "user_tz": -540
    },
    "id": "MVPj_YPH7vIJ",
    "outputId": "b843d552-6648-4ca7-e5e2-b0b2ba37f208"
   },
   "outputs": [],
   "source": [
    "DIR = 'preprocessed/dataframe'\n",
    "try:\n",
    "    os.makedirs(DIR)\n",
    "except OSError:\n",
    "    print('이미 존재합니다')"
   ]
  },
  {
   "cell_type": "markdown",
   "id": "qjLHhPxe7zpU",
   "metadata": {
    "id": "qjLHhPxe7zpU"
   },
   "source": [
    "## 디렉토리에 저장"
   ]
  },
  {
   "cell_type": "code",
   "execution_count": null,
   "id": "5177fd2a",
   "metadata": {
    "ExecuteTime": {
     "start_time": "2022-05-07T05:40:55.394Z"
    },
    "colab": {
     "base_uri": "https://localhost:8080/"
    },
    "executionInfo": {
     "elapsed": 20,
     "status": "ok",
     "timestamp": 1650602136163,
     "user": {
      "displayName": "강준모",
      "userId": "14855937078495325719"
     },
     "user_tz": -540
    },
    "id": "5177fd2a",
    "outputId": "e5017252-3d42-441b-beb5-df1a4865442a"
   },
   "outputs": [],
   "source": [
    "joblib.dump(df3, f'{DIR}/insta_df.pkl')"
   ]
  },
  {
   "cell_type": "code",
   "execution_count": null,
   "id": "758982d2",
   "metadata": {
    "ExecuteTime": {
     "start_time": "2022-05-07T05:40:55.397Z"
    },
    "colab": {
     "base_uri": "https://localhost:8080/",
     "height": 832
    },
    "executionInfo": {
     "elapsed": 478,
     "status": "ok",
     "timestamp": 1650602136623,
     "user": {
      "displayName": "강준모",
      "userId": "14855937078495325719"
     },
     "user_tz": -540
    },
    "id": "758982d2",
    "outputId": "dce671b8-49fa-465c-e036-25c1381dfd7a"
   },
   "outputs": [],
   "source": [
    "open_df = joblib.load(f'{DIR}/insta_df.pkl')\n",
    "open_df.head()"
   ]
  }
 ],
 "metadata": {
  "colab": {
   "collapsed_sections": [],
   "name": "[2](WARNING-RESET)(local)크롤링_데이터프레임_전처리.ipynb",
   "provenance": [],
   "toc_visible": true
  },
  "kernelspec": {
   "display_name": "Python 3 (ipykernel)",
   "language": "python",
   "name": "python3"
  },
  "language_info": {
   "codemirror_mode": {
    "name": "ipython",
    "version": 3
   },
   "file_extension": ".py",
   "mimetype": "text/x-python",
   "name": "python",
   "nbconvert_exporter": "python",
   "pygments_lexer": "ipython3",
   "version": "3.7.12"
  },
  "toc": {
   "base_numbering": 1,
   "nav_menu": {},
   "number_sections": true,
   "sideBar": true,
   "skip_h1_title": false,
   "title_cell": "Table of Contents",
   "title_sidebar": "Contents",
   "toc_cell": false,
   "toc_position": {
    "height": "758px",
    "left": "34px",
    "top": "0px",
    "width": "374.787px"
   },
   "toc_section_display": true,
   "toc_window_display": false
  },
  "varInspector": {
   "cols": {
    "lenName": 16,
    "lenType": 16,
    "lenVar": 40
   },
   "kernels_config": {
    "python": {
     "delete_cmd_postfix": "",
     "delete_cmd_prefix": "del ",
     "library": "var_list.py",
     "varRefreshCmd": "print(var_dic_list())"
    },
    "r": {
     "delete_cmd_postfix": ") ",
     "delete_cmd_prefix": "rm(",
     "library": "var_list.r",
     "varRefreshCmd": "cat(var_dic_list()) "
    }
   },
   "types_to_exclude": [
    "module",
    "function",
    "builtin_function_or_method",
    "instance",
    "_Feature"
   ],
   "window_display": false
  }
 },
 "nbformat": 4,
 "nbformat_minor": 5
}
