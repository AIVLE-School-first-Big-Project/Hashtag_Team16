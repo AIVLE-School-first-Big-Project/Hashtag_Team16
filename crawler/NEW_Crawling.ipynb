{
 "cells": [
  {
   "cell_type": "markdown",
   "id": "b1ea37fd",
   "metadata": {},
   "source": [
    "* 하나의 검색 키워드에 대해서만 자동화(어러 종류의 주제를 한번에 크롤링 할 수 있게)"
   ]
  },
  {
   "cell_type": "markdown",
   "id": "6ec1f064",
   "metadata": {},
   "source": [
    "# import module"
   ]
  },
  {
   "cell_type": "code",
   "execution_count": 1,
   "id": "ec4de493",
   "metadata": {
    "ExecuteTime": {
     "end_time": "2022-04-17T07:00:35.587865Z",
     "start_time": "2022-04-17T07:00:34.712919Z"
    }
   },
   "outputs": [],
   "source": [
    "import pandas as pd\n",
    "import numpy as np\n",
    "import time\n",
    "import re\n",
    "import os\n",
    "import json\n",
    "from random import random\n",
    "from selenium.webdriver import Chrome\n",
    "from urllib.request import urlretrieve\n",
    "from uuid import uuid4\n",
    "from io import BytesIO\n",
    "\n",
    "from selenium import webdriver\n",
    "from selenium.webdriver.common.keys import Keys\n",
    "from selenium.webdriver.common.by import By\n",
    "import urllib.request"
   ]
  },
  {
   "cell_type": "markdown",
   "id": "16b5eff4",
   "metadata": {},
   "source": [
    "# 창 띄우기"
   ]
  },
  {
   "cell_type": "code",
   "execution_count": 2,
   "id": "1c530c9c",
   "metadata": {
    "ExecuteTime": {
     "end_time": "2022-04-17T07:00:35.602625Z",
     "start_time": "2022-04-17T07:00:35.589866Z"
    }
   },
   "outputs": [],
   "source": [
    "# from selenium import webdriver\n",
    "# from selenium.webdriver.chrome.service import Service\n",
    "# from webdriver_manager.chrome import ChromeDriverManager\n",
    "\n",
    "# def set_chrome_driver():\n",
    "#     chrome_options = webdriver.ChromeOptions()\n",
    "#     driver = webdriver.Chrome(service=Service(ChromeDriverManager().install()), options=chrome_options)\n",
    "#     return driver"
   ]
  },
  {
   "cell_type": "code",
   "execution_count": 3,
   "id": "119e5aeb",
   "metadata": {
    "ExecuteTime": {
     "end_time": "2022-04-17T07:00:35.618276Z",
     "start_time": "2022-04-17T07:00:35.605617Z"
    }
   },
   "outputs": [],
   "source": [
    "def open_browser():\n",
    "    browser = Chrome(\"chromedriver.exe\") # 입력\n",
    "    browser.get(\"https://www.instagram.com/accounts/login/?hl=ko&source=auth_switcher\")\n",
    "    return browser"
   ]
  },
  {
   "cell_type": "markdown",
   "id": "7f8937d9",
   "metadata": {},
   "source": [
    "# Login"
   ]
  },
  {
   "cell_type": "code",
   "execution_count": 8,
   "id": "9d6b090a",
   "metadata": {
    "ExecuteTime": {
     "end_time": "2022-04-17T07:01:17.116641Z",
     "start_time": "2022-04-17T07:01:17.090683Z"
    }
   },
   "outputs": [],
   "source": [
    "def login(browser):\n",
    "    id=\"dg1dgu\" # 입력\n",
    "    pwd=\"DGU1dgu1\" # 입력\n",
    "    input_id=browser.find_element(By.XPATH,'//*[@id=\"loginForm\"]/div/div[1]/div/label/input') #아이디 입럭 객체 선택\n",
    "    input_pwd=browser.find_element(By.XPATH, '//*[@id=\"loginForm\"]/div/div[2]/div/label/input') #패스워드 입력 객체 선택\n",
    "    input_id.send_keys(id)\n",
    "    input_pwd.send_keys(pwd)\n",
    "    time.sleep(1)\n",
    "    \n",
    "    browser.find_element(By.XPATH,'//*[@id=\"loginForm\"]/div/div[3]/button/div').click() #로그인 버튼 클릭\n",
    "    time.sleep(5)\n",
    "    \n",
    "    browser.find_element(By.XPATH,'//*[@id=\"react-root\"]/section/main/div/div/div/div/button').click() #로그인정보 저장 나중에하기 버튼\n",
    "    "
   ]
  },
  {
   "cell_type": "markdown",
   "id": "e5419b42",
   "metadata": {},
   "source": [
    "# 검색키워드 검색"
   ]
  },
  {
   "cell_type": "code",
   "execution_count": 10,
   "id": "3c3c2556",
   "metadata": {
    "ExecuteTime": {
     "end_time": "2022-04-17T07:04:50.832408Z",
     "start_time": "2022-04-17T07:04:50.820443Z"
    }
   },
   "outputs": [],
   "source": [
    "def search_keyword(browser, keyword):\n",
    "    url = f\"https://www.instagram.com/explore/tags/{keyword}/\"\n",
    "    browser.get(url)"
   ]
  },
  {
   "cell_type": "markdown",
   "id": "6f2d0403",
   "metadata": {},
   "source": [
    "# 첫번째 게시글 오픈"
   ]
  },
  {
   "cell_type": "code",
   "execution_count": 14,
   "id": "5b74fbe2",
   "metadata": {
    "ExecuteTime": {
     "end_time": "2022-04-17T07:09:39.159074Z",
     "start_time": "2022-04-17T07:09:39.150090Z"
    }
   },
   "outputs": [],
   "source": [
    "def open_first_post(browser):\n",
    "    first_post = browser.find_elements_by_class_name(\"_9AhH0\")[0]\n",
    "    print(type(first_post))\n",
    "    print(first_post)\n",
    "    browser.execute_script(\"arguments[0].click();\",first_post)"
   ]
  },
  {
   "cell_type": "markdown",
   "id": "9e84b847",
   "metadata": {},
   "source": [
    "# 좋아요 개수 가져오기(넘기면서 반복)"
   ]
  },
  {
   "cell_type": "code",
   "execution_count": 19,
   "id": "c5402c5e",
   "metadata": {
    "ExecuteTime": {
     "end_time": "2022-04-17T07:21:24.990950Z",
     "start_time": "2022-04-17T07:21:24.966014Z"
    }
   },
   "outputs": [],
   "source": [
    "def get_likes(browser):\n",
    "    likes=0\n",
    "    try:\n",
    "        like = browser.find_elements_by_xpath('/html/body/div[6]/div[3]/div/article/div/div[2]/div/div/div[2]/section[2]/div/div/div/a/div/span')\n",
    "        likes = int(like[0].text)\n",
    "        if likes > 30:\n",
    "            return likes\n",
    "    except Exception as ex:\n",
    "        print(\"get_likes 에러발생\", ex)\n",
    "        return likes"
   ]
  },
  {
   "cell_type": "markdown",
   "id": "e19d1ad2",
   "metadata": {},
   "source": [
    "# 이미지 URL(넘기면서 반복)"
   ]
  },
  {
   "cell_type": "markdown",
   "id": "30154e63",
   "metadata": {},
   "source": [
    "* https://mizykk.tistory.com/55\n",
    "* openCV를 이용해서 이미지 중복을 처리할 수 있을 듯."
   ]
  },
  {
   "cell_type": "code",
   "execution_count": 119,
   "id": "36790afb",
   "metadata": {
    "ExecuteTime": {
     "end_time": "2022-04-17T10:45:12.901612Z",
     "start_time": "2022-04-17T10:45:12.891596Z"
    }
   },
   "outputs": [
    {
     "data": {
      "text/plain": [
       "'\\n# 앞-현재-뒤 이렇게 컨텐츠가 넘어옴\\nimg = browser.find_element_by_class_name(\"RnEpo\")\\nimg = img.find_elements_by_class_name(\\'KL4Bh\\') # 동영상이면 \\nimg_url = img[0].find_element_by_tag_name(\\'img\\').get_attribute(\"src\") #동영상이면 list index out of range 에러뜸\\nimg_url\\n'"
      ]
     },
     "execution_count": 119,
     "metadata": {},
     "output_type": "execute_result"
    }
   ],
   "source": [
    "'''\n",
    "# 앞-현재-뒤 이렇게 컨텐츠가 넘어옴\n",
    "img = browser.find_element_by_class_name(\"RnEpo\")\n",
    "img = img.find_elements_by_class_name('KL4Bh') # 동영상이면 \n",
    "img_url = img[0].find_element_by_tag_name('img').get_attribute(\"src\") #동영상이면 list index out of range 에러뜸\n",
    "img_url\n",
    "'''"
   ]
  },
  {
   "cell_type": "code",
   "execution_count": 22,
   "id": "f455add1",
   "metadata": {
    "ExecuteTime": {
     "end_time": "2022-04-17T07:31:44.101543Z",
     "start_time": "2022-04-17T07:31:44.075611Z"
    }
   },
   "outputs": [],
   "source": [
    "def get_image(browser, keyword):\n",
    "    img_name = \"NaN\"\n",
    "    \n",
    "    try:\n",
    "        #img = browser.find_elements_by_class_name(\"KL4Bh\") #이렇게 되면 마지막 놈이 뜸. 동영상은 처리 못함.\n",
    "        img = browser.find_element_by_class_name(\"RnEpo\")\n",
    "        img = img.find_elements_by_class_name('KL4Bh') # 동영상이면 \n",
    "        #img_url = img[-1].find_element_by_css_selector(\"article img\").get_attribute(\"src\")\n",
    "        img_url = img[0].find_element_by_tag_name('img').get_attribute(\"src\")\n",
    "\n",
    "        uuid =uuid4() #유일한 이름 할당. 중복\n",
    "        #urlretrieve(img_url, f\"data/{keyword}/{uuid}.jpg\") #이건 다운로드\n",
    "        img_name = f\"{uuid}.jpg\"\n",
    "        return img_name, img_url\n",
    "    \n",
    "    except Exception as ex:\n",
    "        #에러가 발생하면 img_name이 \"NaN\"으로 출력됨.\n",
    "        print(\"get_image 에러발생\", ex)\n",
    "        return img_name, img_url"
   ]
  },
  {
   "cell_type": "markdown",
   "id": "285bc9a3",
   "metadata": {},
   "source": [
    "# 이미지 저장(넘기면서 반복)"
   ]
  },
  {
   "cell_type": "code",
   "execution_count": 122,
   "id": "f2d3b8b2",
   "metadata": {
    "ExecuteTime": {
     "end_time": "2022-04-17T10:53:08.051144Z",
     "start_time": "2022-04-17T10:53:08.027242Z"
    }
   },
   "outputs": [],
   "source": [
    "def save_image(browser, keyword, img_name, img_url):\n",
    "    urlretrieve(img_url, f\"data/{keyword}/{img_name}\")"
   ]
  },
  {
   "cell_type": "markdown",
   "id": "7cea641f",
   "metadata": {},
   "source": [
    "# 해시태그 출력(NaN 확인 필요) (넘기면서 반복)"
   ]
  },
  {
   "cell_type": "code",
   "execution_count": 156,
   "id": "0af1df8e",
   "metadata": {
    "ExecuteTime": {
     "end_time": "2022-04-17T11:22:06.571744Z",
     "start_time": "2022-04-17T11:22:06.562074Z"
    }
   },
   "outputs": [],
   "source": [
    "def get_hashtag(browser):\n",
    "    components = browser.find_elements_by_class_name(\"xil3i\")\n",
    "    #components = browser.find_elements(By.CSS_SELECTOR, \"xil3i\") #안되는건가?\n",
    "    if len(components) != 0:\n",
    "        \n",
    "        try:\n",
    "            all_hashtags = [component.text for component in components]\n",
    "            return list(set(all_hashtags))\n",
    "        \n",
    "        except Exception as ex:\n",
    "            print(\"get_hashtags 에러발생\", ex)\n",
    "            return []"
   ]
  },
  {
   "cell_type": "code",
   "execution_count": 158,
   "id": "196e16cc",
   "metadata": {
    "ExecuteTime": {
     "end_time": "2022-04-17T11:22:15.714110Z",
     "start_time": "2022-04-17T11:22:15.280562Z"
    }
   },
   "outputs": [
    {
     "name": "stderr",
     "output_type": "stream",
     "text": [
      "C:\\Users\\User\\AppData\\Local\\Temp\\ipykernel_16500\\885970769.py:2: DeprecationWarning: find_elements_by_* commands are deprecated. Please use find_elements() instead\n",
      "  components = browser.find_elements_by_class_name(\"xil3i\")\n"
     ]
    },
    {
     "data": {
      "text/plain": [
       "['#소문난암뽕수육',\n",
       " '#음식',\n",
       " '#경주',\n",
       " '#데일리',\n",
       " '#일상소통',\n",
       " '#데일리그램',\n",
       " '#술',\n",
       " '#먹스타',\n",
       " '#술스타그램',\n",
       " '#먹방스타그램',\n",
       " '#맛있다그램',\n",
       " '#먹팔',\n",
       " '#친절',\n",
       " '#좋아요',\n",
       " '#홈쿡',\n",
       " '#음식스타그램',\n",
       " '#일상기록',\n",
       " '#맛집스타그램',\n",
       " '#팔로워',\n",
       " '#선팔',\n",
       " '#일상스타그램',\n",
       " '#요리스타그램',\n",
       " '#소통',\n",
       " '#먹방',\n",
       " '#맞팔',\n",
       " '#경주맛집',\n",
       " '#요리',\n",
       " '#맛집',\n",
       " '#맛스타그램']"
      ]
     },
     "execution_count": 158,
     "metadata": {},
     "output_type": "execute_result"
    }
   ],
   "source": [
    "get_hashtag(browser)"
   ]
  },
  {
   "cell_type": "markdown",
   "id": "ddf34ef1",
   "metadata": {},
   "source": [
    "# 데이터저장"
   ]
  },
  {
   "cell_type": "markdown",
   "id": "7ffd5192",
   "metadata": {},
   "source": [
    "| 검색키워드 | 이미지파일명 | 해시태그 |\n",
    "| --- | --- | --- |\n",
    "| 음식스타그램 | asdiim23mmfs.jpg | #tag1 #tag2 ... |\n",
    "\n",
    "이런식으로 하면 될라나"
   ]
  },
  {
   "cell_type": "markdown",
   "id": "cf606269",
   "metadata": {},
   "source": [
    "# 자동실행"
   ]
  },
  {
   "cell_type": "code",
   "execution_count": 131,
   "id": "022ba688",
   "metadata": {
    "ExecuteTime": {
     "end_time": "2022-04-17T11:02:30.937754Z",
     "start_time": "2022-04-17T11:02:30.756614Z"
    }
   },
   "outputs": [
    {
     "name": "stderr",
     "output_type": "stream",
     "text": [
      "C:\\Users\\User\\AppData\\Local\\Temp\\ipykernel_16500\\1405133385.py:5: DeprecationWarning: find_elements_by_* commands are deprecated. Please use find_elements() instead\n",
      "  img = browser.find_elements_by_class_name(\"KL4Bh\")\n",
      "C:\\Users\\User\\anaconda3\\envs\\tfe\\lib\\site-packages\\selenium\\webdriver\\remote\\webelement.py:484: UserWarning: find_element_by_* commands are deprecated. Please use find_element() instead\n",
      "  warnings.warn(\"find_element_by_* commands are deprecated. Please use find_element() instead\")\n"
     ]
    },
    {
     "data": {
      "text/plain": [
       "'https://scontent-gmp1-1.cdninstagram.com/v/t51.2885-15/278533509_160944896318401_501511518362518509_n.webp?stp=dst-jpg_e35&_nc_ht=scontent-gmp1-1.cdninstagram.com&_nc_cat=101&_nc_ohc=BavFu8SYvnYAX9_qpRJ&edm=ABZsPhsBAAAA&ccb=7-4&ig_cache_key=MjgxODIxNDE2NDI1MTQ1Njg5NQ%3D%3D.2-ccb7-4&oh=00_AT_I1aZNs0UFDdUydsw3K6WzIYObA94qEFzQYfGBtr0MIg&oe=62624ADE&_nc_sid=4efc9f'"
      ]
     },
     "execution_count": 131,
     "metadata": {},
     "output_type": "execute_result"
    }
   ],
   "source": [
    "img_name, img_url = get_image(browser, keyword='음식스타그램')\n",
    "img_url"
   ]
  },
  {
   "cell_type": "code",
   "execution_count": 123,
   "id": "546db4b3",
   "metadata": {
    "ExecuteTime": {
     "end_time": "2022-04-17T10:53:46.991803Z",
     "start_time": "2022-04-17T10:53:46.835654Z"
    }
   },
   "outputs": [],
   "source": [
    "save_image(browser, '음식스타그램', img_name, img_url)"
   ]
  },
  {
   "cell_type": "code",
   "execution_count": 126,
   "id": "efde8602",
   "metadata": {
    "ExecuteTime": {
     "end_time": "2022-04-17T10:54:36.125074Z",
     "start_time": "2022-04-17T10:54:36.101138Z"
    }
   },
   "outputs": [
    {
     "data": {
      "text/plain": [
       "'622866a2-83c2-4609-a64b-7c1ae46deb8c.jpg'"
      ]
     },
     "execution_count": 126,
     "metadata": {},
     "output_type": "execute_result"
    }
   ],
   "source": [
    "img_name"
   ]
  },
  {
   "cell_type": "code",
   "execution_count": 132,
   "id": "24339f95",
   "metadata": {
    "ExecuteTime": {
     "end_time": "2022-04-17T11:02:36.894064Z",
     "start_time": "2022-04-17T11:02:35.511542Z"
    }
   },
   "outputs": [
    {
     "name": "stderr",
     "output_type": "stream",
     "text": [
      "C:\\Users\\User\\AppData\\Local\\Temp\\ipykernel_16500\\3343204787.py:5: DeprecationWarning: find_elements_by_* commands are deprecated. Please use find_elements() instead\n",
      "  plus = browser.find_elements_by_class_name(\"xil3i\") #해쉬태그 클래스\n",
      "C:\\Users\\User\\AppData\\Local\\Temp\\ipykernel_16500\\3343204787.py:8: DeprecationWarning: find_elements_by_* commands are deprecated. Please use find_elements() instead\n",
      "  plus = browser.find_elements_by_class_name(\"xil3i\")\n",
      "C:\\Users\\User\\AppData\\Local\\Temp\\ipykernel_16500\\3343204787.py:12: DeprecationWarning: find_elements_by_* commands are deprecated. Please use find_elements() instead\n",
      "  comments = browser.find_elements_by_class_name(\"EtaWk\")\n"
     ]
    }
   ],
   "source": [
    "out = get_hashtag(browser)"
   ]
  },
  {
   "cell_type": "code",
   "execution_count": 129,
   "id": "1e6d8452",
   "metadata": {
    "ExecuteTime": {
     "end_time": "2022-04-17T11:00:09.176478Z",
     "start_time": "2022-04-17T11:00:09.161528Z"
    }
   },
   "outputs": [
    {
     "data": {
      "text/plain": [
       "[]"
      ]
     },
     "execution_count": 129,
     "metadata": {},
     "output_type": "execute_result"
    }
   ],
   "source": [
    "out"
   ]
  },
  {
   "cell_type": "code",
   "execution_count": 15,
   "id": "e6147e55",
   "metadata": {
    "ExecuteTime": {
     "end_time": "2022-04-17T07:10:20.846135Z",
     "start_time": "2022-04-17T07:09:40.724808Z"
    }
   },
   "outputs": [
    {
     "name": "stderr",
     "output_type": "stream",
     "text": [
      "C:\\Users\\User\\AppData\\Local\\Temp\\ipykernel_16500\\1755654433.py:2: DeprecationWarning: executable_path has been deprecated, please pass in a Service object\n",
      "  browser = Chrome(\"chromedriver.exe\") # 입력\n",
      "C:\\Users\\User\\AppData\\Local\\Temp\\ipykernel_16500\\1391365862.py:2: DeprecationWarning: find_elements_by_* commands are deprecated. Please use find_elements() instead\n",
      "  first_post = browser.find_elements_by_class_name(\"_9AhH0\")[0]\n"
     ]
    },
    {
     "name": "stdout",
     "output_type": "stream",
     "text": [
      "<class 'selenium.webdriver.remote.webelement.WebElement'>\n",
      "<selenium.webdriver.remote.webelement.WebElement (session=\"d60e783b00ebdf148df42c582934193a\", element=\"96b970d6-eaa1-4ed7-bcd6-de7189c0565a\")>\n"
     ]
    }
   ],
   "source": [
    "browser = open_browser()\n",
    "time.sleep(2)\n",
    "\n",
    "login(browser)\n",
    "time.sleep(3)\n",
    "\n",
    "search_keyword(browser, keyword='음식스타그램')\n",
    "time.sleep(10) #첫 검색은 상당히 오래 걸릴 수 있음.\n",
    "# time.sleep(5 + (random() * 5))\n",
    "\n",
    "open_first_post(browser)\n",
    "time.sleep(5 + (random() * 5))\n",
    "###### 여기서부터 게시물 넘겨가면서 반복 #####\n",
    "\n",
    "likes = get_likes"
   ]
  },
  {
   "cell_type": "code",
   "execution_count": null,
   "id": "9997c479",
   "metadata": {},
   "outputs": [],
   "source": []
  }
 ],
 "metadata": {
  "kernelspec": {
   "display_name": "Python 3 (ipykernel)",
   "language": "python",
   "name": "python3"
  },
  "language_info": {
   "codemirror_mode": {
    "name": "ipython",
    "version": 3
   },
   "file_extension": ".py",
   "mimetype": "text/x-python",
   "name": "python",
   "nbconvert_exporter": "python",
   "pygments_lexer": "ipython3",
   "version": "3.9.10"
  },
  "toc": {
   "base_numbering": 1,
   "nav_menu": {},
   "number_sections": true,
   "sideBar": true,
   "skip_h1_title": false,
   "title_cell": "Table of Contents",
   "title_sidebar": "Contents",
   "toc_cell": false,
   "toc_position": {},
   "toc_section_display": true,
   "toc_window_display": false
  },
  "varInspector": {
   "cols": {
    "lenName": 16,
    "lenType": 16,
    "lenVar": 40
   },
   "kernels_config": {
    "python": {
     "delete_cmd_postfix": "",
     "delete_cmd_prefix": "del ",
     "library": "var_list.py",
     "varRefreshCmd": "print(var_dic_list())"
    },
    "r": {
     "delete_cmd_postfix": ") ",
     "delete_cmd_prefix": "rm(",
     "library": "var_list.r",
     "varRefreshCmd": "cat(var_dic_list()) "
    }
   },
   "types_to_exclude": [
    "module",
    "function",
    "builtin_function_or_method",
    "instance",
    "_Feature"
   ],
   "window_display": false
  }
 },
 "nbformat": 4,
 "nbformat_minor": 5
}
