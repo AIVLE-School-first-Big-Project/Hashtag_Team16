{
 "cells": [
  {
   "cell_type": "code",
   "execution_count": 5,
   "id": "b22b5380",
   "metadata": {
    "ExecuteTime": {
     "end_time": "2022-04-28T15:10:58.682821Z",
     "start_time": "2022-04-28T15:10:55.058977Z"
    }
   },
   "outputs": [],
   "source": [
    "from flask import Flask\n",
    "from flask import Blueprint, request\n",
    "from werkzeug.utils import secure_filename\n",
    "import numpy as np\n",
    "import tensorflow as tf\n",
    "import pandas as pd\n",
    "from pyspark.sql import SparkSession\n",
    "from pyspark.ml.recommendation import ALS, ALSModel\n",
    "from scipy.spatial.distance import cosine\n",
    "import joblib\n",
    "from tensorflow.keras.applications import MobileNetV2\n",
    "import json\n",
    "import uuid"
   ]
  },
  {
   "cell_type": "code",
   "execution_count": 6,
   "id": "fab5e0f7",
   "metadata": {
    "ExecuteTime": {
     "end_time": "2022-04-28T15:11:00.878573Z",
     "start_time": "2022-04-28T15:10:58.684822Z"
    }
   },
   "outputs": [
    {
     "name": "stdout",
     "output_type": "stream",
     "text": [
      "Downloading data from https://storage.googleapis.com/tensorflow/keras-applications/mobilenet_v2/mobilenet_v2_weights_tf_dim_ordering_tf_kernels_1.0_160_no_top.h5\n",
      "9412608/9406464 [==============================] - 1s 0us/step\n",
      "9420800/9406464 [==============================] - 1s 0us/step\n"
     ]
    }
   ],
   "source": [
    "img_shape = (160, 160, 3)\n",
    "\n",
    "# 사전 학습된 MobileNetV2 모델을 base_model로 저장\n",
    "base_model = MobileNetV2(input_shape=img_shape, include_top=False, weights='imagenet')\n",
    "# ***dropout등 튜닝을 해도 될거같다!\n",
    "# include_top: 네트워크의 최상단에 완전연결 레이어를 넣을지 여부\n",
    "# 참고로 마지막 분류 계층 (\"상단\")은 피쳐 추출에 그리 유용하지 않으므로 include_top=False를 지정해 맨 위에 분류 계층을 제외\n",
    "# weights: 'imagenet' (ImageNet에 대한 선행 학습)\n",
    "\n",
    "# tf.keras.layers.GlobalAveragePooling2D 레이어를 사용하여 피처를 이미지 당 하나의 1280 요소 벡터로 변환\n",
    "global_average_layer = tf.keras.layers.GlobalAveragePooling2D()\n",
    "\n",
    "# base_model에 global_average_layer 쌓기\n",
    "neural_network = tf.keras.Sequential([\n",
    "  base_model,\n",
    "  global_average_layer,\n",
    "])\n",
    "# joblib.dump(neural_network,'./model/mobilenetv2.pkl')"
   ]
  },
  {
   "cell_type": "code",
   "execution_count": 7,
   "id": "1010d52a",
   "metadata": {
    "ExecuteTime": {
     "end_time": "2022-04-28T15:11:06.157910Z",
     "start_time": "2022-04-28T15:11:00.880567Z"
    }
   },
   "outputs": [],
   "source": [
    "spark = SparkSession.builder.master('local').appName('all').getOrCreate()"
   ]
  },
  {
   "cell_type": "code",
   "execution_count": 8,
   "id": "0ea4771e",
   "metadata": {
    "ExecuteTime": {
     "end_time": "2022-04-28T15:11:09.867136Z",
     "start_time": "2022-04-28T15:11:06.159922Z"
    },
    "scrolled": true
   },
   "outputs": [],
   "source": [
    "#######모델 불러오기 (dnn feature뽑아오기,als 해시태그 추천)\n",
    "# model_path='/content/drive/MyDrive/insta_crawling/Hashtag_Team16/modeling (1)/mobilenetv2.pkl'\n",
    "# neural_network = joblib.load(model_path)\n",
    "als_model = ALSModel.load('modeling/als')\n",
    "\n",
    "#######데이터 불러오기 (pics 이미지의 피처 데이터프레임,hashtags_df 모든해시태그, recommender_df 추천df)\n",
    "recommender_df=joblib.load('recommender_df_0424_1.pkl')\n",
    "hashtags_df=joblib.load('hashtags_df_0424_1.pkl')"
   ]
  },
  {
   "cell_type": "code",
   "execution_count": 10,
   "id": "07a6b17a",
   "metadata": {
    "ExecuteTime": {
     "end_time": "2022-04-28T15:11:09.897235Z",
     "start_time": "2022-04-28T15:11:09.885233Z"
    }
   },
   "outputs": [],
   "source": [
    "def prepare_image(img_path, height=160, width=160):\n",
    "    # 신경망에 맞게 이미지를 다운 샘플링 및 스케일링\n",
    "    img = tf.io.read_file(img_path) # 불러(읽어)오기\n",
    "    #img = tf.image.decode_jpeg(img) # [height, width, num_channels]인 3차원 배열을 반환\n",
    "    img = tf.image.decode_image(img)\n",
    "    img = tf.cast(img, tf.float32) # 정수형으로 바꾼경우 소수점을 버린다 boolean일때는 True면 1, False면 0을 출력\n",
    "    img = (img/127.5) - 1\n",
    "    img = tf.image.resize(img, (height, width))\n",
    "    # 컬러 이미지의 차원에 맞게 회색조 이미지 형태변경\n",
    "    if img.shape != (160, 160, 3):\n",
    "        img = tf.concat([img, img, img], axis=2)\n",
    "    return img\n",
    "\n",
    "def extract_features(image, neural_network):\n",
    "    # input받은 이미지를 1280개의 deep feature들로 구성된 벡터로 반환\n",
    "    image_np = image.numpy() # numpy형태로 변환\n",
    "    images_np = np.expand_dims(image_np, axis=0) # 차원추가([]를 씌워준다)\n",
    "    deep_features = neural_network.predict(images_np)[0]\n",
    "    return deep_features\n",
    "\n",
    "# 코사인 유사성에 기반한 K개의 최근접이웃을 찾는 함수 \n",
    "def find_neighbor_vectors(image_path, k=5, recommender_df=recommender_df):\n",
    "    # 비슷한 이미지에 대한 img_features(이미지 피쳐, 즉 사용자 벡터)를 찾는다.\n",
    "    prep_image = prepare_image(image_path)\n",
    "    pics = extract_features(prep_image, neural_network)\n",
    "    rdf = recommender_df.copy()\n",
    "    rdf['dist'] = rdf['deep_features'].apply(lambda x: cosine(x, pics))\n",
    "    rdf = rdf.sort_values(by='dist')\n",
    "    return rdf.head(k)\n",
    "  \n",
    "\n",
    "def generate_hashtags(image_path):\n",
    "    fnv = find_neighbor_vectors(image_path, k=5, recommender_df=recommender_df)\n",
    "    # 코사인 유사성에 기반하여 5개의 사용자 벡터의 평균을 구한다.\n",
    "    features = []\n",
    "    for item in fnv.features.values:\n",
    "        features.append(item)\n",
    "\n",
    "    avg_features = np.mean(np.asarray(features), axis=0)\n",
    "    \n",
    "    hashtag_features = als_model.itemFactors.toPandas()\n",
    "\n",
    "    # 앞서 구한 이미지(사용자) 피쳐의 평균, 즉 avg_features을 hashtag_features와 dot product하여 새로운 dot_product열 생성\n",
    "    hashtag_features['dot_product'] = hashtag_features['features'].apply(lambda x: np.asarray(x).dot(avg_features))\n",
    "    \n",
    "    # 가장 높은 dot product를 가진 해시태그 상위 10개 추출\n",
    "    final_recs = hashtag_features.sort_values(by='dot_product', ascending=False).head(50)\n",
    "\n",
    "    # hastag_id로 hashtag 찾아서 output에 저장\n",
    "    output = []\n",
    "    for hashtag_id in final_recs.id.values:\n",
    "        output.append(hashtags_df.iloc[hashtag_id]['hashtag'])\n",
    "    return output"
   ]
  },
  {
   "cell_type": "code",
   "execution_count": 1,
   "id": "d13d7290",
   "metadata": {
    "ExecuteTime": {
     "end_time": "2022-04-29T00:34:51.758162Z",
     "start_time": "2022-04-29T00:34:51.740235Z"
    },
    "scrolled": true
   },
   "outputs": [],
   "source": [
    "from flask import Flask\n",
    "from flask import Blueprint, request\n",
    "from werkzeug.utils import secure_filename\n",
    "\n",
    "app = Flask(__name__)\n",
    "# HTTP POST방식으로 전송된 이미지를 저장\n",
    "@app.route('/', methods=['POST'])\n",
    "def save_image():\n",
    "    f = request.files['file']\n",
    "    secure_name = secure_filename(f.filename)\n",
    "    unique_name = str(uuid.uuid1())\n",
    "    print(unique_name + secure_filename(f.filename))\n",
    "    f.save('save_image/' + unique_name + secure_filename(f.filename))\n",
    "    recommended_hashtags = generate_hashtags('save_image/' + unique_name + secure_filename(f.filename)) #원래는 이미지 확장자 생각해서 적용해야함.\n",
    "    hashtags_dict = {'hashtags':recommended_hashtags}\n",
    "    hashtags_json = json.dumps(hashtags_dict, sort_keys=True)\n",
    "    return hashtags_json\n",
    "\n",
    "if __name__ == '__main__':\n",
    "    app.run(host='0.0.0.0')"
   ]
  },
  {
   "cell_type": "code",
   "execution_count": null,
   "id": "6bf9c069",
   "metadata": {},
   "outputs": [],
   "source": []
  }
 ],
 "metadata": {
  "kernelspec": {
   "display_name": "Python 3 (ipykernel)",
   "language": "python",
   "name": "python3"
  },
  "language_info": {
   "codemirror_mode": {
    "name": "ipython",
    "version": 3
   },
   "file_extension": ".py",
   "mimetype": "text/x-python",
   "name": "python",
   "nbconvert_exporter": "python",
   "pygments_lexer": "ipython3",
   "version": "3.7.12"
  },
  "toc": {
   "base_numbering": 1,
   "nav_menu": {},
   "number_sections": true,
   "sideBar": true,
   "skip_h1_title": false,
   "title_cell": "Table of Contents",
   "title_sidebar": "Contents",
   "toc_cell": false,
   "toc_position": {},
   "toc_section_display": true,
   "toc_window_display": false
  },
  "varInspector": {
   "cols": {
    "lenName": 16,
    "lenType": 16,
    "lenVar": 40
   },
   "kernels_config": {
    "python": {
     "delete_cmd_postfix": "",
     "delete_cmd_prefix": "del ",
     "library": "var_list.py",
     "varRefreshCmd": "print(var_dic_list())"
    },
    "r": {
     "delete_cmd_postfix": ") ",
     "delete_cmd_prefix": "rm(",
     "library": "var_list.r",
     "varRefreshCmd": "cat(var_dic_list()) "
    }
   },
   "types_to_exclude": [
    "module",
    "function",
    "builtin_function_or_method",
    "instance",
    "_Feature"
   ],
   "window_display": false
  }
 },
 "nbformat": 4,
 "nbformat_minor": 5
}
