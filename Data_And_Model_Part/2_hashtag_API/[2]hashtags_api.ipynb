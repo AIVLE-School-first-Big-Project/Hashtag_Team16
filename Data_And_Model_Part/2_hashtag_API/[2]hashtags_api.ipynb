{
 "cells": [
  {
   "cell_type": "code",
   "execution_count": 2,
   "id": "b22b5380",
   "metadata": {
    "ExecuteTime": {
     "end_time": "2022-05-06T05:38:30.832184Z",
     "start_time": "2022-05-06T05:38:14.919513Z"
    }
   },
   "outputs": [],
   "source": [
    "from flask import Flask\n",
    "from flask import request\n",
    "import numpy as np\n",
    "import tensorflow as tf\n",
    "import pandas as pd\n",
    "from pyspark.sql import SparkSession\n",
    "from pyspark.ml.recommendation import ALS, ALSModel\n",
    "from scipy.spatial.distance import cosine\n",
    "import joblib\n",
    "from tensorflow.keras.applications import MobileNetV2\n",
    "import json\n",
    "import uuid\n",
    "import base64"
   ]
  },
  {
   "cell_type": "markdown",
   "id": "fa01197a",
   "metadata": {},
   "source": [
    "# 해시태그 관련"
   ]
  },
  {
   "cell_type": "code",
   "execution_count": 3,
   "id": "fab5e0f7",
   "metadata": {
    "ExecuteTime": {
     "end_time": "2022-05-06T05:38:36.270200Z",
     "start_time": "2022-05-06T05:38:30.836171Z"
    }
   },
   "outputs": [],
   "source": [
    "img_shape = (160, 160, 3)\n",
    "\n",
    "# 사전 학습된 MobileNetV2 모델을 base_model로 저장\n",
    "base_model = MobileNetV2(input_shape=img_shape, include_top=False, weights='imagenet')\n",
    "\n",
    "# tf.keras.layers.GlobalAveragePooling2D 레이어를 사용하여 피처를 이미지 당 하나의 1280 요소 벡터로 변환\n",
    "global_average_layer = tf.keras.layers.GlobalAveragePooling2D()\n",
    "\n",
    "# base_model에 global_average_layer 쌓기\n",
    "neural_network = tf.keras.Sequential([\n",
    "  base_model,\n",
    "  global_average_layer,\n",
    "])"
   ]
  },
  {
   "cell_type": "code",
   "execution_count": 4,
   "id": "1010d52a",
   "metadata": {
    "ExecuteTime": {
     "end_time": "2022-05-06T05:39:13.850933Z",
     "start_time": "2022-05-06T05:38:36.275188Z"
    }
   },
   "outputs": [],
   "source": [
    "spark = SparkSession.builder.master('local').appName('all').getOrCreate()"
   ]
  },
  {
   "cell_type": "code",
   "execution_count": 5,
   "id": "0ea4771e",
   "metadata": {
    "ExecuteTime": {
     "end_time": "2022-05-06T05:39:22.785360Z",
     "start_time": "2022-05-06T05:39:13.855916Z"
    },
    "scrolled": true
   },
   "outputs": [],
   "source": [
    "# 모델 불러오기 (dnn feature뽑아오기,als 해시태그 추천)\n",
    "als_model = ALSModel.load('../save_models/als')\n",
    "\n",
    "# 데이터 불러오기 (pics 이미지의 피처 데이터프레임,hashtags_df 모든해시태그, recommender_df 추천df)\n",
    "recommender_df=joblib.load('../save_models/recommender_df.pkl')\n",
    "hashtags_df=joblib.load('../save_models/hashtags_df.pkl')"
   ]
  },
  {
   "cell_type": "code",
   "execution_count": 6,
   "id": "07a6b17a",
   "metadata": {
    "ExecuteTime": {
     "end_time": "2022-05-06T05:39:22.815216Z",
     "start_time": "2022-05-06T05:39:22.788288Z"
    }
   },
   "outputs": [],
   "source": [
    "def prepare_image(img_path, height=160, width=160):\n",
    "    # 신경망에 맞게 이미지를 다운 샘플링 및 스케일링\n",
    "    img = tf.io.read_file(img_path) # 불러(읽어)오기\n",
    "    #img = tf.image.decode_jpeg(img) # [height, width, num_channels]인 3차원 배열을 반환\n",
    "    img = tf.image.decode_image(img)\n",
    "    img = tf.cast(img, tf.float32) # 정수형으로 바꾼경우 소수점을 버린다 boolean일때는 True면 1, False면 0을 출력\n",
    "    img = (img/127.5) - 1\n",
    "    img = tf.image.resize(img, (height, width))\n",
    "    # 컬러 이미지의 차원에 맞게 회색조 이미지 형태변경\n",
    "    if img.shape != (160, 160, 3):\n",
    "        img = tf.concat([img, img, img], axis=2)\n",
    "    return img\n",
    "\n",
    "def extract_features(image, neural_network):\n",
    "    # input받은 이미지를 1280개의 deep feature들로 구성된 벡터로 반환\n",
    "    image_np = image.numpy() # numpy형태로 변환\n",
    "    images_np = np.expand_dims(image_np, axis=0) # 차원추가([]를 씌워준다)\n",
    "    deep_features = neural_network.predict(images_np)[0]\n",
    "    return deep_features\n",
    "\n",
    "# 코사인 유사성에 기반한 K개의 최근접이웃을 찾는 함수 \n",
    "def find_neighbor_vectors(image_path, k=5, recommender_df=recommender_df):\n",
    "    # 비슷한 이미지에 대한 img_features(이미지 피쳐, 즉 사용자 벡터)를 찾는다.\n",
    "    prep_image = prepare_image(image_path)\n",
    "    pics = extract_features(prep_image, neural_network)\n",
    "    rdf = recommender_df.copy()\n",
    "    rdf['dist'] = rdf['deep_features'].apply(lambda x: cosine(x, pics))\n",
    "    rdf = rdf.sort_values(by='dist')\n",
    "    return rdf.head(k)\n",
    "  \n",
    "\n",
    "def generate_hashtags(image_path):\n",
    "    fnv = find_neighbor_vectors(image_path, k=5, recommender_df=recommender_df)\n",
    "    # 코사인 유사성에 기반하여 5개의 사용자 벡터의 평균을 구한다.\n",
    "    features = []\n",
    "    for item in fnv.features.values:\n",
    "        features.append(item)\n",
    "\n",
    "    avg_features = np.mean(np.asarray(features), axis=0)\n",
    "    \n",
    "    hashtag_features = als_model.itemFactors.toPandas()\n",
    "\n",
    "    # 앞서 구한 이미지(사용자) 피쳐의 평균, 즉 avg_features을 hashtag_features와 dot product하여 새로운 dot_product열 생성\n",
    "    hashtag_features['dot_product'] = hashtag_features['features'].apply(lambda x: np.asarray(x).dot(avg_features))\n",
    "    \n",
    "    # 가장 높은 dot product를 가진 해시태그 상위 10개 추출\n",
    "    final_recs = hashtag_features.sort_values(by='dot_product', ascending=False).head(20)\n",
    "\n",
    "    # hastag_id로 hashtag 찾아서 output에 저장\n",
    "    output = []\n",
    "    for hashtag_id in final_recs.id.values:\n",
    "        output.append(hashtags_df.iloc[hashtag_id]['hashtag'])\n",
    "    return output"
   ]
  },
  {
   "cell_type": "markdown",
   "id": "d9432447",
   "metadata": {},
   "source": [
    "# 서버 실행"
   ]
  },
  {
   "cell_type": "code",
   "execution_count": null,
   "id": "d13d7290",
   "metadata": {
    "ExecuteTime": {
     "start_time": "2022-05-06T05:38:14.899Z"
    },
    "scrolled": true
   },
   "outputs": [
    {
     "name": "stdout",
     "output_type": "stream",
     "text": [
      " * Serving Flask app '__main__' (lazy loading)\n",
      " * Environment: production\n",
      "\u001b[31m   WARNING: This is a development server. Do not use it in a production deployment.\u001b[0m\n",
      "\u001b[2m   Use a production WSGI server instead.\u001b[0m\n",
      " * Debug mode: off\n"
     ]
    },
    {
     "name": "stderr",
     "output_type": "stream",
     "text": [
      " * Running on all addresses (0.0.0.0)\n",
      "   WARNING: This is a development server. Do not use it in a production deployment.\n",
      " * Running on http://127.0.0.1:60002\n",
      " * Running on http://172.30.1.46:60002 (Press CTRL+C to quit)\n"
     ]
    }
   ],
   "source": [
    "app = Flask(__name__)\n",
    "@app.route('/hashtags20/', methods=['POST'])\n",
    "def input_image2():\n",
    "    f = request.files['file']\n",
    "    unique_name = str(uuid.uuid1())\n",
    "    save_image_path = 'save_image/' + unique_name + secure_filename(f.filename)\n",
    "    \n",
    "    print(save_image_path)\n",
    "    f.save(save_image_path)\n",
    "    recommended_hashtags = generate_hashtags(save_image_path)\n",
    "    \n",
    "    \n",
    "    hashtags_dict = {'hashtags':recommended_hashtags}\n",
    "    hashtags_json = json.dumps(hashtags_dict, sort_keys=True)\n",
    "    return hashtags_json\n",
    "\n",
    "if __name__ == '__main__':\n",
    "    app.run(host='0.0.0.0', port=60002)"
   ]
  },
  {
   "cell_type": "code",
   "execution_count": null,
   "id": "b50c39f3",
   "metadata": {},
   "outputs": [],
   "source": []
  }
 ],
 "metadata": {
  "kernelspec": {
   "display_name": "Python 3 (ipykernel)",
   "language": "python",
   "name": "python3"
  },
  "language_info": {
   "codemirror_mode": {
    "name": "ipython",
    "version": 3
   },
   "file_extension": ".py",
   "mimetype": "text/x-python",
   "name": "python",
   "nbconvert_exporter": "python",
   "pygments_lexer": "ipython3",
   "version": "3.7.12"
  },
  "toc": {
   "base_numbering": 1,
   "nav_menu": {},
   "number_sections": true,
   "sideBar": true,
   "skip_h1_title": false,
   "title_cell": "Table of Contents",
   "title_sidebar": "Contents",
   "toc_cell": false,
   "toc_position": {
    "height": "calc(100% - 180px)",
    "left": "10px",
    "top": "150px",
    "width": "165.81px"
   },
   "toc_section_display": true,
   "toc_window_display": false
  },
  "varInspector": {
   "cols": {
    "lenName": 16,
    "lenType": 16,
    "lenVar": 40
   },
   "kernels_config": {
    "python": {
     "delete_cmd_postfix": "",
     "delete_cmd_prefix": "del ",
     "library": "var_list.py",
     "varRefreshCmd": "print(var_dic_list())"
    },
    "r": {
     "delete_cmd_postfix": ") ",
     "delete_cmd_prefix": "rm(",
     "library": "var_list.r",
     "varRefreshCmd": "cat(var_dic_list()) "
    }
   },
   "types_to_exclude": [
    "module",
    "function",
    "builtin_function_or_method",
    "instance",
    "_Feature"
   ],
   "window_display": false
  }
 },
 "nbformat": 4,
 "nbformat_minor": 5
}
