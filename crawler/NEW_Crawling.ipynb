{
 "cells": [
  {
   "cell_type": "markdown",
   "id": "b1ea37fd",
   "metadata": {},
   "source": [
    "* 하나의 검색 키워드에 대해서만 자동화(어러 종류의 주제를 한번에 크롤링 할 수 있게)\n",
    "* 한개만 있는 사진만 추출"
   ]
  },
  {
   "cell_type": "markdown",
   "id": "6ec1f064",
   "metadata": {},
   "source": [
    "# import module"
   ]
  },
  {
   "cell_type": "code",
   "execution_count": 1,
   "id": "ec4de493",
   "metadata": {
    "ExecuteTime": {
     "end_time": "2022-04-18T06:20:45.890389Z",
     "start_time": "2022-04-18T06:20:44.867514Z"
    }
   },
   "outputs": [],
   "source": [
    "import pandas as pd\n",
    "import numpy as np\n",
    "import time\n",
    "import re\n",
    "import os\n",
    "import json\n",
    "from random import random\n",
    "from selenium.webdriver import Chrome\n",
    "from urllib.request import urlretrieve\n",
    "from uuid import uuid4\n",
    "from io import BytesIO\n",
    "\n",
    "from selenium import webdriver\n",
    "from selenium.webdriver.common.keys import Keys\n",
    "from selenium.webdriver.common.by import By\n",
    "import urllib.request"
   ]
  },
  {
   "cell_type": "code",
   "execution_count": 2,
   "id": "5fac96c5",
   "metadata": {
    "ExecuteTime": {
     "end_time": "2022-04-18T06:20:45.905349Z",
     "start_time": "2022-04-18T06:20:45.892385Z"
    }
   },
   "outputs": [],
   "source": [
    "import warnings\n",
    "warnings.filterwarnings(action='ignore') "
   ]
  },
  {
   "cell_type": "markdown",
   "id": "16b5eff4",
   "metadata": {},
   "source": [
    "# 창 띄우기"
   ]
  },
  {
   "cell_type": "code",
   "execution_count": 3,
   "id": "1c530c9c",
   "metadata": {
    "ExecuteTime": {
     "end_time": "2022-04-18T06:20:45.920312Z",
     "start_time": "2022-04-18T06:20:45.908343Z"
    }
   },
   "outputs": [],
   "source": [
    "# from selenium import webdriver\n",
    "# from selenium.webdriver.chrome.service import Service\n",
    "# from webdriver_manager.chrome import ChromeDriverManager\n",
    "\n",
    "# def set_chrome_driver():\n",
    "#     chrome_options = webdriver.ChromeOptions()\n",
    "#     driver = webdriver.Chrome(service=Service(ChromeDriverManager().install()), options=chrome_options)\n",
    "#     return driver"
   ]
  },
  {
   "cell_type": "code",
   "execution_count": 4,
   "id": "119e5aeb",
   "metadata": {
    "ExecuteTime": {
     "end_time": "2022-04-18T06:20:45.935845Z",
     "start_time": "2022-04-18T06:20:45.925844Z"
    }
   },
   "outputs": [],
   "source": [
    "def open_browser():\n",
    "    browser = Chrome(\"chromedriver.exe\") # 입력\n",
    "    browser.get(\"https://www.instagram.com/accounts/login/?hl=ko&source=auth_switcher\")\n",
    "    return browser"
   ]
  },
  {
   "cell_type": "markdown",
   "id": "7f8937d9",
   "metadata": {},
   "source": [
    "# Login"
   ]
  },
  {
   "cell_type": "code",
   "execution_count": 5,
   "id": "9d6b090a",
   "metadata": {
    "ExecuteTime": {
     "end_time": "2022-04-18T06:20:45.950771Z",
     "start_time": "2022-04-18T06:20:45.938803Z"
    }
   },
   "outputs": [],
   "source": [
    "def login(browser):\n",
    "    id=\"\" # 인스타 아이디입력\n",
    "    pwd=\"\" # 인스타 패스워드입력\n",
    "    input_id=browser.find_element(By.XPATH,'//*[@id=\"loginForm\"]/div/div[1]/div/label/input') #아이디 입럭 객체 선택\n",
    "    input_pwd=browser.find_element(By.XPATH, '//*[@id=\"loginForm\"]/div/div[2]/div/label/input') #패스워드 입력 객체 선택\n",
    "    input_id.send_keys(id)\n",
    "    input_pwd.send_keys(pwd)\n",
    "    time.sleep(1)\n",
    "    \n",
    "    browser.find_element(By.XPATH,'//*[@id=\"loginForm\"]/div/div[3]/button/div').click() #로그인 버튼 클릭\n",
    "    time.sleep(5)\n",
    "    \n",
    "    browser.find_element(By.XPATH,'//*[@id=\"react-root\"]/section/main/div/div/div/div/button').click() #로그인정보 저장 나중에하기 버튼\n",
    "    "
   ]
  },
  {
   "cell_type": "markdown",
   "id": "e5419b42",
   "metadata": {},
   "source": [
    "# 검색키워드 검색"
   ]
  },
  {
   "cell_type": "code",
   "execution_count": 6,
   "id": "3c3c2556",
   "metadata": {
    "ExecuteTime": {
     "end_time": "2022-04-18T06:20:45.966084Z",
     "start_time": "2022-04-18T06:20:45.953762Z"
    }
   },
   "outputs": [],
   "source": [
    "def search_keyword(browser, keyword):\n",
    "    url = f\"https://www.instagram.com/explore/tags/{keyword}/\"\n",
    "    browser.get(url)"
   ]
  },
  {
   "cell_type": "markdown",
   "id": "6f2d0403",
   "metadata": {},
   "source": [
    "# 첫번째 게시글 오픈"
   ]
  },
  {
   "cell_type": "code",
   "execution_count": 7,
   "id": "5b74fbe2",
   "metadata": {
    "ExecuteTime": {
     "end_time": "2022-04-18T06:20:45.981046Z",
     "start_time": "2022-04-18T06:20:45.968080Z"
    }
   },
   "outputs": [],
   "source": [
    "def open_first_post(browser):\n",
    "    first_post = browser.find_elements_by_class_name(\"_9AhH0\")[0]\n",
    "    print(type(first_post))\n",
    "    print(first_post)\n",
    "    browser.execute_script(\"arguments[0].click();\",first_post)"
   ]
  },
  {
   "cell_type": "markdown",
   "id": "9e84b847",
   "metadata": {},
   "source": [
    "# 좋아요 출력(넘기면서 반복)"
   ]
  },
  {
   "cell_type": "code",
   "execution_count": 8,
   "id": "c5402c5e",
   "metadata": {
    "ExecuteTime": {
     "end_time": "2022-04-18T06:20:45.996038Z",
     "start_time": "2022-04-18T06:20:45.983039Z"
    }
   },
   "outputs": [],
   "source": [
    "def get_likes(browser):\n",
    "    try:\n",
    "        like = browser.find_element_by_xpath('/html/body/div[6]/div[3]/div/article/div/div[2]/div/div/div[2]/section[2]/div/div/div/a/div/span')\n",
    "        like = like.text.replace(',', '')\n",
    "        likes = int(like)\n",
    "        return likes\n",
    "    except Exception as ex:\n",
    "        print(\"get_likes 에러발생\", ex)\n",
    "        return \"NaN\""
   ]
  },
  {
   "cell_type": "markdown",
   "id": "e19d1ad2",
   "metadata": {},
   "source": [
    "# 이미지 URL, 파일명 출력(넘기면서 반복)"
   ]
  },
  {
   "cell_type": "markdown",
   "id": "30154e63",
   "metadata": {},
   "source": [
    "* https://mizykk.tistory.com/55\n",
    "* openCV를 이용해서 이미지 중복을 처리할 수 있을 듯."
   ]
  },
  {
   "cell_type": "code",
   "execution_count": 9,
   "id": "36790afb",
   "metadata": {
    "ExecuteTime": {
     "end_time": "2022-04-18T06:20:46.025925Z",
     "start_time": "2022-04-18T06:20:45.998996Z"
    }
   },
   "outputs": [
    {
     "data": {
      "text/plain": [
       "'\\n# 앞-현재-뒤 이렇게 컨텐츠가 넘어옴\\nimg = browser.find_element_by_class_name(\"RnEpo\")\\nimg = img.find_elements_by_class_name(\\'KL4Bh\\') # 동영상이면 \\nimg_url = img[0].find_element_by_tag_name(\\'img\\').get_attribute(\"src\") #동영상이면 list index out of range 에러뜸\\nimg_url\\n'"
      ]
     },
     "execution_count": 9,
     "metadata": {},
     "output_type": "execute_result"
    }
   ],
   "source": [
    "'''\n",
    "# 앞-현재-뒤 이렇게 컨텐츠가 넘어옴\n",
    "img = browser.find_element_by_class_name(\"RnEpo\")\n",
    "img = img.find_elements_by_class_name('KL4Bh') # 동영상이면 \n",
    "img_url = img[0].find_element_by_tag_name('img').get_attribute(\"src\") #동영상이면 list index out of range 에러뜸\n",
    "img_url\n",
    "'''"
   ]
  },
  {
   "cell_type": "code",
   "execution_count": 10,
   "id": "f455add1",
   "metadata": {
    "ExecuteTime": {
     "end_time": "2022-04-18T06:20:46.056843Z",
     "start_time": "2022-04-18T06:20:46.031908Z"
    }
   },
   "outputs": [],
   "source": [
    "def get_image_url(browser, keyword):\n",
    "    try:\n",
    "        #img = browser.find_elements_by_class_name(\"KL4Bh\") #이렇게 되면 마지막 놈이 뜸. 동영상은 처리 못함.\n",
    "        img = browser.find_element_by_class_name(\"RnEpo\")\n",
    "        img = img.find_elements_by_class_name('KL4Bh') # 동영상이면 안뜸.\n",
    "        #img_url = img[-1].find_element_by_css_selector(\"article img\").get_attribute(\"src\")\n",
    "        img_url = img[0].find_element_by_tag_name('img').get_attribute(\"src\")\n",
    "\n",
    "        uuid =uuid4() #유일한 이름 할당. 중복\n",
    "        #urlretrieve(img_url, f\"data/{keyword}/{uuid}.jpg\") #이건 다운로드\n",
    "        img_name = f\"{uuid}.jpg\"\n",
    "        return img_url, img_name\n",
    "    \n",
    "    except Exception as ex:\n",
    "        #에러가 발생하면 img_name이 \"NaN\"으로 출력됨.\n",
    "        print(\"get_image 에러발생\", ex)\n",
    "        return \"NaN\", \"NaN\""
   ]
  },
  {
   "cell_type": "markdown",
   "id": "285bc9a3",
   "metadata": {},
   "source": [
    "# 이미지 저장(넘기면서 반복)"
   ]
  },
  {
   "cell_type": "code",
   "execution_count": 11,
   "id": "f2d3b8b2",
   "metadata": {
    "ExecuteTime": {
     "end_time": "2022-04-18T06:20:46.071800Z",
     "start_time": "2022-04-18T06:20:46.060831Z"
    }
   },
   "outputs": [],
   "source": [
    "def save_image(browser, img_url, keyword, img_name):\n",
    "    save_path = f\"image/{keyword}/{img_name}\"\n",
    "    urlretrieve(img_url, save_path)\n",
    "    print(f\"{save_path}에 저장완료\")\n",
    "    return save_path"
   ]
  },
  {
   "cell_type": "markdown",
   "id": "7cea641f",
   "metadata": {},
   "source": [
    "# 해시태그 출력(NaN 확인 필요) (넘기면서 반복)"
   ]
  },
  {
   "cell_type": "code",
   "execution_count": 12,
   "id": "0af1df8e",
   "metadata": {
    "ExecuteTime": {
     "end_time": "2022-04-18T06:20:46.086761Z",
     "start_time": "2022-04-18T06:20:46.075790Z"
    }
   },
   "outputs": [],
   "source": [
    "def get_hashtag(browser):\n",
    "    components = browser.find_elements_by_class_name(\"xil3i\")\n",
    "    #components = browser.find_elements(By.CSS_SELECTOR, \"xil3i\") #안되는건가?\n",
    "    if len(components) != 0:\n",
    "        \n",
    "        try:\n",
    "            all_hashtags = [component.text for component in components]\n",
    "            if len(all_hashtags) > 0: #해시태그가 없으면 빈 리스트 출력\n",
    "                return list(set(all_hashtags))\n",
    "            else:\n",
    "                return \"NaN\"\n",
    "        \n",
    "        except Exception as ex:\n",
    "            print(\"get_hashtag 에러발생\", ex)\n",
    "            return \"NaN\""
   ]
  },
  {
   "cell_type": "markdown",
   "id": "c4de1e05",
   "metadata": {},
   "source": [
    "# 이미지 여러장인지 확인(넘기면서 반복)"
   ]
  },
  {
   "cell_type": "code",
   "execution_count": 13,
   "id": "453d45d3",
   "metadata": {
    "ExecuteTime": {
     "end_time": "2022-04-18T06:20:46.101758Z",
     "start_time": "2022-04-18T06:20:46.090749Z"
    }
   },
   "outputs": [],
   "source": [
    "def check_one_img(browser):\n",
    "    try:\n",
    "        browser.find_element_by_class_name('_6CZji')\n",
    "        return False\n",
    "    except:\n",
    "        return True"
   ]
  },
  {
   "cell_type": "markdown",
   "id": "ddf34ef1",
   "metadata": {},
   "source": [
    "# 데이터프레임으로 출력&이미지 저장(넘기면서 반복)"
   ]
  },
  {
   "cell_type": "markdown",
   "id": "7ffd5192",
   "metadata": {},
   "source": [
    "| 검색키워드 | 이미지파일명 | 좋아요 | 해시태그 |\n",
    "| --- | --- | --- | --- |\n",
    "| 음식스타그램 | asdiim23mmfs.jpg | 좋아요 | #tag1 #tag2 ... |\n",
    "\n",
    "이런식으로 하면 될라나"
   ]
  },
  {
   "cell_type": "code",
   "execution_count": 14,
   "id": "ae1edec4",
   "metadata": {
    "ExecuteTime": {
     "end_time": "2022-04-18T06:20:46.131670Z",
     "start_time": "2022-04-18T06:20:46.105710Z"
    }
   },
   "outputs": [],
   "source": [
    "def make_df(browser, keyword):\n",
    "    try:\n",
    "        # 현재페이지의 #\n",
    "        #1. 좋아요 가져오기\n",
    "        likes = get_likes(browser)\n",
    "        #2. 이미지 파일명 가져오기\n",
    "        img_url, img_name = get_image_url(browser, keyword)\n",
    "        \n",
    "        #3. 이미지 저장하기\n",
    "        file_path = save_image(browser, img_url, keyword, img_name)\n",
    "        #4. 해시태그 가져오기\n",
    "        hashtags = get_hashtag(browser)\n",
    "        #5. 이미지 1개인지 체크\n",
    "        one_img = check_one_img(browser)\n",
    "        \n",
    "        #6. 한 행의 데이터프레임 생성\n",
    "        df = pd.DataFrame([[keyword, img_name, file_path, likes, hashtags, one_img]],\n",
    "                         columns=['검색키워드', '이미지파일명', '파일경로', '좋아요', '해시태그', '이미지한개'])\n",
    "    \n",
    "    except Exception as ex:\n",
    "        print(\"make_df 에러발생\", ex)\n",
    "        df = pd.DataFrame([['NaN', 'NaN', 'NaN', 'Nan', 'NaN', 'NaN']],\n",
    "                         columns=['검색키워드', '이미지파일명', '파일경로', '좋아요', '해시태그', '이미지한개'])\n",
    "        \n",
    "    return df"
   ]
  },
  {
   "cell_type": "markdown",
   "id": "523cac53",
   "metadata": {},
   "source": [
    "# 페이지 넘기기"
   ]
  },
  {
   "cell_type": "code",
   "execution_count": 15,
   "id": "fc4fdd5a",
   "metadata": {
    "ExecuteTime": {
     "end_time": "2022-04-18T06:20:46.146640Z",
     "start_time": "2022-04-18T06:20:46.134671Z"
    }
   },
   "outputs": [],
   "source": [
    "def next_page(browser):\n",
    "    next_buttons = browser.find_elements_by_xpath('/html/body/div[6]/div[2]/div/div')\n",
    "    if len(next_buttons) == 2:\n",
    "        next_button = next_buttons[1]\n",
    "    else:\n",
    "        next_button = next_buttons[0]\n",
    "    next_button.click()"
   ]
  },
  {
   "cell_type": "markdown",
   "id": "0acc4175",
   "metadata": {},
   "source": [
    "# 디렉토리 생성"
   ]
  },
  {
   "cell_type": "code",
   "execution_count": 16,
   "id": "db106bec",
   "metadata": {
    "ExecuteTime": {
     "end_time": "2022-04-18T06:20:46.161600Z",
     "start_time": "2022-04-18T06:20:46.148634Z"
    }
   },
   "outputs": [],
   "source": [
    "def make_dir(keyword):\n",
    "    try:\n",
    "        os.makedirs(f\"image/{keyword}\")\n",
    "    except OSError:\n",
    "        print(f'image/{keyword} 경로가 존재합니다.')\n",
    "        pass"
   ]
  },
  {
   "cell_type": "markdown",
   "id": "cf606269",
   "metadata": {},
   "source": [
    "# 자동실행(처음)"
   ]
  },
  {
   "cell_type": "code",
   "execution_count": 17,
   "id": "f824bf90",
   "metadata": {
    "ExecuteTime": {
     "end_time": "2022-04-18T06:20:46.191519Z",
     "start_time": "2022-04-18T06:20:46.164591Z"
    }
   },
   "outputs": [],
   "source": [
    "def auto_run(keyword, num_post):\n",
    "    #1. 디렉토리 생성\n",
    "    make_dir(keyword)\n",
    "    \n",
    "    #2. 브라우저 열고 로그인하기\n",
    "    browser = open_browser()\n",
    "    time.sleep(2)\n",
    "    login(browser)\n",
    "    time.sleep(3)\n",
    "    \n",
    "    #3. 검색키워드 입력 후 페이지 전환\n",
    "    search_keyword(browser, keyword)\n",
    "    time.sleep(10) #첫 검색은 상당히 오래걸릴 수 있음.\n",
    "    \n",
    "    #4. 첫번째 게시글 열기\n",
    "    open_first_post(browser)\n",
    "    time.sleep(5 + (random() * 5))\n",
    "    \n",
    "    #### 여기서 반복 ####\n",
    "    total_df_LS = []\n",
    "    for i in range(num_post):\n",
    "        #5-1. 데이터프레임으로 출력 및 이미지 저장\n",
    "        one_row_hashtag_df = make_df(browser, keyword)\n",
    "        #5-2. 리스트에 저장\n",
    "        total_df_LS.append(one_row_hashtag_df)\n",
    "        #5-3. 다음페이지로 이동\n",
    "        next_page(browser)\n",
    "        time.sleep(3 + (random() * 5))\n",
    "        if (i+1)%10 == 0:\n",
    "            print(f'{i+1}번째 까지 게시글이 스크랩 완료되었습니다.')\n",
    "            \n",
    "    #6. 하나의 데이터프레임으로 병합\n",
    "    total_df = pd.concat(total_df_LS, axis=0)\n",
    "    total_df.reset_index(inplace=True, drop=True)\n",
    "    \n",
    "    return total_df, browser"
   ]
  },
  {
   "cell_type": "code",
   "execution_count": 18,
   "id": "b6c695bd",
   "metadata": {
    "ExecuteTime": {
     "end_time": "2022-04-18T06:20:46.206480Z",
     "start_time": "2022-04-18T06:20:46.195509Z"
    },
    "scrolled": true
   },
   "outputs": [
    {
     "data": {
      "text/plain": [
       "\"total_df, browser = auto_run('음식스타그램', 5)\""
      ]
     },
     "execution_count": 18,
     "metadata": {},
     "output_type": "execute_result"
    }
   ],
   "source": [
    "'''total_df, browser = auto_run('음식스타그램', 5)'''"
   ]
  },
  {
   "cell_type": "code",
   "execution_count": 19,
   "id": "ad803320",
   "metadata": {
    "ExecuteTime": {
     "end_time": "2022-04-18T06:20:46.221497Z",
     "start_time": "2022-04-18T06:20:46.210468Z"
    }
   },
   "outputs": [
    {
     "data": {
      "text/plain": [
       "'total_df'"
      ]
     },
     "execution_count": 19,
     "metadata": {},
     "output_type": "execute_result"
    }
   ],
   "source": [
    "'''total_df'''"
   ]
  },
  {
   "cell_type": "markdown",
   "id": "fa5cda0b",
   "metadata": {},
   "source": [
    "# 데이터프레임 저장"
   ]
  },
  {
   "cell_type": "markdown",
   "id": "3732b452",
   "metadata": {},
   "source": [
    "## 데이터 프레임 디렉토리 생성"
   ]
  },
  {
   "cell_type": "code",
   "execution_count": 20,
   "id": "87c65e60",
   "metadata": {
    "ExecuteTime": {
     "end_time": "2022-04-18T06:20:46.236459Z",
     "start_time": "2022-04-18T06:20:46.225487Z"
    }
   },
   "outputs": [],
   "source": [
    "def make_dir2(keyword):\n",
    "    try:\n",
    "        os.makedirs(f\"data/{keyword}\")\n",
    "    except OSError:\n",
    "        print(f'data/{keyword} 경로가 존재합니다.')\n",
    "        pass"
   ]
  },
  {
   "cell_type": "markdown",
   "id": "8c8a3455",
   "metadata": {},
   "source": [
    "## 데이터 프레임 저장"
   ]
  },
  {
   "cell_type": "code",
   "execution_count": 21,
   "id": "ce7073ca",
   "metadata": {
    "ExecuteTime": {
     "end_time": "2022-04-18T06:20:46.251419Z",
     "start_time": "2022-04-18T06:20:46.239450Z"
    }
   },
   "outputs": [],
   "source": [
    "def save_df(keyword, df, file_name):\n",
    "    make_dir2(keyword)\n",
    "    \n",
    "    df.to_pickle(f\"data/{keyword}/{file_name}.pkl\")\n",
    "    print(f\"data/{keyword}/{file_name}.pkl 저장완료\")"
   ]
  },
  {
   "cell_type": "code",
   "execution_count": 22,
   "id": "db38488f",
   "metadata": {
    "ExecuteTime": {
     "end_time": "2022-04-18T06:20:46.266889Z",
     "start_time": "2022-04-18T06:20:46.254411Z"
    }
   },
   "outputs": [
    {
     "data": {
      "text/plain": [
       "\"save_df('음식스타그램', total_df, '음식스타그램1')\""
      ]
     },
     "execution_count": 22,
     "metadata": {},
     "output_type": "execute_result"
    }
   ],
   "source": [
    "'''save_df('음식스타그램', total_df, '음식스타그램1')'''"
   ]
  },
  {
   "cell_type": "markdown",
   "id": "510ce664",
   "metadata": {},
   "source": [
    "# 실험용 코드(실행X)"
   ]
  },
  {
   "cell_type": "code",
   "execution_count": 23,
   "id": "3fe02a77",
   "metadata": {
    "ExecuteTime": {
     "end_time": "2022-04-18T06:20:46.281849Z",
     "start_time": "2022-04-18T06:20:46.269882Z"
    }
   },
   "outputs": [
    {
     "data": {
      "text/plain": [
       "\"make_dir('음식스타그램')\\n\\n#2. 브라우저 열고 로그인하기\\nbrowser = open_browser()\\ntime.sleep(2)\\nlogin(browser)\\ntime.sleep(3)\\n\\n#3. 검색키워드 입력 후 페이지 전환\\nsearch_keyword(browser, '음식스타그램')\\ntime.sleep(10) #첫 검색은 상당히 오래걸릴 수 있음.\\n\\n#4. 첫번째 게시글 열기\\nopen_first_post(browser)\\ntime.sleep(5 + (random() * 5))\""
      ]
     },
     "execution_count": 23,
     "metadata": {},
     "output_type": "execute_result"
    }
   ],
   "source": [
    "'''make_dir('음식스타그램')\n",
    "\n",
    "#2. 브라우저 열고 로그인하기\n",
    "browser = open_browser()\n",
    "time.sleep(2)\n",
    "login(browser)\n",
    "time.sleep(3)\n",
    "\n",
    "#3. 검색키워드 입력 후 페이지 전환\n",
    "search_keyword(browser, '음식스타그램')\n",
    "time.sleep(10) #첫 검색은 상당히 오래걸릴 수 있음.\n",
    "\n",
    "#4. 첫번째 게시글 열기\n",
    "open_first_post(browser)\n",
    "time.sleep(5 + (random() * 5))'''"
   ]
  },
  {
   "cell_type": "markdown",
   "id": "ae420f93",
   "metadata": {},
   "source": [
    "# 분할 실행(한번에 n개 가져오기, k번 실행)"
   ]
  },
  {
   "cell_type": "code",
   "execution_count": 24,
   "id": "6a525e17",
   "metadata": {
    "ExecuteTime": {
     "end_time": "2022-04-18T06:20:46.311769Z",
     "start_time": "2022-04-18T06:20:46.284841Z"
    }
   },
   "outputs": [],
   "source": [
    "def auto_run_repeat(keyword, num_post, num_repeat):\n",
    "    #1. 디렉토리 생성\n",
    "    make_dir(keyword)\n",
    "    \n",
    "    #2. 브라우저 열고 로그인하기\n",
    "    browser = open_browser()\n",
    "    time.sleep(2)\n",
    "    login(browser)\n",
    "    time.sleep(3)\n",
    "    \n",
    "    #3. 검색키워드 입력 후 페이지 전환\n",
    "    search_keyword(browser, keyword)\n",
    "    time.sleep(10) #첫 검색은 상당히 오래걸릴 수 있음.\n",
    "    \n",
    "    #4. 첫번째 게시글 열기\n",
    "    open_first_post(browser)\n",
    "    time.sleep(5 + (random() * 5))\n",
    "    \n",
    "    #### 여기서 반복 ####\n",
    "    for n in range(num_repeat):\n",
    "        print(f'======={n+1}========')\n",
    "        total_df_LS = []\n",
    "        for i in range(num_post):\n",
    "            #5-1. 데이터프레임으로 출력 및 이미지 저장\n",
    "            one_row_hashtag_df = make_df(browser, keyword)\n",
    "            #5-2. 리스트에 저장\n",
    "            total_df_LS.append(one_row_hashtag_df)\n",
    "            #5-3. 다음페이지로 이동\n",
    "            next_page(browser)\n",
    "            time.sleep(3 + (random() * 5))\n",
    "            if (i+1)%10 == 0:\n",
    "                print(f'{i+1}번째 까지 게시글이 스크랩 완료되었습니다.')\n",
    "\n",
    "        #6. 하나의 데이터프레임으로 병합\n",
    "        total_df = pd.concat(total_df_LS, axis=0)\n",
    "        total_df.reset_index(inplace=True, drop=True)\n",
    "\n",
    "        #7. 데이터프레임 저장\n",
    "        save_df(keyword, total_df, f'{keyword}{n+1}')\n",
    "    return browser"
   ]
  },
  {
   "cell_type": "markdown",
   "id": "f773159b",
   "metadata": {},
   "source": [
    "# 여기서 크롤러 실행하시오!!!"
   ]
  },
  {
   "cell_type": "code",
   "execution_count": 25,
   "id": "a76809d5",
   "metadata": {
    "ExecuteTime": {
     "end_time": "2022-04-18T06:21:58.564500Z",
     "start_time": "2022-04-18T06:20:46.314761Z"
    }
   },
   "outputs": [
    {
     "name": "stdout",
     "output_type": "stream",
     "text": [
      "image/음식스타그램 경로가 존재합니다.\n",
      "<class 'selenium.webdriver.remote.webelement.WebElement'>\n",
      "<selenium.webdriver.remote.webelement.WebElement (session=\"ed42a10f572caab3973fe8249cdf7d0f\", element=\"d8f2d45d-749f-4574-8c22-9d4fc5b3b9cc\")>\n",
      "=======1========\n",
      "image/음식스타그램/41adcb06-2840-44b7-8175-c52d0b6f4c14.jpg에 저장완료\n",
      "image/음식스타그램/c48f9b12-3c56-48d2-80c0-a3b4b4cc589f.jpg에 저장완료\n",
      "image/음식스타그램/597ccb02-877f-4419-995b-d800b8e968ef.jpg에 저장완료\n",
      "data/음식스타그램/음식스타그램1.pkl 저장완료\n",
      "=======2========\n",
      "image/음식스타그램/8aaf684a-225c-44de-a73f-ca162654baa6.jpg에 저장완료\n",
      "image/음식스타그램/f57add56-8631-4a30-93c0-18770ed6eb35.jpg에 저장완료\n",
      "image/음식스타그램/f822457b-7705-460f-a665-439e4b406c15.jpg에 저장완료\n",
      "data/음식스타그램 경로가 존재합니다.\n",
      "data/음식스타그램/음식스타그램2.pkl 저장완료\n"
     ]
    }
   ],
   "source": [
    "# (검색할 키워드, 1회 실행시 가져올 게시글 수, 반복 횟수)\n",
    "browser = auto_run_repeat('음식스타그램', num_post=3, num_repeat=2)"
   ]
  },
  {
   "cell_type": "code",
   "execution_count": null,
   "id": "33e9bc07",
   "metadata": {},
   "outputs": [],
   "source": []
  }
 ],
 "metadata": {
  "kernelspec": {
   "display_name": "Python 3 (ipykernel)",
   "language": "python",
   "name": "python3"
  },
  "language_info": {
   "codemirror_mode": {
    "name": "ipython",
    "version": 3
   },
   "file_extension": ".py",
   "mimetype": "text/x-python",
   "name": "python",
   "nbconvert_exporter": "python",
   "pygments_lexer": "ipython3",
   "version": "3.9.10"
  },
  "toc": {
   "base_numbering": 1,
   "nav_menu": {},
   "number_sections": true,
   "sideBar": true,
   "skip_h1_title": false,
   "title_cell": "Table of Contents",
   "title_sidebar": "Contents",
   "toc_cell": false,
   "toc_position": {
    "height": "calc(100% - 180px)",
    "left": "10px",
    "top": "150px",
    "width": "312.331px"
   },
   "toc_section_display": true,
   "toc_window_display": true
  },
  "varInspector": {
   "cols": {
    "lenName": 16,
    "lenType": 16,
    "lenVar": 40
   },
   "kernels_config": {
    "python": {
     "delete_cmd_postfix": "",
     "delete_cmd_prefix": "del ",
     "library": "var_list.py",
     "varRefreshCmd": "print(var_dic_list())"
    },
    "r": {
     "delete_cmd_postfix": ") ",
     "delete_cmd_prefix": "rm(",
     "library": "var_list.r",
     "varRefreshCmd": "cat(var_dic_list()) "
    }
   },
   "types_to_exclude": [
    "module",
    "function",
    "builtin_function_or_method",
    "instance",
    "_Feature"
   ],
   "window_display": false
  }
 },
 "nbformat": 4,
 "nbformat_minor": 5
}
