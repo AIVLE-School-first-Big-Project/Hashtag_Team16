{
 "cells": [
  {
   "cell_type": "code",
   "execution_count": 1,
   "id": "63082f62",
   "metadata": {
    "ExecuteTime": {
     "end_time": "2022-05-07T12:21:24.886469Z",
     "start_time": "2022-05-07T12:21:23.862206Z"
    }
   },
   "outputs": [],
   "source": [
    "import pandas as pd\n",
    "import joblib\n",
    "import os"
   ]
  },
  {
   "cell_type": "markdown",
   "id": "084de0d3",
   "metadata": {},
   "source": [
    "# 데이터 불러오기"
   ]
  },
  {
   "cell_type": "code",
   "execution_count": 3,
   "id": "d5b7ac66",
   "metadata": {
    "ExecuteTime": {
     "end_time": "2022-05-09T16:15:04.724910Z",
     "start_time": "2022-05-09T16:15:04.717928Z"
    }
   },
   "outputs": [],
   "source": [
    "update_df = joblib.load('preprocessed/dataframe/update_df.pkl')"
   ]
  },
  {
   "cell_type": "code",
   "execution_count": 6,
   "id": "d3afc470",
   "metadata": {
    "ExecuteTime": {
     "end_time": "2022-05-07T12:22:40.885540Z",
     "start_time": "2022-05-07T12:22:39.799444Z"
    }
   },
   "outputs": [
    {
     "name": "stdout",
     "output_type": "stream",
     "text": [
      "0\n",
      "1000\n",
      "2000\n",
      "3000\n",
      "4000\n",
      "5000\n",
      "6000\n",
      "7000\n",
      "8000\n"
     ]
    }
   ],
   "source": [
    "total_file_name = os.listdir('preprocessed/image')\n",
    "i = 0\n",
    "for file_name in update_df['이미지파일명']:\n",
    "    if file_name not in total_file_name:\n",
    "        print(file_name)\n",
    "    if i%1000 == 0:\n",
    "        print(i)\n",
    "    i += 1"
   ]
  },
  {
   "cell_type": "markdown",
   "id": "b79d7d9c",
   "metadata": {},
   "source": [
    "# 광고 삭제"
   ]
  },
  {
   "cell_type": "code",
   "execution_count": 1,
   "id": "f05ee38f",
   "metadata": {
    "ExecuteTime": {
     "end_time": "2022-05-09T16:14:49.136008Z",
     "start_time": "2022-05-09T16:14:49.126376Z"
    }
   },
   "outputs": [],
   "source": [
    "update_df = update_df.loc[update_df['광고여부'] == False]"
   ]
  },
  {
   "cell_type": "markdown",
   "id": "183774a4",
   "metadata": {},
   "source": [
    "# 삭제 삭제"
   ]
  },
  {
   "cell_type": "code",
   "execution_count": 2,
   "id": "ce7c3414",
   "metadata": {
    "ExecuteTime": {
     "end_time": "2022-05-09T16:14:55.095182Z",
     "start_time": "2022-05-09T16:14:55.081237Z"
    }
   },
   "outputs": [],
   "source": [
    "update_df = update_df.loc[update_df['삭제여부'] == False]\n",
    "update_df.reset_index(drop=True, inplace=True)"
   ]
  },
  {
   "cell_type": "code",
   "execution_count": 8,
   "id": "7d6fe251",
   "metadata": {
    "ExecuteTime": {
     "end_time": "2022-05-07T06:40:27.187108Z",
     "start_time": "2022-05-07T06:40:21.356868Z"
    }
   },
   "outputs": [
    {
     "data": {
      "text/plain": [
       "['preprocessed/dataframe/last_df.pkl']"
      ]
     },
     "execution_count": 8,
     "metadata": {},
     "output_type": "execute_result"
    }
   ],
   "source": [
    "joblib.dump(update_df, 'preprocessed/dataframe/last_df.pkl')"
   ]
  }
 ],
 "metadata": {
  "kernelspec": {
   "display_name": "Python 3 (ipykernel)",
   "language": "python",
   "name": "python3"
  },
  "language_info": {
   "codemirror_mode": {
    "name": "ipython",
    "version": 3
   },
   "file_extension": ".py",
   "mimetype": "text/x-python",
   "name": "python",
   "nbconvert_exporter": "python",
   "pygments_lexer": "ipython3",
   "version": "3.7.12"
  },
  "toc": {
   "base_numbering": 1,
   "nav_menu": {},
   "number_sections": true,
   "sideBar": true,
   "skip_h1_title": false,
   "title_cell": "Table of Contents",
   "title_sidebar": "Contents",
   "toc_cell": false,
   "toc_position": {},
   "toc_section_display": true,
   "toc_window_display": false
  },
  "varInspector": {
   "cols": {
    "lenName": 16,
    "lenType": 16,
    "lenVar": 40
   },
   "kernels_config": {
    "python": {
     "delete_cmd_postfix": "",
     "delete_cmd_prefix": "del ",
     "library": "var_list.py",
     "varRefreshCmd": "print(var_dic_list())"
    },
    "r": {
     "delete_cmd_postfix": ") ",
     "delete_cmd_prefix": "rm(",
     "library": "var_list.r",
     "varRefreshCmd": "cat(var_dic_list()) "
    }
   },
   "types_to_exclude": [
    "module",
    "function",
    "builtin_function_or_method",
    "instance",
    "_Feature"
   ],
   "window_display": false
  }
 },
 "nbformat": 4,
 "nbformat_minor": 5
}
