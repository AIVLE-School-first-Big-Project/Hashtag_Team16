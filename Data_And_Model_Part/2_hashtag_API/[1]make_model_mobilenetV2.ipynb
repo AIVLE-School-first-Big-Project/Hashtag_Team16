{
 "cells": [
  {
   "cell_type": "code",
   "execution_count": null,
   "metadata": {},
   "outputs": [],
   "source": [
    "'''코랩 GPU환경에서 실행하였음.'''"
   ]
  },
  {
   "cell_type": "code",
   "execution_count": null,
   "metadata": {
    "colab": {
     "base_uri": "https://localhost:8080/"
    },
    "executionInfo": {
     "elapsed": 20805,
     "status": "ok",
     "timestamp": 1651983379099,
     "user": {
      "displayName": "강준모",
      "userId": "14855937078495325719"
     },
     "user_tz": -540
    },
    "id": "qit2l7-IsAIp",
    "outputId": "059125c0-fd65-4549-b58d-13753be77a91"
   },
   "outputs": [
    {
     "name": "stdout",
     "output_type": "stream",
     "text": [
      "Mounted at /content/drive\n"
     ]
    }
   ],
   "source": [
    "from google.colab import drive\n",
    "drive.mount('/content/drive')"
   ]
  },
  {
   "cell_type": "code",
   "execution_count": null,
   "metadata": {
    "colab": {
     "base_uri": "https://localhost:8080/"
    },
    "executionInfo": {
     "elapsed": 3374,
     "status": "ok",
     "timestamp": 1651983382470,
     "user": {
      "displayName": "강준모",
      "userId": "14855937078495325719"
     },
     "user_tz": -540
    },
    "id": "4wmuFA6BsLzH",
    "outputId": "33d65525-9b94-4bff-f918-d54188f19702"
   },
   "outputs": [
    {
     "name": "stdout",
     "output_type": "stream",
     "text": [
      "/content/drive/MyDrive/aivle/big_proj/Hashtag-Generator-main/insta_crawling\n"
     ]
    }
   ],
   "source": [
    "# %cd preprocessed 데이터가 위치한 폴더의 상위폴더로 이동."
   ]
  },
  {
   "cell_type": "code",
   "execution_count": null,
   "metadata": {
    "colab": {
     "base_uri": "https://localhost:8080/"
    },
    "executionInfo": {
     "elapsed": 15523,
     "status": "ok",
     "timestamp": 1651983397986,
     "user": {
      "displayName": "강준모",
      "userId": "14855937078495325719"
     },
     "user_tz": -540
    },
    "id": "A7krKbxw2FoI",
    "outputId": "fd639a0d-11f6-455f-8e53-a41025c78d65"
   },
   "outputs": [
    {
     "name": "stdout",
     "output_type": "stream",
     "text": [
      "openjdk version \"11.0.15\" 2022-04-19\n",
      "OpenJDK Runtime Environment (build 11.0.15+10-Ubuntu-0ubuntu0.18.04.1)\n",
      "OpenJDK 64-Bit Server VM (build 11.0.15+10-Ubuntu-0ubuntu0.18.04.1, mixed mode, sharing)\n",
      "sudo: update-alternativeAs: command not found\n",
      "openjdk version \"11.0.15\" 2022-04-19\n",
      "OpenJDK Runtime Environment (build 11.0.15+10-Ubuntu-0ubuntu0.18.04.1)\n",
      "OpenJDK 64-Bit Server VM (build 11.0.15+10-Ubuntu-0ubuntu0.18.04.1, mixed mode, sharing)\n",
      "\n",
      "WARNING: apt does not have a stable CLI interface. Use with caution in scripts.\n",
      "\n",
      "Drive already mounted at /content/drive; to attempt to forcibly remount, call drive.mount(\"/content/drive\", force_remount=True).\n",
      "Collecting pickle5\n",
      "  Downloading pickle5-0.0.12-cp37-cp37m-manylinux_2_5_x86_64.manylinux1_x86_64.whl (256 kB)\n",
      "\u001b[K     |████████████████████████████████| 256 kB 14.8 MB/s \n",
      "\u001b[?25hInstalling collected packages: pickle5\n",
      "Successfully installed pickle5-0.0.12\n"
     ]
    }
   ],
   "source": [
    "!java -version\n",
    "!sudo update-alternativeAs --config java\n",
    "!java -version\n",
    "# 그래프에서 한글표현을 위해 폰트 설치\n",
    "%config InlineBackend.figure_format = 'retina'\n",
    "!apt -qq -y install fonts-nanum > /dev/null\n",
    "\n",
    "import matplotlib.font_manager as fm\n",
    "fontpath = '/usr/share/fonts/truetype/nanum/NanumBarunGothic.ttf'\n",
    "font = fm.FontProperties(fname=fontpath, size=9)\n",
    "\n",
    "# 기본 글꼴 변경\n",
    "import matplotlib as mpl\n",
    "mpl.font_manager._rebuild()\n",
    "mpl.pyplot.rc('font', family='NanumBarunGothic')\n",
    "# tensorflow version을 2.x로 변경\n",
    "try:\n",
    "    %tensorflow_version 2.x\n",
    "except Exception:\n",
    "    pass\n",
    "import tensorflow as tf\n",
    "# 자동 reload\n",
    "%load_ext autoreload\n",
    "%autoreload 2\n",
    "# 구글 드라이브와 연동\n",
    "from google.colab import drive\n",
    "drive.mount('/content/drive')\n",
    "!pip3 install pickle5"
   ]
  },
  {
   "cell_type": "code",
   "execution_count": null,
   "metadata": {
    "colab": {
     "base_uri": "https://localhost:8080/"
    },
    "executionInfo": {
     "elapsed": 43364,
     "status": "ok",
     "timestamp": 1651983441346,
     "user": {
      "displayName": "강준모",
      "userId": "14855937078495325719"
     },
     "user_tz": -540
    },
    "id": "BhlOLuyO4Ocr",
    "outputId": "9bd465b2-c33d-46c6-82ac-4bc81e34eea3"
   },
   "outputs": [
    {
     "name": "stdout",
     "output_type": "stream",
     "text": [
      "Collecting pyspark\n",
      "  Downloading pyspark-3.2.1.tar.gz (281.4 MB)\n",
      "\u001b[K     |████████████████████████████████| 281.4 MB 26 kB/s \n",
      "\u001b[?25hCollecting py4j==0.10.9.3\n",
      "  Downloading py4j-0.10.9.3-py2.py3-none-any.whl (198 kB)\n",
      "\u001b[K     |████████████████████████████████| 198 kB 65.1 MB/s \n",
      "\u001b[?25hBuilding wheels for collected packages: pyspark\n",
      "  Building wheel for pyspark (setup.py) ... \u001b[?25l\u001b[?25hdone\n",
      "  Created wheel for pyspark: filename=pyspark-3.2.1-py2.py3-none-any.whl size=281853642 sha256=e8a0cfc379daa36399bf2bc1c5c85bee3a73c203d9e25844792f0a1687682d20\n",
      "  Stored in directory: /root/.cache/pip/wheels/9f/f5/07/7cd8017084dce4e93e84e92efd1e1d5334db05f2e83bcef74f\n",
      "Successfully built pyspark\n",
      "Installing collected packages: py4j, pyspark\n",
      "Successfully installed py4j-0.10.9.3 pyspark-3.2.1\n"
     ]
    }
   ],
   "source": [
    "import numpy as np\n",
    "import tensorflow as tf\n",
    "import pandas as pd\n",
    "import matplotlib.pyplot as plt\n",
    "%matplotlib inline\n",
    "import matplotlib.image as mpimg\n",
    "!pip install pyspark\n",
    "from pyspark.sql import SparkSession\n",
    "from pyspark.ml.recommendation import ALS, ALSModel\n",
    "from tensorflow.keras.applications import MobileNetV2\n",
    "from tqdm import tqdm\n",
    "from scipy.spatial.distance import cosine\n",
    "import joblib"
   ]
  },
  {
   "cell_type": "code",
   "execution_count": null,
   "metadata": {
    "colab": {
     "base_uri": "https://localhost:8080/",
     "height": 667
    },
    "executionInfo": {
     "elapsed": 1822,
     "status": "ok",
     "timestamp": 1651983443159,
     "user": {
      "displayName": "강준모",
      "userId": "14855937078495325719"
     },
     "user_tz": -540
    },
    "id": "F1CAHon85Nt3",
    "outputId": "8e359d6f-c546-4fe0-c90f-fac52c95b81e"
   },
   "outputs": [
    {
     "data": {
      "text/html": [
       "\n",
       "  <div id=\"df-7e838f0e-ffa6-463e-9eda-c5eefe93cbdb\">\n",
       "    <div class=\"colab-df-container\">\n",
       "      <div>\n",
       "<style scoped>\n",
       "    .dataframe tbody tr th:only-of-type {\n",
       "        vertical-align: middle;\n",
       "    }\n",
       "\n",
       "    .dataframe tbody tr th {\n",
       "        vertical-align: top;\n",
       "    }\n",
       "\n",
       "    .dataframe thead th {\n",
       "        text-align: right;\n",
       "    }\n",
       "</style>\n",
       "<table border=\"1\" class=\"dataframe\">\n",
       "  <thead>\n",
       "    <tr style=\"text-align: right;\">\n",
       "      <th></th>\n",
       "      <th>검색키워드</th>\n",
       "      <th>이미지파일명</th>\n",
       "      <th>파일경로</th>\n",
       "      <th>좋아요</th>\n",
       "      <th>해시태그</th>\n",
       "      <th>이미지한개</th>\n",
       "      <th>게시글url</th>\n",
       "      <th>이미지url</th>\n",
       "      <th>메인키워드</th>\n",
       "      <th>광고여부</th>\n",
       "      <th>확인여부</th>\n",
       "      <th>삭제여부</th>\n",
       "    </tr>\n",
       "  </thead>\n",
       "  <tbody>\n",
       "    <tr>\n",
       "      <th>0</th>\n",
       "      <td>펫스타그램</td>\n",
       "      <td>af37feb6-2166-440a-9612-917e5bd32e99.jpg</td>\n",
       "      <td>image/펫스타그램/af37feb6-2166-440a-9612-917e5bd32e...</td>\n",
       "      <td>2438</td>\n",
       "      <td>[#pom, #멍스타그램, #pomeranian, #포메, #pet, #강아지모델,...</td>\n",
       "      <td>False</td>\n",
       "      <td>https://www.instagram.com/p/Ccg47zap-EJ/</td>\n",
       "      <td>https://scontent-gmp1-1.cdninstagram.com/v/t51...</td>\n",
       "      <td>반려동물</td>\n",
       "      <td>False</td>\n",
       "      <td>False</td>\n",
       "      <td>False</td>\n",
       "    </tr>\n",
       "    <tr>\n",
       "      <th>2</th>\n",
       "      <td>펫스타그램</td>\n",
       "      <td>b5500161-a207-4213-801b-396f4d1ef3eb.jpg</td>\n",
       "      <td>image/펫스타그램/b5500161-a207-4213-801b-396f4d1ef3...</td>\n",
       "      <td>50285</td>\n",
       "      <td>[#쁘띠아랑, #팜므파탈백돼지걸, #반려견, #わんちゃん, #lovedogs🐶, #...</td>\n",
       "      <td>False</td>\n",
       "      <td>https://www.instagram.com/p/Ccfd5SOpL2W/</td>\n",
       "      <td>https://scontent-gmp1-1.cdninstagram.com/v/t51...</td>\n",
       "      <td>반려동물</td>\n",
       "      <td>False</td>\n",
       "      <td>False</td>\n",
       "      <td>False</td>\n",
       "    </tr>\n",
       "    <tr>\n",
       "      <th>3</th>\n",
       "      <td>펫스타그램</td>\n",
       "      <td>d1697f81-06a1-4a8a-a5fa-1a764b28066a.jpg</td>\n",
       "      <td>image/펫스타그램/d1697f81-06a1-4a8a-a5fa-1a764b2806...</td>\n",
       "      <td>136</td>\n",
       "      <td>[#petstagram, #l4l, #비숑프리제, #cutedog, #댕댕이, #제...</td>\n",
       "      <td>False</td>\n",
       "      <td>https://www.instagram.com/p/CcfPqzNJvRb/</td>\n",
       "      <td>https://scontent-gmp1-1.cdninstagram.com/v/t51...</td>\n",
       "      <td>반려동물</td>\n",
       "      <td>False</td>\n",
       "      <td>False</td>\n",
       "      <td>False</td>\n",
       "    </tr>\n",
       "    <tr>\n",
       "      <th>4</th>\n",
       "      <td>펫스타그램</td>\n",
       "      <td>5d6b1c34-0fda-4b69-8b52-157424878611.jpg</td>\n",
       "      <td>image/펫스타그램/5d6b1c34-0fda-4b69-8b52-1574248786...</td>\n",
       "      <td>28508</td>\n",
       "      <td>[#makji, #pet, #캣스타그램, #kitten, #반려묘, #무지, #mu...</td>\n",
       "      <td>False</td>\n",
       "      <td>https://www.instagram.com/p/CchmY14LZKL/</td>\n",
       "      <td>https://scontent-gmp1-1.cdninstagram.com/v/t51...</td>\n",
       "      <td>반려동물</td>\n",
       "      <td>False</td>\n",
       "      <td>False</td>\n",
       "      <td>False</td>\n",
       "    </tr>\n",
       "    <tr>\n",
       "      <th>5</th>\n",
       "      <td>펫스타그램</td>\n",
       "      <td>6cd5c4eb-fb8f-4e5e-897e-556e43e956de.jpg</td>\n",
       "      <td>image/펫스타그램/6cd5c4eb-fb8f-4e5e-897e-556e43e956...</td>\n",
       "      <td>708</td>\n",
       "      <td>[#멍스타그램, #イヌスタグラム, #多頭飼い, #shihtzu, #シーズー, #シー...</td>\n",
       "      <td>False</td>\n",
       "      <td>https://www.instagram.com/p/CciXAi0rcR0/</td>\n",
       "      <td>https://scontent-gmp1-1.cdninstagram.com/v/t51...</td>\n",
       "      <td>반려동물</td>\n",
       "      <td>False</td>\n",
       "      <td>False</td>\n",
       "      <td>False</td>\n",
       "    </tr>\n",
       "  </tbody>\n",
       "</table>\n",
       "</div>\n",
       "      <button class=\"colab-df-convert\" onclick=\"convertToInteractive('df-7e838f0e-ffa6-463e-9eda-c5eefe93cbdb')\"\n",
       "              title=\"Convert this dataframe to an interactive table.\"\n",
       "              style=\"display:none;\">\n",
       "        \n",
       "  <svg xmlns=\"http://www.w3.org/2000/svg\" height=\"24px\"viewBox=\"0 0 24 24\"\n",
       "       width=\"24px\">\n",
       "    <path d=\"M0 0h24v24H0V0z\" fill=\"none\"/>\n",
       "    <path d=\"M18.56 5.44l.94 2.06.94-2.06 2.06-.94-2.06-.94-.94-2.06-.94 2.06-2.06.94zm-11 1L8.5 8.5l.94-2.06 2.06-.94-2.06-.94L8.5 2.5l-.94 2.06-2.06.94zm10 10l.94 2.06.94-2.06 2.06-.94-2.06-.94-.94-2.06-.94 2.06-2.06.94z\"/><path d=\"M17.41 7.96l-1.37-1.37c-.4-.4-.92-.59-1.43-.59-.52 0-1.04.2-1.43.59L10.3 9.45l-7.72 7.72c-.78.78-.78 2.05 0 2.83L4 21.41c.39.39.9.59 1.41.59.51 0 1.02-.2 1.41-.59l7.78-7.78 2.81-2.81c.8-.78.8-2.07 0-2.86zM5.41 20L4 18.59l7.72-7.72 1.47 1.35L5.41 20z\"/>\n",
       "  </svg>\n",
       "      </button>\n",
       "      \n",
       "  <style>\n",
       "    .colab-df-container {\n",
       "      display:flex;\n",
       "      flex-wrap:wrap;\n",
       "      gap: 12px;\n",
       "    }\n",
       "\n",
       "    .colab-df-convert {\n",
       "      background-color: #E8F0FE;\n",
       "      border: none;\n",
       "      border-radius: 50%;\n",
       "      cursor: pointer;\n",
       "      display: none;\n",
       "      fill: #1967D2;\n",
       "      height: 32px;\n",
       "      padding: 0 0 0 0;\n",
       "      width: 32px;\n",
       "    }\n",
       "\n",
       "    .colab-df-convert:hover {\n",
       "      background-color: #E2EBFA;\n",
       "      box-shadow: 0px 1px 2px rgba(60, 64, 67, 0.3), 0px 1px 3px 1px rgba(60, 64, 67, 0.15);\n",
       "      fill: #174EA6;\n",
       "    }\n",
       "\n",
       "    [theme=dark] .colab-df-convert {\n",
       "      background-color: #3B4455;\n",
       "      fill: #D2E3FC;\n",
       "    }\n",
       "\n",
       "    [theme=dark] .colab-df-convert:hover {\n",
       "      background-color: #434B5C;\n",
       "      box-shadow: 0px 1px 3px 1px rgba(0, 0, 0, 0.15);\n",
       "      filter: drop-shadow(0px 1px 2px rgba(0, 0, 0, 0.3));\n",
       "      fill: #FFFFFF;\n",
       "    }\n",
       "  </style>\n",
       "\n",
       "      <script>\n",
       "        const buttonEl =\n",
       "          document.querySelector('#df-7e838f0e-ffa6-463e-9eda-c5eefe93cbdb button.colab-df-convert');\n",
       "        buttonEl.style.display =\n",
       "          google.colab.kernel.accessAllowed ? 'block' : 'none';\n",
       "\n",
       "        async function convertToInteractive(key) {\n",
       "          const element = document.querySelector('#df-7e838f0e-ffa6-463e-9eda-c5eefe93cbdb');\n",
       "          const dataTable =\n",
       "            await google.colab.kernel.invokeFunction('convertToInteractive',\n",
       "                                                     [key], {});\n",
       "          if (!dataTable) return;\n",
       "\n",
       "          const docLinkHtml = 'Like what you see? Visit the ' +\n",
       "            '<a target=\"_blank\" href=https://colab.research.google.com/notebooks/data_table.ipynb>data table notebook</a>'\n",
       "            + ' to learn more about interactive tables.';\n",
       "          element.innerHTML = '';\n",
       "          dataTable['output_type'] = 'display_data';\n",
       "          await google.colab.output.renderOutput(dataTable, element);\n",
       "          const docLink = document.createElement('div');\n",
       "          docLink.innerHTML = docLinkHtml;\n",
       "          element.appendChild(docLink);\n",
       "        }\n",
       "      </script>\n",
       "    </div>\n",
       "  </div>\n",
       "  "
      ],
      "text/plain": [
       "   검색키워드                                    이미지파일명  \\\n",
       "0  펫스타그램  af37feb6-2166-440a-9612-917e5bd32e99.jpg   \n",
       "2  펫스타그램  b5500161-a207-4213-801b-396f4d1ef3eb.jpg   \n",
       "3  펫스타그램  d1697f81-06a1-4a8a-a5fa-1a764b28066a.jpg   \n",
       "4  펫스타그램  5d6b1c34-0fda-4b69-8b52-157424878611.jpg   \n",
       "5  펫스타그램  6cd5c4eb-fb8f-4e5e-897e-556e43e956de.jpg   \n",
       "\n",
       "                                                파일경로    좋아요  \\\n",
       "0  image/펫스타그램/af37feb6-2166-440a-9612-917e5bd32e...   2438   \n",
       "2  image/펫스타그램/b5500161-a207-4213-801b-396f4d1ef3...  50285   \n",
       "3  image/펫스타그램/d1697f81-06a1-4a8a-a5fa-1a764b2806...    136   \n",
       "4  image/펫스타그램/5d6b1c34-0fda-4b69-8b52-1574248786...  28508   \n",
       "5  image/펫스타그램/6cd5c4eb-fb8f-4e5e-897e-556e43e956...    708   \n",
       "\n",
       "                                                해시태그  이미지한개  \\\n",
       "0  [#pom, #멍스타그램, #pomeranian, #포메, #pet, #강아지모델,...  False   \n",
       "2  [#쁘띠아랑, #팜므파탈백돼지걸, #반려견, #わんちゃん, #lovedogs🐶, #...  False   \n",
       "3  [#petstagram, #l4l, #비숑프리제, #cutedog, #댕댕이, #제...  False   \n",
       "4  [#makji, #pet, #캣스타그램, #kitten, #반려묘, #무지, #mu...  False   \n",
       "5  [#멍스타그램, #イヌスタグラム, #多頭飼い, #shihtzu, #シーズー, #シー...  False   \n",
       "\n",
       "                                     게시글url  \\\n",
       "0  https://www.instagram.com/p/Ccg47zap-EJ/   \n",
       "2  https://www.instagram.com/p/Ccfd5SOpL2W/   \n",
       "3  https://www.instagram.com/p/CcfPqzNJvRb/   \n",
       "4  https://www.instagram.com/p/CchmY14LZKL/   \n",
       "5  https://www.instagram.com/p/CciXAi0rcR0/   \n",
       "\n",
       "                                              이미지url 메인키워드   광고여부   확인여부  \\\n",
       "0  https://scontent-gmp1-1.cdninstagram.com/v/t51...  반려동물  False  False   \n",
       "2  https://scontent-gmp1-1.cdninstagram.com/v/t51...  반려동물  False  False   \n",
       "3  https://scontent-gmp1-1.cdninstagram.com/v/t51...  반려동물  False  False   \n",
       "4  https://scontent-gmp1-1.cdninstagram.com/v/t51...  반려동물  False  False   \n",
       "5  https://scontent-gmp1-1.cdninstagram.com/v/t51...  반려동물  False  False   \n",
       "\n",
       "    삭제여부  \n",
       "0  False  \n",
       "2  False  \n",
       "3  False  \n",
       "4  False  \n",
       "5  False  "
      ]
     },
     "execution_count": 5,
     "metadata": {},
     "output_type": "execute_result"
    }
   ],
   "source": [
    "hashtag_metadata=joblib.load('preprocessed/dataframe/last_df.pkl')"
   ]
  },
  {
   "cell_type": "code",
   "execution_count": null,
   "metadata": {
    "id": "KiHqk75e5vDT"
   },
   "outputs": [],
   "source": [
    "pd.DataFrame.reset_index(hashtag_metadata, drop=True, inplace=True)"
   ]
  },
  {
   "cell_type": "code",
   "execution_count": null,
   "metadata": {
    "id": "oneoj0FG5yrF"
   },
   "outputs": [],
   "source": [
    "# hashtag_metadata의 hashtags열에서 '#'으로 시작하는 해시태그만 저장\n",
    "hashtag_metadata['해시태그'] = hashtag_metadata['해시태그'].apply(\n",
    "    lambda hashtag_list: [h for h in hashtag_list if h.startswith('#')])\n",
    "\n",
    "# 2중 리스트를 flatten하게 만들어 모든 해시태그들을 담은 1차원 리스트 생성\n",
    "all_hashtags = [hashtag for hashtags in hashtag_metadata['해시태그'] for hashtag in hashtags]\n",
    "\n",
    "# 중복 항목을 제거하기 위해 집합으로 변경하고 다시 리스트로 변경 후 정렬\n",
    "all_hashtags = sorted(list(set(all_hashtags)))\n",
    "\n",
    "# hashtag 이름마다 번호를 매기기 위해 lookup 생성\n",
    "hashtag_lookup = {hashtag: i for i, hashtag in enumerate(all_hashtags)}"
   ]
  },
  {
   "cell_type": "code",
   "execution_count": null,
   "metadata": {
    "id": "0xhtJXs35-iU"
   },
   "outputs": [],
   "source": [
    "hashtag_rec_data = []\n",
    "for i in hashtag_metadata.index:\n",
    "    hashtag_list = hashtag_metadata.loc[i, '해시태그']\n",
    "    for hashtag in hashtag_list:\n",
    "        hashtag_rec_data.append(\n",
    "            {'image_id': i, # hashtag_metadata의 해당 index 번호를 image_id로 부여\n",
    "             'hashtag_id': hashtag_lookup[hashtag], # hashtag_lookup에 있는 해당 해시태그 번호를 hashtag_id로 부여\n",
    "             'rating': 1}\n",
    "        )\n",
    "hashtag_rec_data = pd.DataFrame(hashtag_rec_data)"
   ]
  },
  {
   "cell_type": "markdown",
   "metadata": {
    "id": "Pnkom_xi6GJq"
   },
   "source": [
    "## **dnn모델 만들기!!!!!**"
   ]
  },
  {
   "cell_type": "code",
   "execution_count": null,
   "metadata": {
    "colab": {
     "base_uri": "https://localhost:8080/"
    },
    "executionInfo": {
     "elapsed": 5681,
     "status": "ok",
     "timestamp": 1651983449428,
     "user": {
      "displayName": "강준모",
      "userId": "14855937078495325719"
     },
     "user_tz": -540
    },
    "id": "Go1OtuzG6BC0",
    "outputId": "25fbd3cb-2c58-4413-c1e1-23358c7ff8af"
   },
   "outputs": [
    {
     "name": "stdout",
     "output_type": "stream",
     "text": [
      "Downloading data from https://storage.googleapis.com/tensorflow/keras-applications/mobilenet_v2/mobilenet_v2_weights_tf_dim_ordering_tf_kernels_1.0_160_no_top.h5\n",
      "9412608/9406464 [==============================] - 0s 0us/step\n",
      "9420800/9406464 [==============================] - 0s 0us/step\n"
     ]
    }
   ],
   "source": [
    "img_shape = (160, 160, 3)\n",
    "\n",
    "# 사전 학습된 MobileNetV2 모델을 base_model로 저장\n",
    "base_model = MobileNetV2(input_shape=img_shape, include_top=False, weights='imagenet')\n",
    "# include_top: 네트워크의 최상단에 완전연결 레이어를 넣을지 여부\n",
    "# 참고로 마지막 분류 계층 (\"상단\")은 피쳐 추출에 그리 유용하지 않으므로 include_top=False를 지정해 맨 위에 분류 계층을 제외\n",
    "# weights: 'imagenet' (ImageNet에 대한 선행 학습)\n",
    "\n",
    "# tf.keras.layers.GlobalAveragePooling2D 레이어를 사용하여 피처를 이미지 당 하나의 1280 요소 벡터로 변환\n",
    "global_average_layer = tf.keras.layers.GlobalAveragePooling2D()\n",
    "\n",
    "# base_model에 global_average_layer 쌓기\n",
    "neural_network = tf.keras.Sequential([\n",
    "  base_model,\n",
    "  global_average_layer,\n",
    "])"
   ]
  },
  {
   "cell_type": "markdown",
   "metadata": {
    "id": "LTGo8qgj6joH"
   },
   "source": [
    "## **pic df 만들기!!!!!**(저장할 없음 hastags_df만들때 필요)"
   ]
  },
  {
   "cell_type": "code",
   "execution_count": null,
   "metadata": {
    "id": "bDkNaj7g8D_H"
   },
   "outputs": [],
   "source": [
    "def prepare_image(img_path, height=160, width=160):\n",
    "    # 신경망에 맞게 이미지를 다운 샘플링 및 스케일링\n",
    "    img = tf.io.read_file(img_path) # 불러(읽어)오기\n",
    "    img = tf.image.decode_jpeg(img) # [height, width, num_channels]인 3차원 배열을 반환\n",
    "    img = tf.cast(img, tf.float32) # 정수형으로 바꾼경우 소수점을 버린다 boolean일때는 True면 1, False면 0을 출력\n",
    "    img = (img/127.5) - 1\n",
    "    img = tf.image.resize(img, (height, width))\n",
    "    # 컬러 이미지의 차원에 맞게 회색조 이미지 형태변경\n",
    "    if img.shape != (160, 160, 3):\n",
    "        img = tf.concat([img, img, img], axis=2)\n",
    "    return img\n",
    "\n",
    "def extract_features(image, neural_network):\n",
    "    # input받은 이미지를 1280개의 deep feature들로 구성된 벡터로 반환\n",
    "    image_np = image.numpy() # numpy형태로 변환\n",
    "    images_np = np.expand_dims(image_np, axis=0) # 차원추가([]를 씌워준다)\n",
    "    deep_features = neural_network.predict(images_np)[0]\n",
    "    return deep_features"
   ]
  },
  {
   "cell_type": "code",
   "execution_count": null,
   "metadata": {
    "colab": {
     "base_uri": "https://localhost:8080/"
    },
    "executionInfo": {
     "elapsed": 4722683,
     "status": "ok",
     "timestamp": 1651988172106,
     "user": {
      "displayName": "강준모",
      "userId": "14855937078495325719"
     },
     "user_tz": -540
    },
    "id": "aIeTHwAz6WSy",
    "outputId": "c2837525-6098-4d08-e8d7-a1f52316cde6"
   },
   "outputs": [
    {
     "name": "stderr",
     "output_type": "stream",
     "text": [
      "7865it [1:18:42,  1.67it/s]\n"
     ]
    }
   ],
   "source": [
    "# 이미지당 딥피쳐(deep_features)를 추출하고\n",
    "# 이미지(pic), 검색키워드(hashtag),이미지 파일 이름(name), 피쳐(deep_features)를 보여주는 데이터프레임 생성\n",
    "pics = []\n",
    "\n",
    "for i, row in tqdm(hashtag_metadata.iterrows()):\n",
    "    name = row['이미지파일명']\n",
    "    hashtag = row['검색키워드']\n",
    "    img_path = f'preprocessed/image/{name}'\n",
    "    try:\n",
    "        img = prepare_image(img_path)\n",
    "        deep_features = extract_features(img, neural_network)\n",
    "        pics.append({'pic': img, \n",
    "                     'hashtag': hashtag, # main_hashtag\n",
    "                     'name': name, # image_local_name\n",
    "                     'deep_features': deep_features})\n",
    "    except Exception as e:\n",
    "        error_type = type(e).__name__\n",
    "        if error_type == \"NotFoundError\":\n",
    "            pass\n",
    "        else:\n",
    "            print(e)\n",
    "\n",
    "pics = pd.DataFrame(pics)\n",
    "pics.index = pics['name']"
   ]
  },
  {
   "cell_type": "markdown",
   "metadata": {
    "id": "mEUmblHf61bX"
   },
   "source": [
    "## **als모델 만들기**"
   ]
  },
  {
   "cell_type": "code",
   "execution_count": null,
   "metadata": {
    "id": "k72CHO5k6ozG"
   },
   "outputs": [],
   "source": [
    "spark = SparkSession.builder.master('local').appName('all').getOrCreate()\n",
    "from pyspark.sql import SparkSession\n",
    "als = ALS(userCol='image_id',\n",
    "          itemCol='hashtag_id',\n",
    "          implicitPrefs=True, # implicit dataset의 경우 True\n",
    "          alpha=40)\n",
    "als.setSeed(0)\n",
    "\n",
    "hashtag_spark_df = spark.createDataFrame(hashtag_rec_data)\n",
    "als_model = als.fit(hashtag_spark_df)\n",
    "als_model.write().overwrite().save('../save_models/als')"
   ]
  },
  {
   "cell_type": "markdown",
   "metadata": {
    "id": "As9vrJ5H7R0-"
   },
   "source": [
    "## **rec df,hashtags df 만들기**"
   ]
  },
  {
   "cell_type": "code",
   "execution_count": null,
   "metadata": {
    "colab": {
     "base_uri": "https://localhost:8080/"
    },
    "executionInfo": {
     "elapsed": 23695,
     "status": "ok",
     "timestamp": 1651988223045,
     "user": {
      "displayName": "강준모",
      "userId": "14855937078495325719"
     },
     "user_tz": -540
    },
    "id": "_v7F-xlh7QxH",
    "outputId": "5f9a1282-7b32-498d-9f27-a9b1ac0dba2e"
   },
   "outputs": [
    {
     "name": "stderr",
     "output_type": "stream",
     "text": [
      "/usr/local/lib/python3.7/dist-packages/pyspark/sql/context.py:127: FutureWarning: Deprecated in 3.0.0. Use SparkSession.builder.getOrCreate() instead.\n",
      "  FutureWarning\n"
     ]
    },
    {
     "data": {
      "text/plain": [
       "['Hashtag_Team16/save_models/hashtags_df_0508_1.pkl']"
      ]
     },
     "execution_count": 16,
     "metadata": {},
     "output_type": "execute_result"
    }
   ],
   "source": [
    "# 각 이미지마다 10개의 해시태그 생성(=추천)\n",
    "recs = als_model.recommendForAllUsers(numItems=50).toPandas()\n",
    "\n",
    "hashtag_index = list(all_hashtags)\n",
    "\n",
    "# hashtag_id로 hashtag 찾는 함수\n",
    "def lookup_hashtag(hashtag_id):\n",
    "    return hashtag_index[hashtag_id]\n",
    "\n",
    "# hashtag_id_scores에서 (hashtag_id, score)마다 hashtag_id의 hashtag 찾는 함수\n",
    "def lookup_hashtag_recs(hashtag_id_scores):\n",
    "    return [lookup_hashtag(hashtag_id) for (hashtag_id, score) in hashtag_id_scores]\n",
    "    # recommendations열에서 hashtag_id로 hashtag를 찾아 recommended_hashtags열에 저장\n",
    "recs['recommended_hashtags'] = recs['recommendations'].apply(lookup_hashtag_recs)\n",
    "\n",
    "recs.index = recs['image_id']\n",
    "\n",
    "# recs 데이터프레임을 기준으로 hashtag_metadata 데이터프레임과 병합\n",
    "recs = recs.join(hashtag_metadata, how='left')[['recommendations',\n",
    "                                                 'recommended_hashtags',\n",
    "                                                 '해시태그',\n",
    "                                                 '이미지파일명',\n",
    "                                                 '검색키워드']]\n",
    "                            \n",
    "# recommendations열 삭제\n",
    "recs.drop('recommendations', axis=1, inplace=True)\n",
    "\n",
    "# image_factors열 추가\n",
    "image_factors = als_model.userFactors.toPandas()\n",
    "image_factors.index = image_factors['id']\n",
    "recs.join(image_factors);\n",
    "\n",
    "# recs 데이터프레임과 pics 데이터프레임을 image_local_name열 기준으로 병합\n",
    "# 즉, deep_features열 추가\n",
    "recs_deep = recs.join(pics, on='이미지파일명', how='inner')\n",
    "\n",
    "# dict에서 dataframe으로 변환\n",
    "hashtags_df = pd.DataFrame.from_dict(hashtag_lookup, orient='index')\n",
    "\n",
    "hashtags_df = hashtags_df.reset_index()\n",
    "hashtags_df.columns = ['hashtag', 'id']\n",
    "hashtags_df.index = hashtags_df['id']\n",
    "hashtags_df.drop('id', axis=1, inplace=True)\n",
    "\n",
    "img_features = als_model.userFactors.toPandas()\n",
    "\n",
    "hashtag_features = als_model.itemFactors.toPandas()\n",
    "\n",
    "# recs_deep 데이터프레임에서 특정 열만 사용\n",
    "recs_deep_clean = recs_deep[['이미지파일명', '해시태그', 'deep_features']]\n",
    "\n",
    "img_features.index = img_features['id']\n",
    "img_features.drop(['id'], axis=1, inplace=True)\n",
    "\n",
    "# recs_deep_clean 데이터프레임에 img_features 추가\n",
    "recommender_df = recs_deep_clean.join(img_features, how='inner')\n",
    "\n",
    "joblib.dump(recommender_df,'../save_models/recommender_df.pkl')\n",
    "joblib.dump(hashtags_df,'../save_models/hashtags_df.pkl')"
   ]
  },
  {
   "cell_type": "code",
   "execution_count": null,
   "metadata": {
    "id": "wxwDM9K0ICSx"
   },
   "outputs": [],
   "source": []
  }
 ],
 "metadata": {
  "accelerator": "GPU",
  "colab": {
   "collapsed_sections": [],
   "machine_shape": "hm",
   "name": "make_newmodelanddf_mobilenetV2.ipynb",
   "provenance": []
  },
  "kernelspec": {
   "display_name": "Python 3 (ipykernel)",
   "language": "python",
   "name": "python3"
  },
  "language_info": {
   "codemirror_mode": {
    "name": "ipython",
    "version": 3
   },
   "file_extension": ".py",
   "mimetype": "text/x-python",
   "name": "python",
   "nbconvert_exporter": "python",
   "pygments_lexer": "ipython3",
   "version": "3.7.12"
  },
  "toc": {
   "base_numbering": 1,
   "nav_menu": {},
   "number_sections": true,
   "sideBar": true,
   "skip_h1_title": false,
   "title_cell": "Table of Contents",
   "title_sidebar": "Contents",
   "toc_cell": false,
   "toc_position": {},
   "toc_section_display": true,
   "toc_window_display": false
  },
  "varInspector": {
   "cols": {
    "lenName": 16,
    "lenType": 16,
    "lenVar": 40
   },
   "kernels_config": {
    "python": {
     "delete_cmd_postfix": "",
     "delete_cmd_prefix": "del ",
     "library": "var_list.py",
     "varRefreshCmd": "print(var_dic_list())"
    },
    "r": {
     "delete_cmd_postfix": ") ",
     "delete_cmd_prefix": "rm(",
     "library": "var_list.r",
     "varRefreshCmd": "cat(var_dic_list()) "
    }
   },
   "types_to_exclude": [
    "module",
    "function",
    "builtin_function_or_method",
    "instance",
    "_Feature"
   ],
   "window_display": false
  }
 },
 "nbformat": 4,
 "nbformat_minor": 1
}
