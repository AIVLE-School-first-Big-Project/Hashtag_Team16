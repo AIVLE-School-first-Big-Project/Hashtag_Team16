{
 "cells": [
  {
   "cell_type": "markdown",
   "id": "b1ea37fd",
   "metadata": {},
   "source": [
    "* 하나의 검색 키워드에 대해서만 자동화(어러 종류의 주제를 한번에 크롤링 할 수 있게)\n",
    "* 한개만 있는 사진만 추출\n",
    "* 게시물의 링크(혹은 작성자의 이름) - 인플루언서의 게시물이나 인플루언서를 추천하기 위해\n",
    "* 이미지 url"
   ]
  },
  {
   "cell_type": "markdown",
   "id": "6ec1f064",
   "metadata": {},
   "source": [
    "# import module"
   ]
  },
  {
   "cell_type": "code",
   "execution_count": 1,
   "id": "ec4de493",
   "metadata": {
    "ExecuteTime": {
     "end_time": "2022-04-20T11:42:42.774126Z",
     "start_time": "2022-04-20T11:42:42.160413Z"
    }
   },
   "outputs": [],
   "source": [
    "import pandas as pd\n",
    "import numpy as np\n",
    "import time\n",
    "import re\n",
    "import os\n",
    "import json\n",
    "from random import random\n",
    "from selenium.webdriver import Chrome\n",
    "from urllib.request import urlretrieve\n",
    "from uuid import uuid4\n",
    "from io import BytesIO\n",
    "\n",
    "from selenium import webdriver\n",
    "from selenium.webdriver.common.keys import Keys\n",
    "from selenium.webdriver.common.by import By\n",
    "import urllib.request\n",
    "import joblib\n",
    "from datetime import datetime"
   ]
  },
  {
   "cell_type": "code",
   "execution_count": 2,
   "id": "cf60fc85",
   "metadata": {
    "ExecuteTime": {
     "end_time": "2022-04-20T11:42:42.789637Z",
     "start_time": "2022-04-20T11:42:42.776110Z"
    }
   },
   "outputs": [],
   "source": [
    "import warnings\n",
    "warnings.filterwarnings(action='ignore') "
   ]
  },
  {
   "cell_type": "markdown",
   "id": "16b5eff4",
   "metadata": {},
   "source": [
    "# 창 띄우기"
   ]
  },
  {
   "cell_type": "code",
   "execution_count": 3,
   "id": "1c530c9c",
   "metadata": {
    "ExecuteTime": {
     "end_time": "2022-04-20T11:42:42.804630Z",
     "start_time": "2022-04-20T11:42:42.791621Z"
    }
   },
   "outputs": [],
   "source": [
    "# from selenium import webdriver\n",
    "# from selenium.webdriver.chrome.service import Service\n",
    "# from webdriver_manager.chrome import ChromeDriverManager\n",
    "\n",
    "# def set_chrome_driver():\n",
    "#     chrome_options = webdriver.ChromeOptions()\n",
    "#     driver = webdriver.Chrome(service=Service(ChromeDriverManager().install()), options=chrome_options)\n",
    "#     return driver"
   ]
  },
  {
   "cell_type": "code",
   "execution_count": 4,
   "id": "119e5aeb",
   "metadata": {
    "ExecuteTime": {
     "end_time": "2022-04-20T11:42:42.820036Z",
     "start_time": "2022-04-20T11:42:42.807635Z"
    }
   },
   "outputs": [],
   "source": [
    "def open_browser():\n",
    "    browser = Chrome(\"chromedriver.exe\") # 입력\n",
    "    browser.get(\"https://www.instagram.com/accounts/login/?hl=ko&source=auth_switcher\")\n",
    "    return browser"
   ]
  },
  {
   "cell_type": "markdown",
   "id": "7f8937d9",
   "metadata": {},
   "source": [
    "# Login"
   ]
  },
  {
   "cell_type": "code",
   "execution_count": 5,
   "id": "9d6b090a",
   "metadata": {
    "ExecuteTime": {
     "end_time": "2022-04-20T11:42:42.835372Z",
     "start_time": "2022-04-20T11:42:42.822039Z"
    }
   },
   "outputs": [],
   "source": [
    "def login(browser):\n",
    "    #ID=\"qoru588\" # 입력\n",
    "    #PWD=\"qoruddyd12\" # 입력\n",
    "    ID = 'mafal2011'\n",
    "    PWD = 'DGU1dgu1'\n",
    "    input_id=browser.find_element(By.XPATH,'//*[@id=\"loginForm\"]/div/div[1]/div/label/input') #아이디 입럭 객체 선택\n",
    "    input_pwd=browser.find_element(By.XPATH, '//*[@id=\"loginForm\"]/div/div[2]/div/label/input') #패스워드 입력 객체 선택\n",
    "    input_id.send_keys(ID)\n",
    "    input_pwd.send_keys(PWD)\n",
    "    time.sleep(4)\n",
    "    \n",
    "    browser.find_element(By.XPATH,'//*[@id=\"loginForm\"]/div/div[3]/button/div').click() #로그인 버튼 클릭\n",
    "    time.sleep(5)\n",
    "    \n",
    "    #browser.find_element(By.XPATH,'//*[@id=\"react-root\"]/div/div/section/main/div/div/div/div/button').click() #로그인정보 저장 나중에하기 버튼"
   ]
  },
  {
   "cell_type": "markdown",
   "id": "e5419b42",
   "metadata": {},
   "source": [
    "# 검색키워드 검색"
   ]
  },
  {
   "cell_type": "code",
   "execution_count": 6,
   "id": "3c3c2556",
   "metadata": {
    "ExecuteTime": {
     "end_time": "2022-04-20T11:42:42.849958Z",
     "start_time": "2022-04-20T11:42:42.837395Z"
    }
   },
   "outputs": [],
   "source": [
    "def search_keyword(browser, keyword):\n",
    "    url = f\"https://www.instagram.com/explore/tags/{keyword}/\"\n",
    "    browser.get(url)"
   ]
  },
  {
   "cell_type": "markdown",
   "id": "6f2d0403",
   "metadata": {},
   "source": [
    "# 첫번째 게시글 오픈"
   ]
  },
  {
   "cell_type": "code",
   "execution_count": 7,
   "id": "5b74fbe2",
   "metadata": {
    "ExecuteTime": {
     "end_time": "2022-04-20T11:42:42.865538Z",
     "start_time": "2022-04-20T11:42:42.851601Z"
    }
   },
   "outputs": [],
   "source": [
    "def open_first_post(browser):\n",
    "    first_post = browser.find_elements_by_class_name(\"_9AhH0\")[0]\n",
    "    print(type(first_post))\n",
    "    print(first_post)\n",
    "    browser.execute_script(\"arguments[0].click();\",first_post)"
   ]
  },
  {
   "cell_type": "markdown",
   "id": "9e84b847",
   "metadata": {},
   "source": [
    "# 좋아요 출력(넘기면서 반복)"
   ]
  },
  {
   "cell_type": "code",
   "execution_count": 8,
   "id": "c5402c5e",
   "metadata": {
    "ExecuteTime": {
     "end_time": "2022-04-20T11:42:42.880743Z",
     "start_time": "2022-04-20T11:42:42.868728Z"
    }
   },
   "outputs": [],
   "source": [
    "def get_likes(browser):\n",
    "    try:\n",
    "        like = browser.find_element_by_xpath('/html/body/div[6]/div[3]/div/article/div/div[2]/div/div/div[2]/section[2]/div/div/div/a/div/span')\n",
    "        like = like.text.replace(',', '')\n",
    "        likes = int(like)\n",
    "        return likes\n",
    "    except Exception as ex:\n",
    "        print(\"get_likes 에러발생\", ex)\n",
    "        return 0"
   ]
  },
  {
   "cell_type": "markdown",
   "id": "4230b323",
   "metadata": {},
   "source": [
    "# 게시글 URL"
   ]
  },
  {
   "cell_type": "code",
   "execution_count": 9,
   "id": "48fde82a",
   "metadata": {
    "ExecuteTime": {
     "end_time": "2022-04-20T11:42:42.895734Z",
     "start_time": "2022-04-20T11:42:42.881730Z"
    }
   },
   "outputs": [],
   "source": [
    "def get_post_url(browser):\n",
    "    return browser.current_url"
   ]
  },
  {
   "cell_type": "markdown",
   "id": "e19d1ad2",
   "metadata": {},
   "source": [
    "# 이미지 URL, 파일명 출력(넘기면서 반복)"
   ]
  },
  {
   "cell_type": "markdown",
   "id": "30154e63",
   "metadata": {},
   "source": [
    "* https://mizykk.tistory.com/55\n",
    "* openCV를 이용해서 이미지 중복을 처리할 수 있을 듯."
   ]
  },
  {
   "cell_type": "code",
   "execution_count": 10,
   "id": "36790afb",
   "metadata": {
    "ExecuteTime": {
     "end_time": "2022-04-20T11:42:42.910737Z",
     "start_time": "2022-04-20T11:42:42.897734Z"
    }
   },
   "outputs": [
    {
     "data": {
      "text/plain": [
       "'\\n# 앞-현재-뒤 이렇게 컨텐츠가 넘어옴\\nimg = browser.find_element_by_class_name(\"RnEpo\")\\nimg = img.find_elements_by_class_name(\\'KL4Bh\\') # 동영상이면 \\nimg_url = img[0].find_element_by_tag_name(\\'img\\').get_attribute(\"src\") #동영상이면 list index out of range 에러뜸\\nimg_url\\n'"
      ]
     },
     "execution_count": 10,
     "metadata": {},
     "output_type": "execute_result"
    }
   ],
   "source": [
    "'''\n",
    "# 앞-현재-뒤 이렇게 컨텐츠가 넘어옴\n",
    "img = browser.find_element_by_class_name(\"RnEpo\")\n",
    "img = img.find_elements_by_class_name('KL4Bh') # 동영상이면 \n",
    "img_url = img[0].find_element_by_tag_name('img').get_attribute(\"src\") #동영상이면 list index out of range 에러뜸\n",
    "img_url\n",
    "'''"
   ]
  },
  {
   "cell_type": "code",
   "execution_count": 11,
   "id": "f455add1",
   "metadata": {
    "ExecuteTime": {
     "end_time": "2022-04-20T11:42:42.925755Z",
     "start_time": "2022-04-20T11:42:42.912745Z"
    }
   },
   "outputs": [],
   "source": [
    "def get_image_url(browser, keyword):\n",
    "    try:\n",
    "        #img = browser.find_elements_by_class_name(\"KL4Bh\") #이렇게 되면 마지막 놈이 뜸. 동영상은 처리 못함.\n",
    "        img = browser.find_element_by_class_name(\"RnEpo\")\n",
    "        img = img.find_elements_by_class_name('KL4Bh') # 동영상이면 안뜸.\n",
    "        #img_url = img[-1].find_element_by_css_selector(\"article img\").get_attribute(\"src\")\n",
    "        img_url = img[0].find_element_by_tag_name('img').get_attribute(\"src\")\n",
    "\n",
    "        uuid =uuid4() #유일한 이름 할당. 중복\n",
    "        #urlretrieve(img_url, f\"data/{keyword}/{uuid}.jpg\") #이건 다운로드\n",
    "        img_name = f\"{uuid}.jpg\"\n",
    "        return img_url, img_name\n",
    "    \n",
    "    except Exception as ex:\n",
    "        #에러가 발생하면 img_name이 \"NaN\"으로 출력됨.\n",
    "        print(\"get_image 에러발생\", ex)\n",
    "        return \"NaN\", \"NaN\""
   ]
  },
  {
   "cell_type": "markdown",
   "id": "285bc9a3",
   "metadata": {},
   "source": [
    "# 이미지 저장(넘기면서 반복)"
   ]
  },
  {
   "cell_type": "code",
   "execution_count": 12,
   "id": "f2d3b8b2",
   "metadata": {
    "ExecuteTime": {
     "end_time": "2022-04-20T11:42:42.940751Z",
     "start_time": "2022-04-20T11:42:42.926740Z"
    }
   },
   "outputs": [],
   "source": [
    "def save_image(browser, img_url, keyword, img_name):\n",
    "    if img_url == 'NaN':\n",
    "        return 'NaN'\n",
    "    else:\n",
    "        save_path = f\"image/{keyword}/{img_name}\"\n",
    "        urlretrieve(img_url, save_path)\n",
    "        print(f\"{save_path}에 저장완료\")\n",
    "        return save_path"
   ]
  },
  {
   "cell_type": "markdown",
   "id": "75b3f626",
   "metadata": {},
   "source": [
    "# 댓글 더보기버튼(+) 있는지 확인하고 있으면 누르기(기본 3회 반복)"
   ]
  },
  {
   "cell_type": "markdown",
   "id": "9c8f358e",
   "metadata": {},
   "source": [
    "* 너무 많으면 그냥 생략하자..."
   ]
  },
  {
   "cell_type": "code",
   "execution_count": 13,
   "id": "ac24de42",
   "metadata": {
    "ExecuteTime": {
     "end_time": "2022-04-20T11:42:42.955782Z",
     "start_time": "2022-04-20T11:42:42.941752Z"
    }
   },
   "outputs": [],
   "source": [
    "def more_comment(browser, click_count=3):\n",
    "    for i in range(click_count):\n",
    "        try:\n",
    "            browser.find_element_by_xpath('/html/body/div[6]/div[3]/div/article/div/div[2]/div/div/div[2]/div[1]/ul/li/div/button').click()\n",
    "            time.sleep(5)\n",
    "        except:\n",
    "            break"
   ]
  },
  {
   "cell_type": "markdown",
   "id": "34a96e8e",
   "metadata": {},
   "source": [
    "# 대댓글 더보기 펼치기"
   ]
  },
  {
   "cell_type": "markdown",
   "id": "9f74e7c9",
   "metadata": {},
   "source": [
    "## 가장 오래된 댓글의 더보기만 다 펼쳐"
   ]
  },
  {
   "cell_type": "code",
   "execution_count": 14,
   "id": "897df25e",
   "metadata": {
    "ExecuteTime": {
     "end_time": "2022-04-20T11:42:42.970819Z",
     "start_time": "2022-04-20T11:42:42.957782Z"
    }
   },
   "outputs": [],
   "source": [
    "# def click_more_incoment(browser):\n",
    "#     # 맨 마지막 댓글 선택. 맨 마지막 댓글에 '답글 보기'가 없을 수 있기 때문임.\n",
    "#     try: #댓글들이 있는 경우\n",
    "#         while True:\n",
    "#             last_comment = browser.find_elements_by_class_name(\"Mr508\")[-1]\n",
    "#             more_incomment_button = last_comment.find_element_by_class_name('EizgU')\n",
    "#             if more_incomment_button.text[:5] == '답글 보기':\n",
    "#                 more_incomment_button.click()\n",
    "#                 time.sleep(4)\n",
    "#             else:\n",
    "#                 break\n",
    "#     except: #댓글들이 없거나, 대댓글이 없는 경우\n",
    "#         pass"
   ]
  },
  {
   "cell_type": "markdown",
   "id": "ae6c07e6",
   "metadata": {},
   "source": [
    "## 전부 펼쳐"
   ]
  },
  {
   "cell_type": "code",
   "execution_count": 15,
   "id": "b2f0fc07",
   "metadata": {
    "ExecuteTime": {
     "end_time": "2022-04-20T11:42:42.985838Z",
     "start_time": "2022-04-20T11:42:42.972820Z"
    }
   },
   "outputs": [],
   "source": [
    "def click_more_incoment(browser):\n",
    "    # 맨 마지막 댓글 선택. 맨 마지막 댓글에 '답글 보기'가 없을 수 있기 때문임.\n",
    "    for element in browser.find_elements_by_class_name(\"Mr508\"):\n",
    "        try: #댓글들이 있는 경우\n",
    "            while True:\n",
    "                last_comment = element\n",
    "                more_incomment_button = last_comment.find_element_by_class_name('EizgU')\n",
    "                if more_incomment_button.text[:5] == '답글 보기':\n",
    "                    more_incomment_button.click()\n",
    "                    time.sleep(3)\n",
    "                else:\n",
    "                    break\n",
    "        except: #댓글들이 없거나, 대댓글이 없는 경우\n",
    "            pass"
   ]
  },
  {
   "cell_type": "markdown",
   "id": "7cea641f",
   "metadata": {},
   "source": [
    "# 해시태그 출력(NaN 확인 필요) (넘기면서 반복)"
   ]
  },
  {
   "cell_type": "code",
   "execution_count": 16,
   "id": "0af1df8e",
   "metadata": {
    "ExecuteTime": {
     "end_time": "2022-04-20T11:42:43.000826Z",
     "start_time": "2022-04-20T11:42:42.987830Z"
    }
   },
   "outputs": [],
   "source": [
    "def get_hashtag(browser):\n",
    "    components = browser.find_elements_by_class_name(\"xil3i\")\n",
    "    #components = browser.find_elements(By.CSS_SELECTOR, \"xil3i\") #안되는건가?\n",
    "    if len(components) != 0:\n",
    "        \n",
    "        try:\n",
    "            all_hashtags = [component.text for component in components]\n",
    "            if len(all_hashtags) > 0: #해시태그가 없으면 빈 리스트 출력\n",
    "                return list(set(all_hashtags))\n",
    "            else:\n",
    "                return []\n",
    "        \n",
    "        except Exception as ex:\n",
    "            print(\"get_hashtag 에러발생\", ex)\n",
    "            return []"
   ]
  },
  {
   "cell_type": "markdown",
   "id": "8e0ec7d6",
   "metadata": {},
   "source": [
    "# 이미지 여러장인지 확인(넘기면서 반복)"
   ]
  },
  {
   "cell_type": "code",
   "execution_count": 17,
   "id": "c767b241",
   "metadata": {
    "ExecuteTime": {
     "end_time": "2022-04-20T11:42:43.015845Z",
     "start_time": "2022-04-20T11:42:43.002827Z"
    }
   },
   "outputs": [],
   "source": [
    "def check_one_img(browser):\n",
    "    try:\n",
    "        browser.find_element_by_class_name('_6CZji')\n",
    "        return False\n",
    "    except:\n",
    "        return True"
   ]
  },
  {
   "cell_type": "markdown",
   "id": "ddf34ef1",
   "metadata": {},
   "source": [
    "# 데이터프레임으로 출력&이미지 저장(넘기면서 반복)"
   ]
  },
  {
   "cell_type": "markdown",
   "id": "7ffd5192",
   "metadata": {},
   "source": [
    "| 검색키워드 | 이미지파일명 | 좋아요 | 해시태그 |\n",
    "| --- | --- | --- | --- |\n",
    "| 음식스타그램 | asdiim23mmfs.jpg | 좋아요 | #tag1 #tag2 ... |\n",
    "\n",
    "이런식으로 하면 될라나"
   ]
  },
  {
   "cell_type": "code",
   "execution_count": 18,
   "id": "ae1edec4",
   "metadata": {
    "ExecuteTime": {
     "end_time": "2022-04-20T11:42:43.030841Z",
     "start_time": "2022-04-20T11:42:43.017830Z"
    }
   },
   "outputs": [],
   "source": [
    "def make_df(browser, keyword):\n",
    "    # 오류가 뜰 때를 위한 변수의 default 설정.\n",
    "    likes, img_name, file_path, hashtags, one_img = 0, 'NaN', 'NaN', [], 'NaN'\n",
    "    post_url, img_url = 'NaN', 'NaN'\n",
    "    \n",
    "    try:\n",
    "        # 현재페이지의 #\n",
    "        #0. 게시물의 url가져오기\n",
    "        post_url = get_post_url(browser)\n",
    "        #1. 좋아요 가져오기\n",
    "        likes = get_likes(browser)\n",
    "        #2. 이미지 파일명 가져오기\n",
    "        img_url, img_name = get_image_url(browser, keyword)\n",
    "        \n",
    "        #3. 이미지 저장하기\n",
    "        file_path = save_image(browser, img_url, keyword, img_name)\n",
    "        #4. 해시태그 가져오기\n",
    "        hashtags = get_hashtag(browser)\n",
    "        #5. 이미지 1개인지 체크\n",
    "        one_img = check_one_img(browser)\n",
    "        \n",
    "        \n",
    "        #6. 한 행의 데이터프레임 생성\n",
    "        df = pd.DataFrame([[keyword, img_name, file_path, likes, hashtags, one_img,\n",
    "                           post_url, img_url]],\n",
    "                         columns=['검색키워드', '이미지파일명', '파일경로', '좋아요', '해시태그', '이미지한개',\n",
    "                                 '게시글url', '이미지url'])\n",
    "    \n",
    "    except Exception as ex:\n",
    "        print(\"make_df 에러발생\", ex)\n",
    "        df = pd.DataFrame([[keyword, img_name, file_path, likes, hashtags, one_img,\n",
    "                           post_url, img_url]],\n",
    "                         columns=['검색키워드', '이미지파일명', '파일경로', '좋아요', '해시태그', '이미지한개',\n",
    "                                 '게시글url', '이미지url'])\n",
    "        \n",
    "    return df"
   ]
  },
  {
   "cell_type": "markdown",
   "id": "06f9b25a",
   "metadata": {},
   "source": [
    "# 페이지 넘기기"
   ]
  },
  {
   "cell_type": "code",
   "execution_count": 19,
   "id": "925aada9",
   "metadata": {
    "ExecuteTime": {
     "end_time": "2022-04-20T11:42:43.045843Z",
     "start_time": "2022-04-20T11:42:43.031840Z"
    }
   },
   "outputs": [],
   "source": [
    "def next_page(browser):\n",
    "    next_buttons = browser.find_elements_by_xpath('/html/body/div[6]/div[2]/div/div')\n",
    "    if len(next_buttons) == 2:\n",
    "        next_button = next_buttons[1]\n",
    "    else:\n",
    "        next_button = next_buttons[0]\n",
    "    next_button.click()"
   ]
  },
  {
   "cell_type": "markdown",
   "id": "5bbc866a",
   "metadata": {},
   "source": [
    "# 디렉토리 생성"
   ]
  },
  {
   "cell_type": "code",
   "execution_count": 20,
   "id": "548c06d8",
   "metadata": {
    "ExecuteTime": {
     "end_time": "2022-04-20T11:42:43.060841Z",
     "start_time": "2022-04-20T11:42:43.047839Z"
    }
   },
   "outputs": [],
   "source": [
    "def make_dir(keyword):\n",
    "    try:\n",
    "        os.makedirs(f\"image/{keyword}\")\n",
    "    except OSError:\n",
    "        print(f'image/{keyword} 경로가 존재합니다.')\n",
    "        pass"
   ]
  },
  {
   "cell_type": "markdown",
   "id": "cf606269",
   "metadata": {},
   "source": [
    "# 자동실행(처음)"
   ]
  },
  {
   "cell_type": "code",
   "execution_count": 21,
   "id": "2e203ce2",
   "metadata": {
    "ExecuteTime": {
     "end_time": "2022-04-20T11:42:43.075842Z",
     "start_time": "2022-04-20T11:42:43.063840Z"
    }
   },
   "outputs": [],
   "source": [
    "def auto_run(keyword, num_post):\n",
    "    #1. 디렉토리 생성\n",
    "    make_dir(keyword)\n",
    "    \n",
    "    #2. 브라우저 열고 로그인하기\n",
    "    browser = open_browser()\n",
    "    time.sleep(2)\n",
    "    login(browser)\n",
    "    time.sleep(3)\n",
    "    \n",
    "    #3. 검색키워드 입력 후 페이지 전환\n",
    "    search_keyword(browser, keyword)\n",
    "    time.sleep(10) #첫 검색은 상당히 오래걸릴 수 있음.\n",
    "    \n",
    "    #4. 첫번째 게시글 열기\n",
    "    open_first_post(browser)\n",
    "    time.sleep(5 + (random() * 5))\n",
    "    \n",
    "    #### 여기서 반복 ####\n",
    "    total_df_LS = []\n",
    "    for i in range(num_post):\n",
    "        #5-1. 댓글 더보기 3회 누르기\n",
    "        more_comment(browser)\n",
    "        time.sleep(3 + (random() * 2))\n",
    "        #5-2. 마지막 댓글의 답글보기 계속 누르기\n",
    "        click_more_incoment(browser)\n",
    "        time.sleep(3 + (random() * 2))\n",
    "        #5-3. 데이터프레임으로 출력 및 이미지 저장\n",
    "        one_row_hashtag_df = make_df(browser, keyword)\n",
    "        #5-4. 리스트에 저장\n",
    "        total_df_LS.append(one_row_hashtag_df)\n",
    "        #5-5. 다음페이지로 이동\n",
    "        next_page(browser)\n",
    "        time.sleep(3 + (random() * 5))\n",
    "        if (i+1)%10 == 0:\n",
    "            print(f'{i+1}번째 까지 게시글이 스크랩 완료되었습니다.')\n",
    "            \n",
    "    #6. 하나의 데이터프레임으로 병합\n",
    "    total_df = pd.concat(total_df_LS, axis=0)\n",
    "    total_df.reset_index(inplace=True, drop=True)\n",
    "    \n",
    "    return total_df, browser"
   ]
  },
  {
   "cell_type": "code",
   "execution_count": 22,
   "id": "75359cbf",
   "metadata": {
    "ExecuteTime": {
     "end_time": "2022-04-20T11:42:43.090846Z",
     "start_time": "2022-04-20T11:42:43.077851Z"
    },
    "scrolled": true
   },
   "outputs": [
    {
     "data": {
      "text/plain": [
       "\"total_df, browser = auto_run('음식스타그램', 5)\""
      ]
     },
     "execution_count": 22,
     "metadata": {},
     "output_type": "execute_result"
    }
   ],
   "source": [
    "'''total_df, browser = auto_run('음식스타그램', 5)'''"
   ]
  },
  {
   "cell_type": "code",
   "execution_count": 23,
   "id": "d4ee4904",
   "metadata": {
    "ExecuteTime": {
     "end_time": "2022-04-20T11:42:43.105851Z",
     "start_time": "2022-04-20T11:42:43.091848Z"
    }
   },
   "outputs": [
    {
     "data": {
      "text/plain": [
       "'total_df'"
      ]
     },
     "execution_count": 23,
     "metadata": {},
     "output_type": "execute_result"
    }
   ],
   "source": [
    "'''total_df'''"
   ]
  },
  {
   "cell_type": "markdown",
   "id": "07dc4794",
   "metadata": {},
   "source": [
    "# 데이터프레임 저장"
   ]
  },
  {
   "cell_type": "markdown",
   "id": "51fa1880",
   "metadata": {},
   "source": [
    "## 데이터 프레임 디렉토리 생성"
   ]
  },
  {
   "cell_type": "code",
   "execution_count": 24,
   "id": "8e33abd0",
   "metadata": {
    "ExecuteTime": {
     "end_time": "2022-04-20T11:42:43.120855Z",
     "start_time": "2022-04-20T11:42:43.107849Z"
    }
   },
   "outputs": [],
   "source": [
    "def make_dir2(keyword):\n",
    "    try:\n",
    "        os.makedirs(f\"data/{keyword}\")\n",
    "    except OSError:\n",
    "        print(f'data/{keyword} 경로가 존재합니다.')\n",
    "        pass"
   ]
  },
  {
   "cell_type": "markdown",
   "id": "9927ba17",
   "metadata": {},
   "source": [
    "## 데이터 프레임 저장"
   ]
  },
  {
   "cell_type": "code",
   "execution_count": 25,
   "id": "9a00b4eb",
   "metadata": {
    "ExecuteTime": {
     "end_time": "2022-04-20T11:42:43.135870Z",
     "start_time": "2022-04-20T11:42:43.122854Z"
    }
   },
   "outputs": [],
   "source": [
    "def save_df(keyword, df, file_name):\n",
    "    make_dir2(keyword)\n",
    "    \n",
    "    #df.to_pickle(f\"data/{keyword}/{file_name}.pkl\")\n",
    "    df.to_csv(f\"data/{keyword}/{file_name}.csv\", encoding='utf-8')\n",
    "    joblib.dump(df, f'data/{keyword}/{file_name}.pkl')\n",
    "    print(f\"data/{keyword}/{file_name}.csv 저장완료\")"
   ]
  },
  {
   "cell_type": "code",
   "execution_count": 26,
   "id": "39322081",
   "metadata": {
    "ExecuteTime": {
     "end_time": "2022-04-20T11:42:43.150867Z",
     "start_time": "2022-04-20T11:42:43.137864Z"
    }
   },
   "outputs": [
    {
     "data": {
      "text/plain": [
       "\"save_df('음식스타그램', total_df, '음식스타그램1')\""
      ]
     },
     "execution_count": 26,
     "metadata": {},
     "output_type": "execute_result"
    }
   ],
   "source": [
    "'''save_df('음식스타그램', total_df, '음식스타그램1')'''"
   ]
  },
  {
   "cell_type": "markdown",
   "id": "1a0828f9",
   "metadata": {},
   "source": [
    "# 실험용 코드(실행X)"
   ]
  },
  {
   "cell_type": "code",
   "execution_count": 27,
   "id": "dffa2f2e",
   "metadata": {
    "ExecuteTime": {
     "end_time": "2022-04-20T11:42:43.165865Z",
     "start_time": "2022-04-20T11:42:43.151875Z"
    }
   },
   "outputs": [
    {
     "data": {
      "text/plain": [
       "\"make_dir('음식스타그램')\\n\\n#2. 브라우저 열고 로그인하기\\nbrowser = open_browser()\\ntime.sleep(2)\\nlogin(browser)\\ntime.sleep(3)\\n\\n#3. 검색키워드 입력 후 페이지 전환\\nsearch_keyword(browser, '음식스타그램')\\ntime.sleep(10) #첫 검색은 상당히 오래걸릴 수 있음.\\n\\n#4. 첫번째 게시글 열기\\nopen_first_post(browser)\\ntime.sleep(5 + (random() * 5))\""
      ]
     },
     "execution_count": 27,
     "metadata": {},
     "output_type": "execute_result"
    }
   ],
   "source": [
    "'''make_dir('음식스타그램')\n",
    "\n",
    "#2. 브라우저 열고 로그인하기\n",
    "browser = open_browser()\n",
    "time.sleep(2)\n",
    "login(browser)\n",
    "time.sleep(3)\n",
    "\n",
    "#3. 검색키워드 입력 후 페이지 전환\n",
    "search_keyword(browser, '음식스타그램')\n",
    "time.sleep(10) #첫 검색은 상당히 오래걸릴 수 있음.\n",
    "\n",
    "#4. 첫번째 게시글 열기\n",
    "open_first_post(browser)\n",
    "time.sleep(5 + (random() * 5))'''"
   ]
  },
  {
   "cell_type": "markdown",
   "id": "4087978a",
   "metadata": {},
   "source": [
    "# 분할 실행(한번에 n개 가져오기, k번 실행)"
   ]
  },
  {
   "cell_type": "code",
   "execution_count": 28,
   "id": "c44bf964",
   "metadata": {
    "ExecuteTime": {
     "end_time": "2022-04-20T11:42:43.180868Z",
     "start_time": "2022-04-20T11:42:43.169871Z"
    }
   },
   "outputs": [],
   "source": [
    "def auto_run_repeat(keyword, num_post, num_repeat):\n",
    "    #1. 디렉토리 생성\n",
    "    make_dir(keyword)\n",
    "    \n",
    "    #2. 브라우저 열고 로그인하기\n",
    "    browser = open_browser()\n",
    "    time.sleep(2)\n",
    "    login(browser)\n",
    "    time.sleep(3)\n",
    "    \n",
    "    #3. 검색키워드 입력 후 페이지 전환\n",
    "    search_keyword(browser, keyword)\n",
    "    time.sleep(10) #첫 검색은 상당히 오래걸릴 수 있음.\n",
    "    \n",
    "    #4. 첫번째 게시글 열기\n",
    "    open_first_post(browser)\n",
    "    time.sleep(5 + (random() * 5))\n",
    "    \n",
    "    #### 여기서 반복 ####\n",
    "    for n in range(num_repeat):\n",
    "        print(f'======={n+1}========')\n",
    "        total_df_LS = []\n",
    "        for i in range(num_post):\n",
    "            #5-1. 댓글 더보기 3회 누르기\n",
    "            more_comment(browser)\n",
    "            time.sleep(3 + (random() * 2))\n",
    "            #5-2. 마지막 댓글의 답글보기 계속 누르기\n",
    "            click_more_incoment(browser)\n",
    "            time.sleep(3 + (random() * 2))\n",
    "            #5-3. 데이터프레임으로 출력 및 이미지 저장\n",
    "            one_row_hashtag_df = make_df(browser, keyword)\n",
    "            #5-4. 리스트에 저장\n",
    "            total_df_LS.append(one_row_hashtag_df)\n",
    "            #5-5. 다음페이지로 이동\n",
    "            next_page(browser)\n",
    "            time.sleep(3 + (random() * 5))\n",
    "            if (i+1)%10 == 0:\n",
    "                print(f'{i+1}번째 까지 게시글이 스크랩 완료되었습니다.')\n",
    "\n",
    "        #6. 하나의 데이터프레임으로 병합\n",
    "        total_df = pd.concat(total_df_LS, axis=0)\n",
    "        total_df.reset_index(inplace=True, drop=True)\n",
    "\n",
    "        #7. 데이터프레임 저장\n",
    "        now = datetime.now()\n",
    "        save_df(keyword, total_df, f'{keyword}_{now.month:02d}{now.day:02d}{now.hour:02d}{now.minute:02d}{now.second:02d}')\n",
    "    browser.quit()\n",
    "    time.sleep(2)"
   ]
  },
  {
   "cell_type": "markdown",
   "id": "aa8a9675",
   "metadata": {},
   "source": [
    "# 여기서 크롤러 실행하시오!!!"
   ]
  },
  {
   "cell_type": "code",
   "execution_count": null,
   "id": "707b39c4",
   "metadata": {
    "ExecuteTime": {
     "start_time": "2022-04-20T11:42:42.220Z"
    }
   },
   "outputs": [
    {
     "name": "stdout",
     "output_type": "stream",
     "text": [
      "image/펫스타그램 경로가 존재합니다.\n",
      "<class 'selenium.webdriver.remote.webelement.WebElement'>\n",
      "<selenium.webdriver.remote.webelement.WebElement (session=\"0277c56e3a9e0d59fe0bb95daf973e00\", element=\"5090e06b-820d-4f15-8255-15ded56af28c\")>\n",
      "=======1========\n",
      "image/펫스타그램/af37feb6-2166-440a-9612-917e5bd32e99.jpg에 저장완료\n",
      "image/펫스타그램/ac8fc4dc-8179-4808-b8d5-ee141f4432f5.jpg에 저장완료\n",
      "image/펫스타그램/b5500161-a207-4213-801b-396f4d1ef3eb.jpg에 저장완료\n",
      "image/펫스타그램/d1697f81-06a1-4a8a-a5fa-1a764b28066a.jpg에 저장완료\n",
      "image/펫스타그램/5d6b1c34-0fda-4b69-8b52-157424878611.jpg에 저장완료\n",
      "get_image 에러발생 list index out of range\n",
      "image/펫스타그램/6cd5c4eb-fb8f-4e5e-897e-556e43e956de.jpg에 저장완료\n",
      "image/펫스타그램/270cd9e0-475c-4ab5-b317-ab2708c75890.jpg에 저장완료\n",
      "image/펫스타그램/174d0b09-09c2-4f4f-a314-66b092dac864.jpg에 저장완료\n",
      "image/펫스타그램/787f7c35-ad03-40fa-80fd-d1e08d30bc5c.jpg에 저장완료\n",
      "10번째 까지 게시글이 스크랩 완료되었습니다.\n",
      "image/펫스타그램/079c8c18-1954-4e65-9787-d3fcebaea9ed.jpg에 저장완료\n",
      "image/펫스타그램/9d4bfe4c-95ef-4131-8a91-bb386c460b6f.jpg에 저장완료\n",
      "image/펫스타그램/56f52968-1793-4261-89d9-0011a1df730c.jpg에 저장완료\n",
      "image/펫스타그램/2fb2b80f-58f5-407b-9873-dcc047d51a18.jpg에 저장완료\n",
      "image/펫스타그램/0887c82b-61f9-49c0-b995-dad9e56ef851.jpg에 저장완료\n",
      "image/펫스타그램/f61358ff-cd96-4d38-9c91-f399e48bb1b8.jpg에 저장완료\n",
      "image/펫스타그램/d0bab29e-c826-42e7-b320-04196975546a.jpg에 저장완료\n",
      "image/펫스타그램/3c761047-0e32-4199-9389-c0191a751d42.jpg에 저장완료\n",
      "image/펫스타그램/75121159-e3d2-494e-9804-77d0bc6cc401.jpg에 저장완료\n",
      "image/펫스타그램/14521be4-e9b3-4849-bdd9-82c7cfd4a1a5.jpg에 저장완료\n",
      "20번째 까지 게시글이 스크랩 완료되었습니다.\n",
      "image/펫스타그램/1eb05683-c5fd-48b1-9896-c32dc9074b68.jpg에 저장완료\n",
      "get_likes 에러발생 Message: no such element: Unable to locate element: {\"method\":\"xpath\",\"selector\":\"/html/body/div[6]/div[3]/div/article/div/div[2]/div/div/div[2]/section[2]/div/div/div/a/div/span\"}\n",
      "  (Session info: chrome=100.0.4896.127)\n",
      "\n",
      "image/펫스타그램/8ab14b0a-1882-4d7a-9d15-4f98fce18129.jpg에 저장완료\n",
      "get_likes 에러발생 Message: no such element: Unable to locate element: {\"method\":\"xpath\",\"selector\":\"/html/body/div[6]/div[3]/div/article/div/div[2]/div/div/div[2]/section[2]/div/div/div/a/div/span\"}\n",
      "  (Session info: chrome=100.0.4896.127)\n",
      "\n",
      "get_image 에러발생 list index out of range\n",
      "get_likes 에러발생 Message: no such element: Unable to locate element: {\"method\":\"xpath\",\"selector\":\"/html/body/div[6]/div[3]/div/article/div/div[2]/div/div/div[2]/section[2]/div/div/div/a/div/span\"}\n",
      "  (Session info: chrome=100.0.4896.127)\n",
      "\n",
      "get_image 에러발생 list index out of range\n",
      "image/펫스타그램/9f822778-b2f7-42d6-bcf7-796dbc0a3c79.jpg에 저장완료\n",
      "image/펫스타그램/5be80456-9f63-41dc-b056-474a2fac93e4.jpg에 저장완료\n",
      "image/펫스타그램/1d326b86-73d7-4259-9b10-58fb0b260468.jpg에 저장완료\n",
      "get_likes 에러발생 Message: no such element: Unable to locate element: {\"method\":\"xpath\",\"selector\":\"/html/body/div[6]/div[3]/div/article/div/div[2]/div/div/div[2]/section[2]/div/div/div/a/div/span\"}\n",
      "  (Session info: chrome=100.0.4896.127)\n",
      "\n",
      "image/펫스타그램/6ccdae86-f0a4-4b3d-b3dc-6cefcdba7ade.jpg에 저장완료\n",
      "image/펫스타그램/2ddeb2fd-ee0b-4e7b-86ba-93455c7a9604.jpg에 저장완료\n",
      "image/펫스타그램/558f32c1-be28-43c6-9daa-1d34cbdf33e3.jpg에 저장완료\n",
      "30번째 까지 게시글이 스크랩 완료되었습니다.\n",
      "image/펫스타그램/57c49d11-2225-4e4f-a2ba-4e17657b708f.jpg에 저장완료\n",
      "image/펫스타그램/737b9fe2-0335-419d-8cf1-6b238af174f8.jpg에 저장완료\n",
      "image/펫스타그램/617c837a-0488-4360-9b1f-fa2facf4a405.jpg에 저장완료\n",
      "image/펫스타그램/018b312e-f053-4e05-84fc-1cfa70bfaaf7.jpg에 저장완료\n",
      "image/펫스타그램/824bd024-f47a-4306-bdbd-a0f066021c80.jpg에 저장완료\n",
      "image/펫스타그램/af44488a-dac6-4c2e-a3ac-f2090eb2124b.jpg에 저장완료\n",
      "image/펫스타그램/11b159fd-4b52-4c23-9b7d-0c20194d834f.jpg에 저장완료\n",
      "get_likes 에러발생 Message: no such element: Unable to locate element: {\"method\":\"xpath\",\"selector\":\"/html/body/div[6]/div[3]/div/article/div/div[2]/div/div/div[2]/section[2]/div/div/div/a/div/span\"}\n",
      "  (Session info: chrome=100.0.4896.127)\n",
      "\n",
      "get_image 에러발생 list index out of range\n",
      "image/펫스타그램/ee7f6913-1af6-4909-971f-3aa925eb42ba.jpg에 저장완료\n",
      "get_likes 에러발생 Message: no such element: Unable to locate element: {\"method\":\"xpath\",\"selector\":\"/html/body/div[6]/div[3]/div/article/div/div[2]/div/div/div[2]/section[2]/div/div/div/a/div/span\"}\n",
      "  (Session info: chrome=100.0.4896.127)\n",
      "\n",
      "image/펫스타그램/e2676eeb-e25c-40a3-88d9-d1167430b511.jpg에 저장완료\n",
      "40번째 까지 게시글이 스크랩 완료되었습니다.\n",
      "image/펫스타그램/34ec6338-644f-4dbf-8144-5a870c1b533e.jpg에 저장완료\n",
      "image/펫스타그램/1bc3eb74-e12c-4695-9a0f-77f4e2bd90b3.jpg에 저장완료\n",
      "image/펫스타그램/afbf876e-cbe0-497b-a5a8-3321ceeefd5c.jpg에 저장완료\n",
      "image/펫스타그램/7079cb5c-bf37-4b57-8ab8-8efcb550311d.jpg에 저장완료\n",
      "image/펫스타그램/d5513493-3208-4b4a-8d85-3326b5f9ab06.jpg에 저장완료\n",
      "image/펫스타그램/dab7332f-9146-48fc-ac29-4b7dc931eb47.jpg에 저장완료\n",
      "image/펫스타그램/e97a4cf0-18da-439d-850c-0b6b96dbe183.jpg에 저장완료\n",
      "get_likes 에러발생 Message: no such element: Unable to locate element: {\"method\":\"xpath\",\"selector\":\"/html/body/div[6]/div[3]/div/article/div/div[2]/div/div/div[2]/section[2]/div/div/div/a/div/span\"}\n",
      "  (Session info: chrome=100.0.4896.127)\n",
      "\n",
      "image/펫스타그램/8c0052e6-790a-4ed2-9ae2-06e87da71f7a.jpg에 저장완료\n",
      "image/펫스타그램/5b1265a1-881e-4a73-b1df-8726fd2e9ece.jpg에 저장완료\n",
      "image/펫스타그램/87212e85-6bd5-460a-b34d-bc44e70aacb4.jpg에 저장완료\n",
      "50번째 까지 게시글이 스크랩 완료되었습니다.\n",
      "image/펫스타그램/c4dd1659-a944-4423-a9e6-2037c7b7347d.jpg에 저장완료\n",
      "image/펫스타그램/502f7548-faaf-4a99-a617-e8d7957d4a82.jpg에 저장완료\n",
      "image/펫스타그램/f13d5f73-e4cb-4033-a26b-ed7c369bee7a.jpg에 저장완료\n",
      "image/펫스타그램/e8da0098-5663-454f-b56f-901e72a1970f.jpg에 저장완료\n",
      "image/펫스타그램/841116d3-43f9-4018-8f96-d3923f0b8f8e.jpg에 저장완료\n",
      "image/펫스타그램/85ec9b1c-b2e5-4d36-a110-488ee3b06502.jpg에 저장완료\n",
      "image/펫스타그램/c382e09c-342f-4d7e-bd0b-7229d0493423.jpg에 저장완료\n"
     ]
    }
   ],
   "source": [
    "auto_run_repeat('펫스타그램', num_post=100, num_repeat=2)\n",
    "auto_run_repeat('반려동물', num_post=100, num_repeat=2)\n",
    "\n",
    "\n",
    "auto_run_repeat('강아지', num_post=100, num_repeat=2)\n",
    "auto_run_repeat('멍스타그램', num_post=100, num_repeat=2)\n",
    "auto_run_repeat('댕댕이', num_post=100, num_repeat=2)\n",
    "auto_run_repeat('반려견', num_post=100, num_repeat=2)\n",
    "auto_run_repeat('멍멍이', num_post=100, num_repeat=2)\n",
    "\n",
    "auto_run_repeat('고양이', num_post=100, num_repeat=2)\n",
    "auto_run_repeat('냥스타그램', num_post=100, num_repeat=2)\n",
    "auto_run_repeat('개냥이', num_post=100, num_repeat=2)\n",
    "auto_run_repeat('반려묘', num_post=100, num_repeat=2)\n",
    "auto_run_repeat('집사', num_post=100, num_repeat=2)"
   ]
  },
  {
   "cell_type": "code",
   "execution_count": null,
   "id": "660619b4",
   "metadata": {
    "ExecuteTime": {
     "start_time": "2022-04-20T11:42:42.221Z"
    }
   },
   "outputs": [],
   "source": [
    "# (검색할 키워드, 1회 실행시 가져올 게시글 수, 반복 횟수)\n",
    "# auto_run_repeat('맛스타그램', num_post=5, num_repeat=2)\n",
    "# auto_run_repeat('음식스타그램', num_post=10, num_repeat=2)\n",
    "\n",
    "# auto_run_repeat('육아', num_post=100, num_repeat=2)\n",
    "# auto_run_repeat('아기스타그램', num_post=100, num_repeat=2)\n",
    "\n",
    "# auto_run_repeat('펫스타그램', num_post=100, num_repeat=2)\n",
    "# auto_run_repeat('반려동물', num_post=100, num_repeat=2)\n",
    "\n",
    "# auto_run_repeat('카페투어', num_post=100, num_repeat=2)\n",
    "# auto_run_repeat('카페탐방', num_post=100, num_repeat=2)\n",
    "\n",
    "# auto_run_repeat('얼스타그램', num_post=100, num_repeat=2)\n",
    "# auto_run_repeat('전신스타그램', num_post=100, num_repeat=2)\n",
    "\n",
    "# auto_run_repeat('북스타그램', num_post=100, num_repeat=2)\n",
    "# auto_run_repeat('독서스타그램', num_post=100, num_repeat=2)\n",
    "\n",
    "# auto_run_repeat('여행일기', num_post=100, num_repeat=2)\n",
    "# auto_run_repeat('여행추억', num_post=100, num_repeat=2)\n",
    "\n",
    "# auto_run_repeat('벌크업', num_post=100, num_repeat=1)\n",
    "# auto_run_repeat('운스타그램', num_post=10, num_repeat=1)"
   ]
  }
 ],
 "metadata": {
  "kernelspec": {
   "display_name": "Python 3 (ipykernel)",
   "language": "python",
   "name": "python3"
  },
  "language_info": {
   "codemirror_mode": {
    "name": "ipython",
    "version": 3
   },
   "file_extension": ".py",
   "mimetype": "text/x-python",
   "name": "python",
   "nbconvert_exporter": "python",
   "pygments_lexer": "ipython3",
   "version": "3.9.7"
  },
  "toc": {
   "base_numbering": 1,
   "nav_menu": {},
   "number_sections": true,
   "sideBar": true,
   "skip_h1_title": false,
   "title_cell": "Table of Contents",
   "title_sidebar": "Contents",
   "toc_cell": false,
   "toc_position": {
    "height": "calc(100% - 180px)",
    "left": "10px",
    "top": "150px",
    "width": "312.297px"
   },
   "toc_section_display": true,
   "toc_window_display": false
  },
  "varInspector": {
   "cols": {
    "lenName": 16,
    "lenType": 16,
    "lenVar": 40
   },
   "kernels_config": {
    "python": {
     "delete_cmd_postfix": "",
     "delete_cmd_prefix": "del ",
     "library": "var_list.py",
     "varRefreshCmd": "print(var_dic_list())"
    },
    "r": {
     "delete_cmd_postfix": ") ",
     "delete_cmd_prefix": "rm(",
     "library": "var_list.r",
     "varRefreshCmd": "cat(var_dic_list()) "
    }
   },
   "types_to_exclude": [
    "module",
    "function",
    "builtin_function_or_method",
    "instance",
    "_Feature"
   ],
   "window_display": false
  }
 },
 "nbformat": 4,
 "nbformat_minor": 5
}
