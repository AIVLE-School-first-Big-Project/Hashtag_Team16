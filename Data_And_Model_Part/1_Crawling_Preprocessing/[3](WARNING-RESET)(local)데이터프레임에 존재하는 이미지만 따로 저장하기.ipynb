{
 "cells": [
  {
   "cell_type": "code",
   "execution_count": 2,
   "id": "0b3cfe15",
   "metadata": {
    "ExecuteTime": {
     "end_time": "2022-05-07T05:47:21.529594Z",
     "start_time": "2022-05-07T05:47:20.657930Z"
    },
    "executionInfo": {
     "elapsed": 4,
     "status": "ok",
     "timestamp": 1650607520261,
     "user": {
      "displayName": "강준모",
      "userId": "14855937078495325719"
     },
     "user_tz": -540
    },
    "id": "0b3cfe15"
   },
   "outputs": [],
   "source": [
    "import numpy as np\n",
    "import pandas as pd\n",
    "import joblib\n",
    "import os\n",
    "from glob import glob\n",
    "import shutil\n",
    "from urllib.request import urlretrieve"
   ]
  },
  {
   "cell_type": "markdown",
   "id": "a89667e5",
   "metadata": {
    "id": "a89667e5"
   },
   "source": [
    "# 데이터프레임 가져오기"
   ]
  },
  {
   "cell_type": "code",
   "execution_count": 5,
   "id": "6821762a",
   "metadata": {
    "ExecuteTime": {
     "end_time": "2022-05-07T05:47:21.754856Z",
     "start_time": "2022-05-07T05:47:21.566077Z"
    },
    "colab": {
     "base_uri": "https://localhost:8080/",
     "height": 832
    },
    "executionInfo": {
     "elapsed": 433,
     "status": "ok",
     "timestamp": 1650603072774,
     "user": {
      "displayName": "강준모",
      "userId": "14855937078495325719"
     },
     "user_tz": -540
    },
    "id": "6821762a",
    "outputId": "c8a7ad87-0d78-4506-eb8b-12ebdd7f85e0"
   },
   "outputs": [
    {
     "data": {
      "text/html": [
       "<div>\n",
       "<style scoped>\n",
       "    .dataframe tbody tr th:only-of-type {\n",
       "        vertical-align: middle;\n",
       "    }\n",
       "\n",
       "    .dataframe tbody tr th {\n",
       "        vertical-align: top;\n",
       "    }\n",
       "\n",
       "    .dataframe thead th {\n",
       "        text-align: right;\n",
       "    }\n",
       "</style>\n",
       "<table border=\"1\" class=\"dataframe\">\n",
       "  <thead>\n",
       "    <tr style=\"text-align: right;\">\n",
       "      <th></th>\n",
       "      <th>검색키워드</th>\n",
       "      <th>이미지파일명</th>\n",
       "      <th>파일경로</th>\n",
       "      <th>좋아요</th>\n",
       "      <th>해시태그</th>\n",
       "      <th>이미지한개</th>\n",
       "      <th>게시글url</th>\n",
       "      <th>이미지url</th>\n",
       "      <th>메인키워드</th>\n",
       "    </tr>\n",
       "  </thead>\n",
       "  <tbody>\n",
       "    <tr>\n",
       "      <th>0</th>\n",
       "      <td>펫스타그램</td>\n",
       "      <td>af37feb6-2166-440a-9612-917e5bd32e99.jpg</td>\n",
       "      <td>image/펫스타그램/af37feb6-2166-440a-9612-917e5bd32e...</td>\n",
       "      <td>2438</td>\n",
       "      <td>[#pom, #멍스타그램, #pomeranian, #포메, #pet, #강아지모델,...</td>\n",
       "      <td>False</td>\n",
       "      <td>https://www.instagram.com/p/Ccg47zap-EJ/</td>\n",
       "      <td>https://scontent-gmp1-1.cdninstagram.com/v/t51...</td>\n",
       "      <td>반려동물</td>\n",
       "    </tr>\n",
       "    <tr>\n",
       "      <th>1</th>\n",
       "      <td>펫스타그램</td>\n",
       "      <td>ac8fc4dc-8179-4808-b8d5-ee141f4432f5.jpg</td>\n",
       "      <td>image/펫스타그램/ac8fc4dc-8179-4808-b8d5-ee141f4432...</td>\n",
       "      <td>2039</td>\n",
       "      <td>[#영화관, #동물스타그램, #반려견, #펫스타그램, #dog, #cat, #pet...</td>\n",
       "      <td>False</td>\n",
       "      <td>https://www.instagram.com/p/CchvCi7phd3/</td>\n",
       "      <td>https://scontent-gmp1-1.cdninstagram.com/v/t51...</td>\n",
       "      <td>반려동물</td>\n",
       "    </tr>\n",
       "    <tr>\n",
       "      <th>2</th>\n",
       "      <td>펫스타그램</td>\n",
       "      <td>b5500161-a207-4213-801b-396f4d1ef3eb.jpg</td>\n",
       "      <td>image/펫스타그램/b5500161-a207-4213-801b-396f4d1ef3...</td>\n",
       "      <td>50285</td>\n",
       "      <td>[#쁘띠아랑, #instadog, #팜므파탈백돼지걸, #반려견, #わんちゃん, #l...</td>\n",
       "      <td>False</td>\n",
       "      <td>https://www.instagram.com/p/Ccfd5SOpL2W/</td>\n",
       "      <td>https://scontent-gmp1-1.cdninstagram.com/v/t51...</td>\n",
       "      <td>반려동물</td>\n",
       "    </tr>\n",
       "    <tr>\n",
       "      <th>3</th>\n",
       "      <td>펫스타그램</td>\n",
       "      <td>d1697f81-06a1-4a8a-a5fa-1a764b28066a.jpg</td>\n",
       "      <td>image/펫스타그램/d1697f81-06a1-4a8a-a5fa-1a764b2806...</td>\n",
       "      <td>136</td>\n",
       "      <td>[#멍팔환영, #instadog, #petstagram, #l4l, #비숑프리제, ...</td>\n",
       "      <td>False</td>\n",
       "      <td>https://www.instagram.com/p/CcfPqzNJvRb/</td>\n",
       "      <td>https://scontent-gmp1-1.cdninstagram.com/v/t51...</td>\n",
       "      <td>반려동물</td>\n",
       "    </tr>\n",
       "    <tr>\n",
       "      <th>4</th>\n",
       "      <td>펫스타그램</td>\n",
       "      <td>5d6b1c34-0fda-4b69-8b52-157424878611.jpg</td>\n",
       "      <td>image/펫스타그램/5d6b1c34-0fda-4b69-8b52-1574248786...</td>\n",
       "      <td>28508</td>\n",
       "      <td>[#makji, #pet, #캣스타그램, #kitten, #반려묘, #무지, #mu...</td>\n",
       "      <td>False</td>\n",
       "      <td>https://www.instagram.com/p/CchmY14LZKL/</td>\n",
       "      <td>https://scontent-gmp1-1.cdninstagram.com/v/t51...</td>\n",
       "      <td>반려동물</td>\n",
       "    </tr>\n",
       "    <tr>\n",
       "      <th>...</th>\n",
       "      <td>...</td>\n",
       "      <td>...</td>\n",
       "      <td>...</td>\n",
       "      <td>...</td>\n",
       "      <td>...</td>\n",
       "      <td>...</td>\n",
       "      <td>...</td>\n",
       "      <td>...</td>\n",
       "      <td>...</td>\n",
       "    </tr>\n",
       "    <tr>\n",
       "      <th>8866</th>\n",
       "      <td>오늘뭐먹지</td>\n",
       "      <td>a6c55453-c60d-4ba4-9f6c-a44c6cd6105d.jpg</td>\n",
       "      <td>image/오늘뭐먹지/a6c55453-c60d-4ba4-9f6c-a44c6cd610...</td>\n",
       "      <td>17</td>\n",
       "      <td>[#편의점, #간식, #연휴, #데이트, #공스타그램, #유지어터, #헬스, #가족...</td>\n",
       "      <td>True</td>\n",
       "      <td>https://www.instagram.com/p/CdLQeQQlXPw/</td>\n",
       "      <td>https://scontent-gmp1-1.cdninstagram.com/v/t51...</td>\n",
       "      <td>음식</td>\n",
       "    </tr>\n",
       "    <tr>\n",
       "      <th>8867</th>\n",
       "      <td>오늘뭐먹지</td>\n",
       "      <td>4c0a252c-eed7-486e-b97b-a19b9564e957.jpg</td>\n",
       "      <td>image/오늘뭐먹지/4c0a252c-eed7-486e-b97b-a19b9564e9...</td>\n",
       "      <td>5</td>\n",
       "      <td>[#보라매맛집, #먹방, #신풍역맛집, #인기맛집, #외식, #술한잔, #신풍맛집원...</td>\n",
       "      <td>False</td>\n",
       "      <td>https://www.instagram.com/p/CdLQVjdhf-H/</td>\n",
       "      <td>https://scontent-gmp1-1.cdninstagram.com/v/t51...</td>\n",
       "      <td>음식</td>\n",
       "    </tr>\n",
       "    <tr>\n",
       "      <th>8868</th>\n",
       "      <td>오늘뭐먹지</td>\n",
       "      <td>72c3ba75-ab30-44e3-92fc-a9962fc2878d.jpg</td>\n",
       "      <td>image/오늘뭐먹지/72c3ba75-ab30-44e3-92fc-a9962fc287...</td>\n",
       "      <td>11</td>\n",
       "      <td>[#편의점, #맛스타그램, #먹방, #존맛탱, #불닭, #맛집스타그램, #foodp...</td>\n",
       "      <td>True</td>\n",
       "      <td>https://www.instagram.com/p/CdLQJ90p60Z/</td>\n",
       "      <td>https://scontent-gmp1-1.cdninstagram.com/v/t51...</td>\n",
       "      <td>음식</td>\n",
       "    </tr>\n",
       "    <tr>\n",
       "      <th>8869</th>\n",
       "      <td>오늘뭐먹지</td>\n",
       "      <td>e0dfbafe-3896-43ed-83b4-ed5b2cb9487b.jpg</td>\n",
       "      <td>image/오늘뭐먹지/e0dfbafe-3896-43ed-83b4-ed5b2cb948...</td>\n",
       "      <td>48</td>\n",
       "      <td>[#미식가, #유리잔, #여행스타그램, #제주카페투어, #나만의식탁, #제주감성카페...</td>\n",
       "      <td>False</td>\n",
       "      <td>https://www.instagram.com/p/CdLQMfoLQIi/</td>\n",
       "      <td>https://scontent-gmp1-1.cdninstagram.com/v/t51...</td>\n",
       "      <td>음식</td>\n",
       "    </tr>\n",
       "    <tr>\n",
       "      <th>8870</th>\n",
       "      <td>오늘뭐먹지</td>\n",
       "      <td>1f3fba66-9e57-4aa5-8529-04b3b98d0fa4.jpg</td>\n",
       "      <td>image/오늘뭐먹지/1f3fba66-9e57-4aa5-8529-04b3b98d0f...</td>\n",
       "      <td>35</td>\n",
       "      <td>[#금손, #리뷰, #체험단, #냉면맛집, #밀키트, #온더테이블, #만능육수, #...</td>\n",
       "      <td>False</td>\n",
       "      <td>https://www.instagram.com/p/CdLQVTUFkJR/</td>\n",
       "      <td>https://scontent-gmp1-1.cdninstagram.com/v/t51...</td>\n",
       "      <td>음식</td>\n",
       "    </tr>\n",
       "  </tbody>\n",
       "</table>\n",
       "<p>8871 rows × 9 columns</p>\n",
       "</div>"
      ],
      "text/plain": [
       "      검색키워드                                    이미지파일명  \\\n",
       "0     펫스타그램  af37feb6-2166-440a-9612-917e5bd32e99.jpg   \n",
       "1     펫스타그램  ac8fc4dc-8179-4808-b8d5-ee141f4432f5.jpg   \n",
       "2     펫스타그램  b5500161-a207-4213-801b-396f4d1ef3eb.jpg   \n",
       "3     펫스타그램  d1697f81-06a1-4a8a-a5fa-1a764b28066a.jpg   \n",
       "4     펫스타그램  5d6b1c34-0fda-4b69-8b52-157424878611.jpg   \n",
       "...     ...                                       ...   \n",
       "8866  오늘뭐먹지  a6c55453-c60d-4ba4-9f6c-a44c6cd6105d.jpg   \n",
       "8867  오늘뭐먹지  4c0a252c-eed7-486e-b97b-a19b9564e957.jpg   \n",
       "8868  오늘뭐먹지  72c3ba75-ab30-44e3-92fc-a9962fc2878d.jpg   \n",
       "8869  오늘뭐먹지  e0dfbafe-3896-43ed-83b4-ed5b2cb9487b.jpg   \n",
       "8870  오늘뭐먹지  1f3fba66-9e57-4aa5-8529-04b3b98d0fa4.jpg   \n",
       "\n",
       "                                                   파일경로    좋아요  \\\n",
       "0     image/펫스타그램/af37feb6-2166-440a-9612-917e5bd32e...   2438   \n",
       "1     image/펫스타그램/ac8fc4dc-8179-4808-b8d5-ee141f4432...   2039   \n",
       "2     image/펫스타그램/b5500161-a207-4213-801b-396f4d1ef3...  50285   \n",
       "3     image/펫스타그램/d1697f81-06a1-4a8a-a5fa-1a764b2806...    136   \n",
       "4     image/펫스타그램/5d6b1c34-0fda-4b69-8b52-1574248786...  28508   \n",
       "...                                                 ...    ...   \n",
       "8866  image/오늘뭐먹지/a6c55453-c60d-4ba4-9f6c-a44c6cd610...     17   \n",
       "8867  image/오늘뭐먹지/4c0a252c-eed7-486e-b97b-a19b9564e9...      5   \n",
       "8868  image/오늘뭐먹지/72c3ba75-ab30-44e3-92fc-a9962fc287...     11   \n",
       "8869  image/오늘뭐먹지/e0dfbafe-3896-43ed-83b4-ed5b2cb948...     48   \n",
       "8870  image/오늘뭐먹지/1f3fba66-9e57-4aa5-8529-04b3b98d0f...     35   \n",
       "\n",
       "                                                   해시태그  이미지한개  \\\n",
       "0     [#pom, #멍스타그램, #pomeranian, #포메, #pet, #강아지모델,...  False   \n",
       "1     [#영화관, #동물스타그램, #반려견, #펫스타그램, #dog, #cat, #pet...  False   \n",
       "2     [#쁘띠아랑, #instadog, #팜므파탈백돼지걸, #반려견, #わんちゃん, #l...  False   \n",
       "3     [#멍팔환영, #instadog, #petstagram, #l4l, #비숑프리제, ...  False   \n",
       "4     [#makji, #pet, #캣스타그램, #kitten, #반려묘, #무지, #mu...  False   \n",
       "...                                                 ...    ...   \n",
       "8866  [#편의점, #간식, #연휴, #데이트, #공스타그램, #유지어터, #헬스, #가족...   True   \n",
       "8867  [#보라매맛집, #먹방, #신풍역맛집, #인기맛집, #외식, #술한잔, #신풍맛집원...  False   \n",
       "8868  [#편의점, #맛스타그램, #먹방, #존맛탱, #불닭, #맛집스타그램, #foodp...   True   \n",
       "8869  [#미식가, #유리잔, #여행스타그램, #제주카페투어, #나만의식탁, #제주감성카페...  False   \n",
       "8870  [#금손, #리뷰, #체험단, #냉면맛집, #밀키트, #온더테이블, #만능육수, #...  False   \n",
       "\n",
       "                                        게시글url  \\\n",
       "0     https://www.instagram.com/p/Ccg47zap-EJ/   \n",
       "1     https://www.instagram.com/p/CchvCi7phd3/   \n",
       "2     https://www.instagram.com/p/Ccfd5SOpL2W/   \n",
       "3     https://www.instagram.com/p/CcfPqzNJvRb/   \n",
       "4     https://www.instagram.com/p/CchmY14LZKL/   \n",
       "...                                        ...   \n",
       "8866  https://www.instagram.com/p/CdLQeQQlXPw/   \n",
       "8867  https://www.instagram.com/p/CdLQVjdhf-H/   \n",
       "8868  https://www.instagram.com/p/CdLQJ90p60Z/   \n",
       "8869  https://www.instagram.com/p/CdLQMfoLQIi/   \n",
       "8870  https://www.instagram.com/p/CdLQVTUFkJR/   \n",
       "\n",
       "                                                 이미지url 메인키워드  \n",
       "0     https://scontent-gmp1-1.cdninstagram.com/v/t51...  반려동물  \n",
       "1     https://scontent-gmp1-1.cdninstagram.com/v/t51...  반려동물  \n",
       "2     https://scontent-gmp1-1.cdninstagram.com/v/t51...  반려동물  \n",
       "3     https://scontent-gmp1-1.cdninstagram.com/v/t51...  반려동물  \n",
       "4     https://scontent-gmp1-1.cdninstagram.com/v/t51...  반려동물  \n",
       "...                                                 ...   ...  \n",
       "8866  https://scontent-gmp1-1.cdninstagram.com/v/t51...    음식  \n",
       "8867  https://scontent-gmp1-1.cdninstagram.com/v/t51...    음식  \n",
       "8868  https://scontent-gmp1-1.cdninstagram.com/v/t51...    음식  \n",
       "8869  https://scontent-gmp1-1.cdninstagram.com/v/t51...    음식  \n",
       "8870  https://scontent-gmp1-1.cdninstagram.com/v/t51...    음식  \n",
       "\n",
       "[8871 rows x 9 columns]"
      ]
     },
     "execution_count": 5,
     "metadata": {},
     "output_type": "execute_result"
    }
   ],
   "source": [
    "DIR = 'preprocessed/dataframe'\n",
    "df = joblib.load(f'{DIR}/insta_df.pkl')"
   ]
  },
  {
   "cell_type": "markdown",
   "id": "62fb22ff",
   "metadata": {
    "id": "62fb22ff"
   },
   "source": [
    "# 저장경로 설정"
   ]
  },
  {
   "cell_type": "code",
   "execution_count": 6,
   "id": "3a7b4cc6",
   "metadata": {
    "ExecuteTime": {
     "end_time": "2022-05-07T05:47:21.769789Z",
     "start_time": "2022-05-07T05:47:21.756822Z"
    },
    "executionInfo": {
     "elapsed": 5,
     "status": "ok",
     "timestamp": 1650603072774,
     "user": {
      "displayName": "강준모",
      "userId": "14855937078495325719"
     },
     "user_tz": -540
    },
    "id": "3a7b4cc6"
   },
   "outputs": [],
   "source": [
    "DIR_SAVE = 'preprocessed/image'\n",
    "try:\n",
    "    os.makedirs(DIR_SAVE)\n",
    "except OSError:\n",
    "    print('이미 존재합니다')"
   ]
  },
  {
   "cell_type": "markdown",
   "id": "0a9115a1",
   "metadata": {
    "id": "0a9115a1"
   },
   "source": [
    "# 불러올 경로 설정"
   ]
  },
  {
   "cell_type": "code",
   "execution_count": 7,
   "id": "189817ba",
   "metadata": {
    "ExecuteTime": {
     "end_time": "2022-05-07T05:47:21.784749Z",
     "start_time": "2022-05-07T05:47:21.773776Z"
    },
    "executionInfo": {
     "elapsed": 6,
     "status": "ok",
     "timestamp": 1650603072775,
     "user": {
      "displayName": "강준모",
      "userId": "14855937078495325719"
     },
     "user_tz": -540
    },
    "id": "189817ba"
   },
   "outputs": [],
   "source": [
    "DIR_LOAD = 'image'"
   ]
  },
  {
   "cell_type": "markdown",
   "id": "9f2947cd",
   "metadata": {
    "id": "9f2947cd"
   },
   "source": [
    "# 이미지 옮겨심기"
   ]
  },
  {
   "cell_type": "code",
   "execution_count": 8,
   "id": "a12b6ad5",
   "metadata": {
    "ExecuteTime": {
     "end_time": "2022-05-07T05:59:30.715282Z",
     "start_time": "2022-05-07T05:47:21.790732Z"
    },
    "colab": {
     "base_uri": "https://localhost:8080/"
    },
    "executionInfo": {
     "elapsed": 1187979,
     "status": "ok",
     "timestamp": 1650604260749,
     "user": {
      "displayName": "강준모",
      "userId": "14855937078495325719"
     },
     "user_tz": -540
    },
    "id": "a12b6ad5",
    "outputId": "0f098b73-ee7f-4824-e993-f6a673588312"
   },
   "outputs": [
    {
     "name": "stdout",
     "output_type": "stream",
     "text": [
      "0\n",
      "100\n",
      "200\n",
      "300\n",
      "400\n",
      "에러발생1 [Errno 2] No such file or directory: 'image/반려동물/dbb97c72-e311-484e-8ccf-127220f541fb.jpg'\n",
      "에러발생2: 이미지가 음슴 HTTP Error 403: Forbidden\n",
      "500\n",
      "600\n",
      "700\n",
      "800\n",
      "900\n",
      "1000\n",
      "1100\n",
      "1200\n",
      "1300\n",
      "1400\n",
      "1500\n",
      "1600\n",
      "1700\n",
      "1800\n",
      "1900\n",
      "2000\n",
      "2100\n",
      "2200\n",
      "2300\n",
      "2400\n",
      "2500\n",
      "2600\n",
      "2700\n",
      "2800\n",
      "2900\n",
      "3000\n",
      "3100\n",
      "3200\n",
      "3300\n",
      "에러발생1 [Errno 2] No such file or directory: 'image/육아/f6b4e1a9-e3c1-4bd2-8a3c-4471bc45fb6f.jpg'\n",
      "에러발생2: 이미지가 음슴 HTTP Error 403: Forbidden\n",
      "3400\n",
      "에러발생1 [Errno 2] No such file or directory: 'image/육아그램/2905b076-fb69-44cf-8720-c926a19b9b30.jpg'\n",
      "에러발생2: 이미지가 음슴 HTTP Error 403: Forbidden\n",
      "3500\n",
      "에러발생1 [Errno 2] No such file or directory: 'image/육아그램/87b96660-5205-43cd-87db-f54ae481a496.jpg'\n",
      "에러발생2: 이미지가 음슴 HTTP Error 403: Forbidden\n",
      "3600\n",
      "3700\n",
      "3800\n",
      "3900\n",
      "4000\n",
      "4100\n",
      "4200\n",
      "4300\n",
      "4400\n",
      "4500\n",
      "4600\n",
      "4700\n",
      "에러발생1 [Errno 2] No such file or directory: 'image/육아인스타/50be5a98-3435-4bf3-b920-3d898947dde4.jpg'\n",
      "에러발생2: 이미지가 음슴 HTTP Error 403: Forbidden\n",
      "4800\n",
      "4900\n",
      "5000\n",
      "5100\n",
      "5200\n",
      "5300\n",
      "5400\n",
      "5500\n",
      "5600\n",
      "5700\n",
      "5800\n",
      "5900\n",
      "6000\n",
      "6100\n",
      "6200\n",
      "6300\n",
      "6400\n",
      "6500\n",
      "6600\n",
      "6700\n",
      "6800\n",
      "6900\n",
      "7000\n",
      "7100\n",
      "7200\n",
      "7300\n",
      "7400\n",
      "7500\n",
      "7600\n",
      "7700\n",
      "7800\n",
      "7900\n",
      "8000\n",
      "8100\n",
      "8200\n",
      "8300\n",
      "8400\n",
      "8500\n",
      "8600\n",
      "8700\n",
      "8800\n"
     ]
    },
    {
     "data": {
      "text/plain": [
       "['preprocessed/dataframe/insta_df.pkl']"
      ]
     },
     "execution_count": 8,
     "metadata": {},
     "output_type": "execute_result"
    }
   ],
   "source": [
    "i = 0\n",
    "for keyword, file_name, img_url in zip(df['검색키워드'], df['이미지파일명'], df['이미지url']):\n",
    "    try:\n",
    "        load_file_path = f'{DIR_LOAD}/{keyword}/{file_name}'\n",
    "        save_file_path = f'{DIR_SAVE}/'\n",
    "        shutil.copy2(load_file_path, save_file_path)\n",
    "    except Exception as ex:\n",
    "        try:\n",
    "            print('에러발생1', ex)\n",
    "            urlretrieve(img_url, f'{DIR_SAVE}/{file_name}')\n",
    "        except Exception as ex2:\n",
    "            print('에러발생2: 이미지가 음슴', ex2)\n",
    "            df.drop([i], axis=0, inplace=True) # 이미지를 넣을 수 없으면, 데이터프레임에서 아예 제외시킨다.\n",
    "            \n",
    "    if i%100 == 0:\n",
    "        print(i)\n",
    "        \n",
    "    i += 1\n",
    "df.reset_index(drop=True, inplace=True)\n",
    "joblib.dump(df, f'{DIR}/insta_df.pkl')"
   ]
  },
  {
   "cell_type": "code",
   "execution_count": null,
   "id": "1e972e95",
   "metadata": {},
   "outputs": [],
   "source": []
  }
 ],
 "metadata": {
  "colab": {
   "name": "(WARNING-RESET)데이터프레임에 존재하는 이미지만 따로 저장하기.ipynb",
   "provenance": []
  },
  "kernelspec": {
   "display_name": "Python 3 (ipykernel)",
   "language": "python",
   "name": "python3"
  },
  "language_info": {
   "codemirror_mode": {
    "name": "ipython",
    "version": 3
   },
   "file_extension": ".py",
   "mimetype": "text/x-python",
   "name": "python",
   "nbconvert_exporter": "python",
   "pygments_lexer": "ipython3",
   "version": "3.7.12"
  },
  "toc": {
   "base_numbering": 1,
   "nav_menu": {},
   "number_sections": true,
   "sideBar": true,
   "skip_h1_title": false,
   "title_cell": "Table of Contents",
   "title_sidebar": "Contents",
   "toc_cell": false,
   "toc_position": {},
   "toc_section_display": true,
   "toc_window_display": false
  },
  "varInspector": {
   "cols": {
    "lenName": 16,
    "lenType": 16,
    "lenVar": 40
   },
   "kernels_config": {
    "python": {
     "delete_cmd_postfix": "",
     "delete_cmd_prefix": "del ",
     "library": "var_list.py",
     "varRefreshCmd": "print(var_dic_list())"
    },
    "r": {
     "delete_cmd_postfix": ") ",
     "delete_cmd_prefix": "rm(",
     "library": "var_list.r",
     "varRefreshCmd": "cat(var_dic_list()) "
    }
   },
   "types_to_exclude": [
    "module",
    "function",
    "builtin_function_or_method",
    "instance",
    "_Feature"
   ],
   "window_display": false
  }
 },
 "nbformat": 4,
 "nbformat_minor": 5
}
