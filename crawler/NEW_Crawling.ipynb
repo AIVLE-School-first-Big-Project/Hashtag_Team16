{
 "cells": [
  {
   "cell_type": "markdown",
   "id": "b1ea37fd",
   "metadata": {},
   "source": [
    "* 하나의 검색 키워드에 대해서만 자동화(어러 종류의 주제를 한번에 크롤링 할 수 있게)"
   ]
  },
  {
   "cell_type": "markdown",
   "id": "6ec1f064",
   "metadata": {},
   "source": [
    "# import module"
   ]
  },
  {
   "cell_type": "code",
   "execution_count": 1,
   "id": "ec4de493",
   "metadata": {
    "ExecuteTime": {
     "end_time": "2022-04-18T01:00:49.146363Z",
     "start_time": "2022-04-18T01:00:48.533209Z"
    }
   },
   "outputs": [],
   "source": [
    "import pandas as pd\n",
    "import numpy as np\n",
    "import time\n",
    "import re\n",
    "import os\n",
    "import json\n",
    "from random import random\n",
    "from selenium.webdriver import Chrome\n",
    "from urllib.request import urlretrieve\n",
    "from uuid import uuid4\n",
    "from io import BytesIO\n",
    "\n",
    "from selenium import webdriver\n",
    "from selenium.webdriver.common.keys import Keys\n",
    "from selenium.webdriver.common.by import By\n",
    "import urllib.request"
   ]
  },
  {
   "cell_type": "markdown",
   "id": "16b5eff4",
   "metadata": {},
   "source": [
    "# 창 띄우기"
   ]
  },
  {
   "cell_type": "code",
   "execution_count": 2,
   "id": "1c530c9c",
   "metadata": {
    "ExecuteTime": {
     "end_time": "2022-04-18T01:00:51.703384Z",
     "start_time": "2022-04-18T01:00:51.689419Z"
    }
   },
   "outputs": [],
   "source": [
    "# from selenium import webdriver\n",
    "# from selenium.webdriver.chrome.service import Service\n",
    "# from webdriver_manager.chrome import ChromeDriverManager\n",
    "\n",
    "# def set_chrome_driver():\n",
    "#     chrome_options = webdriver.ChromeOptions()\n",
    "#     driver = webdriver.Chrome(service=Service(ChromeDriverManager().install()), options=chrome_options)\n",
    "#     return driver"
   ]
  },
  {
   "cell_type": "code",
   "execution_count": 3,
   "id": "119e5aeb",
   "metadata": {
    "ExecuteTime": {
     "end_time": "2022-04-18T01:00:52.607549Z",
     "start_time": "2022-04-18T01:00:52.593556Z"
    }
   },
   "outputs": [],
   "source": [
    "def open_browser():\n",
    "    browser = Chrome(\"chromedriver.exe\") # 입력\n",
    "    browser.get(\"https://www.instagram.com/accounts/login/?hl=ko&source=auth_switcher\")\n",
    "    return browser"
   ]
  },
  {
   "cell_type": "markdown",
   "id": "7f8937d9",
   "metadata": {},
   "source": [
    "# Login"
   ]
  },
  {
   "cell_type": "code",
   "execution_count": 4,
   "id": "9d6b090a",
   "metadata": {
    "ExecuteTime": {
     "end_time": "2022-04-18T01:00:53.530243Z",
     "start_time": "2022-04-18T01:00:53.511294Z"
    }
   },
   "outputs": [],
   "source": [
    "def login(browser):\n",
    "    id=\"dg1dgu\" # 입력\n",
    "    pwd=\"DGU1dgu1\" # 입력\n",
    "    input_id=browser.find_element(By.XPATH,'//*[@id=\"loginForm\"]/div/div[1]/div/label/input') #아이디 입럭 객체 선택\n",
    "    input_pwd=browser.find_element(By.XPATH, '//*[@id=\"loginForm\"]/div/div[2]/div/label/input') #패스워드 입력 객체 선택\n",
    "    input_id.send_keys(id)\n",
    "    input_pwd.send_keys(pwd)\n",
    "    time.sleep(1)\n",
    "    \n",
    "    browser.find_element(By.XPATH,'//*[@id=\"loginForm\"]/div/div[3]/button/div').click() #로그인 버튼 클릭\n",
    "    time.sleep(5)\n",
    "    \n",
    "    browser.find_element(By.XPATH,'//*[@id=\"react-root\"]/section/main/div/div/div/div/button').click() #로그인정보 저장 나중에하기 버튼\n",
    "    "
   ]
  },
  {
   "cell_type": "markdown",
   "id": "e5419b42",
   "metadata": {},
   "source": [
    "# 검색키워드 검색"
   ]
  },
  {
   "cell_type": "code",
   "execution_count": 5,
   "id": "3c3c2556",
   "metadata": {
    "ExecuteTime": {
     "end_time": "2022-04-18T01:00:54.669453Z",
     "start_time": "2022-04-18T01:00:54.645516Z"
    }
   },
   "outputs": [],
   "source": [
    "def search_keyword(browser, keyword):\n",
    "    url = f\"https://www.instagram.com/explore/tags/{keyword}/\"\n",
    "    browser.get(url)"
   ]
  },
  {
   "cell_type": "markdown",
   "id": "6f2d0403",
   "metadata": {},
   "source": [
    "# 첫번째 게시글 오픈"
   ]
  },
  {
   "cell_type": "code",
   "execution_count": 6,
   "id": "5b74fbe2",
   "metadata": {
    "ExecuteTime": {
     "end_time": "2022-04-18T01:00:56.035568Z",
     "start_time": "2022-04-18T01:00:56.015622Z"
    }
   },
   "outputs": [],
   "source": [
    "def open_first_post(browser):\n",
    "    first_post = browser.find_elements_by_class_name(\"_9AhH0\")[0]\n",
    "    print(type(first_post))\n",
    "    print(first_post)\n",
    "    browser.execute_script(\"arguments[0].click();\",first_post)"
   ]
  },
  {
   "cell_type": "markdown",
   "id": "9e84b847",
   "metadata": {},
   "source": [
    "# 좋아요 출력(넘기면서 반복)"
   ]
  },
  {
   "cell_type": "code",
   "execution_count": 17,
   "id": "c5402c5e",
   "metadata": {
    "ExecuteTime": {
     "end_time": "2022-04-18T01:03:20.931619Z",
     "start_time": "2022-04-18T01:03:20.922587Z"
    }
   },
   "outputs": [],
   "source": [
    "def get_likes(browser):\n",
    "    try:\n",
    "        like = browser.find_element_by_xpath('/html/body/div[6]/div[3]/div/article/div/div[2]/div/div/div[2]/section[2]/div/div/div/a/div/span')\n",
    "        like = like.text.replace(',', '')\n",
    "        likes = int(like)\n",
    "        return likes\n",
    "    except Exception as ex:\n",
    "        print(\"get_likes 에러발생\", ex)\n",
    "        return \"NaN\""
   ]
  },
  {
   "cell_type": "markdown",
   "id": "e19d1ad2",
   "metadata": {},
   "source": [
    "# 이미지 URL, 파일명 출력(넘기면서 반복)"
   ]
  },
  {
   "cell_type": "markdown",
   "id": "30154e63",
   "metadata": {},
   "source": [
    "* https://mizykk.tistory.com/55\n",
    "* openCV를 이용해서 이미지 중복을 처리할 수 있을 듯."
   ]
  },
  {
   "cell_type": "code",
   "execution_count": 9,
   "id": "36790afb",
   "metadata": {
    "ExecuteTime": {
     "end_time": "2022-04-18T01:00:59.599001Z",
     "start_time": "2022-04-18T01:00:59.588014Z"
    }
   },
   "outputs": [
    {
     "data": {
      "text/plain": [
       "'\\n# 앞-현재-뒤 이렇게 컨텐츠가 넘어옴\\nimg = browser.find_element_by_class_name(\"RnEpo\")\\nimg = img.find_elements_by_class_name(\\'KL4Bh\\') # 동영상이면 \\nimg_url = img[0].find_element_by_tag_name(\\'img\\').get_attribute(\"src\") #동영상이면 list index out of range 에러뜸\\nimg_url\\n'"
      ]
     },
     "execution_count": 9,
     "metadata": {},
     "output_type": "execute_result"
    }
   ],
   "source": [
    "'''\n",
    "# 앞-현재-뒤 이렇게 컨텐츠가 넘어옴\n",
    "img = browser.find_element_by_class_name(\"RnEpo\")\n",
    "img = img.find_elements_by_class_name('KL4Bh') # 동영상이면 \n",
    "img_url = img[0].find_element_by_tag_name('img').get_attribute(\"src\") #동영상이면 list index out of range 에러뜸\n",
    "img_url\n",
    "'''"
   ]
  },
  {
   "cell_type": "code",
   "execution_count": 10,
   "id": "f455add1",
   "metadata": {
    "ExecuteTime": {
     "end_time": "2022-04-18T01:01:00.463047Z",
     "start_time": "2022-04-18T01:01:00.447086Z"
    }
   },
   "outputs": [],
   "source": [
    "def get_image_url(browser, keyword):\n",
    "    try:\n",
    "        #img = browser.find_elements_by_class_name(\"KL4Bh\") #이렇게 되면 마지막 놈이 뜸. 동영상은 처리 못함.\n",
    "        img = browser.find_element_by_class_name(\"RnEpo\")\n",
    "        img = img.find_elements_by_class_name('KL4Bh') # 동영상이면 \n",
    "        #img_url = img[-1].find_element_by_css_selector(\"article img\").get_attribute(\"src\")\n",
    "        img_url = img[0].find_element_by_tag_name('img').get_attribute(\"src\")\n",
    "\n",
    "        uuid =uuid4() #유일한 이름 할당. 중복\n",
    "        #urlretrieve(img_url, f\"data/{keyword}/{uuid}.jpg\") #이건 다운로드\n",
    "        img_name = f\"{uuid}.jpg\"\n",
    "        return img_url, img_name\n",
    "    \n",
    "    except Exception as ex:\n",
    "        #에러가 발생하면 img_name이 \"NaN\"으로 출력됨.\n",
    "        print(\"get_image 에러발생\", ex)\n",
    "        return \"NaN\", \"NaN\""
   ]
  },
  {
   "cell_type": "code",
   "execution_count": 11,
   "id": "35418542",
   "metadata": {
    "ExecuteTime": {
     "end_time": "2022-04-18T01:01:00.900864Z",
     "start_time": "2022-04-18T01:01:00.891877Z"
    }
   },
   "outputs": [
    {
     "name": "stdout",
     "output_type": "stream",
     "text": [
      "nan\n"
     ]
    }
   ],
   "source": [
    "print(np.nan)"
   ]
  },
  {
   "cell_type": "markdown",
   "id": "285bc9a3",
   "metadata": {},
   "source": [
    "# 이미지 저장 및 파일명 출력(넘기면서 반복)"
   ]
  },
  {
   "cell_type": "code",
   "execution_count": 12,
   "id": "f2d3b8b2",
   "metadata": {
    "ExecuteTime": {
     "end_time": "2022-04-18T01:01:02.731427Z",
     "start_time": "2022-04-18T01:01:02.721454Z"
    }
   },
   "outputs": [],
   "source": [
    "def save_image(browser, img_url, keyword, img_name):\n",
    "    save_path = f\"data/{keyword}/{img_name}\"\n",
    "    urlretrieve(img_url, save_path)\n",
    "    print(f\"{save_path}에 저장완료\")"
   ]
  },
  {
   "cell_type": "markdown",
   "id": "7cea641f",
   "metadata": {},
   "source": [
    "# 해시태그 출력(NaN 확인 필요) (넘기면서 반복)"
   ]
  },
  {
   "cell_type": "code",
   "execution_count": 13,
   "id": "0af1df8e",
   "metadata": {
    "ExecuteTime": {
     "end_time": "2022-04-18T01:01:04.017353Z",
     "start_time": "2022-04-18T01:01:04.001396Z"
    }
   },
   "outputs": [],
   "source": [
    "def get_hashtag(browser):\n",
    "    components = browser.find_elements_by_class_name(\"xil3i\")\n",
    "    #components = browser.find_elements(By.CSS_SELECTOR, \"xil3i\") #안되는건가?\n",
    "    if len(components) != 0:\n",
    "        \n",
    "        try:\n",
    "            all_hashtags = [component.text for component in components]\n",
    "            if len(all_hashtags) > 0: #해시태그가 없으면 빈 리스트 출력\n",
    "                return list(set(all_hashtags))\n",
    "            else:\n",
    "                return \"NaN\"\n",
    "        \n",
    "        except Exception as ex:\n",
    "            print(\"get_hashtags 에러발생\", ex)\n",
    "            return \"NaN\""
   ]
  },
  {
   "cell_type": "markdown",
   "id": "ddf34ef1",
   "metadata": {},
   "source": [
    "# 데이터프레임으로 출력&이미지 저장(넘기면서 반복)"
   ]
  },
  {
   "cell_type": "markdown",
   "id": "7ffd5192",
   "metadata": {},
   "source": [
    "| 검색키워드 | 이미지파일명 | 좋아요 | 해시태그 |\n",
    "| --- | --- | --- | --- |\n",
    "| 음식스타그램 | asdiim23mmfs.jpg | 좋아요 | #tag1 #tag2 ... |\n",
    "\n",
    "이런식으로 하면 될라나"
   ]
  },
  {
   "cell_type": "code",
   "execution_count": 18,
   "id": "ae1edec4",
   "metadata": {
    "ExecuteTime": {
     "end_time": "2022-04-18T01:03:35.642357Z",
     "start_time": "2022-04-18T01:03:35.621427Z"
    }
   },
   "outputs": [],
   "source": [
    "def output_df(browser, keyword):\n",
    "    try:\n",
    "        # 현재페이지의 #\n",
    "        #1. 좋아요 가져오기\n",
    "        likes = get_likes(browser)\n",
    "        #2. 이미지 파일명 가져오기\n",
    "        img_url, img_name = get_image_url(browser, keyword)\n",
    "        #3. 이미지 저장하기\n",
    "        save_image(browser, img_url, keyword, img_name)\n",
    "        #4. 해시태그 가져오기\n",
    "        hashtags = get_hashtag(browser)\n",
    "        \n",
    "        #5. 한 행의 데이터프레임 생성\n",
    "        df = pd.DataFrame([[keyword, img_name, likes, hashtags]],\n",
    "                         columns=['검색키워드', '이미지파일명', '좋아요', '해시태그'])\n",
    "    \n",
    "    except Exception as ex:\n",
    "        print(\"get_hashtags 에러발생\", ex)\n",
    "        df = pd.DataFrame([['NaN', 'NaN', 'NaN', 'NaN']],\n",
    "                         columns=['검색키워드', '이미지파일명', '좋아요', '해시태그'])\n",
    "        \n",
    "    return df"
   ]
  },
  {
   "cell_type": "markdown",
   "id": "a7d6cfe2",
   "metadata": {},
   "source": [
    "# 페이지 넘기기"
   ]
  },
  {
   "cell_type": "code",
   "execution_count": 21,
   "id": "f15444f0",
   "metadata": {
    "ExecuteTime": {
     "end_time": "2022-04-18T01:06:59.390169Z",
     "start_time": "2022-04-18T01:06:59.379206Z"
    }
   },
   "outputs": [],
   "source": [
    "def next_page(browser):\n",
    "    next_buttons = browser.find_elements_by_xpath('/html/body/div[6]/div[2]/div/div')\n",
    "    if len(next_buttons) == 2:\n",
    "        next_button = next_buttons[1]\n",
    "    else:\n",
    "        next_button = next2[0]\n",
    "    next_button.click()"
   ]
  },
  {
   "cell_type": "markdown",
   "id": "cf606269",
   "metadata": {},
   "source": [
    "# 자동실행"
   ]
  },
  {
   "cell_type": "code",
   "execution_count": 123,
   "id": "546db4b3",
   "metadata": {
    "ExecuteTime": {
     "end_time": "2022-04-17T10:53:46.991803Z",
     "start_time": "2022-04-17T10:53:46.835654Z"
    }
   },
   "outputs": [],
   "source": [
    "save_image(browser, '음식스타그램', img_name, img_url)"
   ]
  },
  {
   "cell_type": "code",
   "execution_count": 126,
   "id": "efde8602",
   "metadata": {
    "ExecuteTime": {
     "end_time": "2022-04-17T10:54:36.125074Z",
     "start_time": "2022-04-17T10:54:36.101138Z"
    }
   },
   "outputs": [
    {
     "data": {
      "text/plain": [
       "'622866a2-83c2-4609-a64b-7c1ae46deb8c.jpg'"
      ]
     },
     "execution_count": 126,
     "metadata": {},
     "output_type": "execute_result"
    }
   ],
   "source": [
    "img_name"
   ]
  },
  {
   "cell_type": "code",
   "execution_count": 132,
   "id": "24339f95",
   "metadata": {
    "ExecuteTime": {
     "end_time": "2022-04-17T11:02:36.894064Z",
     "start_time": "2022-04-17T11:02:35.511542Z"
    }
   },
   "outputs": [
    {
     "name": "stderr",
     "output_type": "stream",
     "text": [
      "C:\\Users\\User\\AppData\\Local\\Temp\\ipykernel_16500\\3343204787.py:5: DeprecationWarning: find_elements_by_* commands are deprecated. Please use find_elements() instead\n",
      "  plus = browser.find_elements_by_class_name(\"xil3i\") #해쉬태그 클래스\n",
      "C:\\Users\\User\\AppData\\Local\\Temp\\ipykernel_16500\\3343204787.py:8: DeprecationWarning: find_elements_by_* commands are deprecated. Please use find_elements() instead\n",
      "  plus = browser.find_elements_by_class_name(\"xil3i\")\n",
      "C:\\Users\\User\\AppData\\Local\\Temp\\ipykernel_16500\\3343204787.py:12: DeprecationWarning: find_elements_by_* commands are deprecated. Please use find_elements() instead\n",
      "  comments = browser.find_elements_by_class_name(\"EtaWk\")\n"
     ]
    }
   ],
   "source": [
    "out = get_hashtag(browser)"
   ]
  },
  {
   "cell_type": "code",
   "execution_count": 129,
   "id": "1e6d8452",
   "metadata": {
    "ExecuteTime": {
     "end_time": "2022-04-17T11:00:09.176478Z",
     "start_time": "2022-04-17T11:00:09.161528Z"
    }
   },
   "outputs": [
    {
     "data": {
      "text/plain": [
       "[]"
      ]
     },
     "execution_count": 129,
     "metadata": {},
     "output_type": "execute_result"
    }
   ],
   "source": [
    "out"
   ]
  },
  {
   "cell_type": "code",
   "execution_count": 15,
   "id": "e6147e55",
   "metadata": {
    "ExecuteTime": {
     "end_time": "2022-04-18T01:01:59.136824Z",
     "start_time": "2022-04-18T01:01:13.958583Z"
    }
   },
   "outputs": [
    {
     "name": "stderr",
     "output_type": "stream",
     "text": [
      "C:\\Users\\User\\AppData\\Local\\Temp\\ipykernel_23460\\1755654433.py:2: DeprecationWarning: executable_path has been deprecated, please pass in a Service object\n",
      "  browser = Chrome(\"chromedriver.exe\") # 입력\n",
      "C:\\Users\\User\\AppData\\Local\\Temp\\ipykernel_23460\\1391365862.py:2: DeprecationWarning: find_elements_by_* commands are deprecated. Please use find_elements() instead\n",
      "  first_post = browser.find_elements_by_class_name(\"_9AhH0\")[0]\n"
     ]
    },
    {
     "name": "stdout",
     "output_type": "stream",
     "text": [
      "<class 'selenium.webdriver.remote.webelement.WebElement'>\n",
      "<selenium.webdriver.remote.webelement.WebElement (session=\"44e911c0b6985646718e4b9dfb9baf96\", element=\"2dfa973a-5c64-4697-a1bd-f7a4826cbe87\")>\n"
     ]
    }
   ],
   "source": [
    "browser = open_browser()\n",
    "time.sleep(2)\n",
    "\n",
    "login(browser)\n",
    "time.sleep(3)\n",
    "\n",
    "search_keyword(browser, keyword='음식스타그램')\n",
    "time.sleep(10) #첫 검색은 상당히 오래 걸릴 수 있음.\n",
    "# time.sleep(5 + (random() * 5))\n",
    "\n",
    "open_first_post(browser)\n",
    "time.sleep(5 + (random() * 5))\n",
    "###### 여기서부터 게시물 넘겨가면서 반복 #####"
   ]
  },
  {
   "cell_type": "code",
   "execution_count": null,
   "id": "9997c479",
   "metadata": {},
   "outputs": [],
   "source": []
  }
 ],
 "metadata": {
  "kernelspec": {
   "display_name": "Python 3 (ipykernel)",
   "language": "python",
   "name": "python3"
  },
  "language_info": {
   "codemirror_mode": {
    "name": "ipython",
    "version": 3
   },
   "file_extension": ".py",
   "mimetype": "text/x-python",
   "name": "python",
   "nbconvert_exporter": "python",
   "pygments_lexer": "ipython3",
   "version": "3.9.10"
  },
  "toc": {
   "base_numbering": 1,
   "nav_menu": {},
   "number_sections": true,
   "sideBar": true,
   "skip_h1_title": false,
   "title_cell": "Table of Contents",
   "title_sidebar": "Contents",
   "toc_cell": false,
   "toc_position": {
    "height": "calc(100% - 180px)",
    "left": "10px",
    "top": "150px",
    "width": "312.331px"
   },
   "toc_section_display": true,
   "toc_window_display": true
  },
  "varInspector": {
   "cols": {
    "lenName": 16,
    "lenType": 16,
    "lenVar": 40
   },
   "kernels_config": {
    "python": {
     "delete_cmd_postfix": "",
     "delete_cmd_prefix": "del ",
     "library": "var_list.py",
     "varRefreshCmd": "print(var_dic_list())"
    },
    "r": {
     "delete_cmd_postfix": ") ",
     "delete_cmd_prefix": "rm(",
     "library": "var_list.r",
     "varRefreshCmd": "cat(var_dic_list()) "
    }
   },
   "types_to_exclude": [
    "module",
    "function",
    "builtin_function_or_method",
    "instance",
    "_Feature"
   ],
   "window_display": false
  }
 },
 "nbformat": 4,
 "nbformat_minor": 5
}
